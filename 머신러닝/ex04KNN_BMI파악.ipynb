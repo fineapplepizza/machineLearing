{
 "cells": [
  {
   "cell_type": "code",
   "execution_count": 64,
   "metadata": {},
   "outputs": [],
   "source": [
    "import pandas as pd\n",
    "import matplotlib.pyplot as plt\n",
    "from sklearn.neighbors import KNeighborsClassifier\n",
    "from sklearn.model_selection import train_test_split"
   ]
  },
  {
   "cell_type": "markdown",
   "metadata": {},
   "source": [
    "# 1. 문제정의\n",
    "- 500명의 키와 몸무게, 비만도 라벨을 통해서 비만을 판단하는 모델을 만들어보자"
   ]
  },
  {
   "cell_type": "markdown",
   "metadata": {},
   "source": [
    "# 2. 데이터 수집\n",
    "- bmi_500.csv 불러오기"
   ]
  },
  {
   "cell_type": "code",
   "execution_count": 4,
   "metadata": {},
   "outputs": [
    {
     "data": {
      "text/html": [
       "<div>\n",
       "<style scoped>\n",
       "    .dataframe tbody tr th:only-of-type {\n",
       "        vertical-align: middle;\n",
       "    }\n",
       "\n",
       "    .dataframe tbody tr th {\n",
       "        vertical-align: top;\n",
       "    }\n",
       "\n",
       "    .dataframe thead th {\n",
       "        text-align: right;\n",
       "    }\n",
       "</style>\n",
       "<table border=\"1\" class=\"dataframe\">\n",
       "  <thead>\n",
       "    <tr style=\"text-align: right;\">\n",
       "      <th></th>\n",
       "      <th>Gender</th>\n",
       "      <th>Height</th>\n",
       "      <th>Weight</th>\n",
       "    </tr>\n",
       "    <tr>\n",
       "      <th>Label</th>\n",
       "      <th></th>\n",
       "      <th></th>\n",
       "      <th></th>\n",
       "    </tr>\n",
       "  </thead>\n",
       "  <tbody>\n",
       "    <tr>\n",
       "      <th>Obesity</th>\n",
       "      <td>Male</td>\n",
       "      <td>174</td>\n",
       "      <td>96</td>\n",
       "    </tr>\n",
       "    <tr>\n",
       "      <th>Normal</th>\n",
       "      <td>Male</td>\n",
       "      <td>189</td>\n",
       "      <td>87</td>\n",
       "    </tr>\n",
       "    <tr>\n",
       "      <th>Obesity</th>\n",
       "      <td>Female</td>\n",
       "      <td>185</td>\n",
       "      <td>110</td>\n",
       "    </tr>\n",
       "    <tr>\n",
       "      <th>Overweight</th>\n",
       "      <td>Female</td>\n",
       "      <td>195</td>\n",
       "      <td>104</td>\n",
       "    </tr>\n",
       "    <tr>\n",
       "      <th>Overweight</th>\n",
       "      <td>Male</td>\n",
       "      <td>149</td>\n",
       "      <td>61</td>\n",
       "    </tr>\n",
       "  </tbody>\n",
       "</table>\n",
       "</div>"
      ],
      "text/plain": [
       "            Gender  Height  Weight\n",
       "Label                             \n",
       "Obesity       Male     174      96\n",
       "Normal        Male     189      87\n",
       "Obesity     Female     185     110\n",
       "Overweight  Female     195     104\n",
       "Overweight    Male     149      61"
      ]
     },
     "execution_count": 4,
     "metadata": {},
     "output_type": "execute_result"
    }
   ],
   "source": [
    "data= pd.read_csv(\"bmi_500.csv\",index_col = 'Label') # label컬럼 인덱스로 만들기\n",
    "data.head()"
   ]
  },
  {
   "cell_type": "code",
   "execution_count": 8,
   "metadata": {},
   "outputs": [
    {
     "data": {
      "text/html": [
       "<div>\n",
       "<style scoped>\n",
       "    .dataframe tbody tr th:only-of-type {\n",
       "        vertical-align: middle;\n",
       "    }\n",
       "\n",
       "    .dataframe tbody tr th {\n",
       "        vertical-align: top;\n",
       "    }\n",
       "\n",
       "    .dataframe thead th {\n",
       "        text-align: right;\n",
       "    }\n",
       "</style>\n",
       "<table border=\"1\" class=\"dataframe\">\n",
       "  <thead>\n",
       "    <tr style=\"text-align: right;\">\n",
       "      <th></th>\n",
       "      <th>Gender</th>\n",
       "      <th>Height</th>\n",
       "      <th>Weight</th>\n",
       "    </tr>\n",
       "    <tr>\n",
       "      <th>Label</th>\n",
       "      <th></th>\n",
       "      <th></th>\n",
       "      <th></th>\n",
       "    </tr>\n",
       "  </thead>\n",
       "  <tbody>\n",
       "    <tr>\n",
       "      <th>Normal</th>\n",
       "      <td>Male</td>\n",
       "      <td>189</td>\n",
       "      <td>87</td>\n",
       "    </tr>\n",
       "    <tr>\n",
       "      <th>Normal</th>\n",
       "      <td>Male</td>\n",
       "      <td>195</td>\n",
       "      <td>81</td>\n",
       "    </tr>\n",
       "    <tr>\n",
       "      <th>Normal</th>\n",
       "      <td>Male</td>\n",
       "      <td>155</td>\n",
       "      <td>51</td>\n",
       "    </tr>\n",
       "    <tr>\n",
       "      <th>Normal</th>\n",
       "      <td>Male</td>\n",
       "      <td>191</td>\n",
       "      <td>79</td>\n",
       "    </tr>\n",
       "    <tr>\n",
       "      <th>Normal</th>\n",
       "      <td>Female</td>\n",
       "      <td>172</td>\n",
       "      <td>67</td>\n",
       "    </tr>\n",
       "    <tr>\n",
       "      <th>...</th>\n",
       "      <td>...</td>\n",
       "      <td>...</td>\n",
       "      <td>...</td>\n",
       "    </tr>\n",
       "    <tr>\n",
       "      <th>Normal</th>\n",
       "      <td>Female</td>\n",
       "      <td>178</td>\n",
       "      <td>65</td>\n",
       "    </tr>\n",
       "    <tr>\n",
       "      <th>Normal</th>\n",
       "      <td>Male</td>\n",
       "      <td>167</td>\n",
       "      <td>64</td>\n",
       "    </tr>\n",
       "    <tr>\n",
       "      <th>Normal</th>\n",
       "      <td>Female</td>\n",
       "      <td>151</td>\n",
       "      <td>55</td>\n",
       "    </tr>\n",
       "    <tr>\n",
       "      <th>Normal</th>\n",
       "      <td>Male</td>\n",
       "      <td>187</td>\n",
       "      <td>80</td>\n",
       "    </tr>\n",
       "    <tr>\n",
       "      <th>Normal</th>\n",
       "      <td>Female</td>\n",
       "      <td>164</td>\n",
       "      <td>59</td>\n",
       "    </tr>\n",
       "  </tbody>\n",
       "</table>\n",
       "<p>69 rows × 3 columns</p>\n",
       "</div>"
      ],
      "text/plain": [
       "        Gender  Height  Weight\n",
       "Label                         \n",
       "Normal    Male     189      87\n",
       "Normal    Male     195      81\n",
       "Normal    Male     155      51\n",
       "Normal    Male     191      79\n",
       "Normal  Female     172      67\n",
       "...        ...     ...     ...\n",
       "Normal  Female     178      65\n",
       "Normal    Male     167      64\n",
       "Normal  Female     151      55\n",
       "Normal    Male     187      80\n",
       "Normal  Female     164      59\n",
       "\n",
       "[69 rows x 3 columns]"
      ]
     },
     "execution_count": 8,
     "metadata": {},
     "output_type": "execute_result"
    }
   ],
   "source": [
    "# 인덱서를 사용해서 \n",
    "# 인덱서 : 데이터 프레임에서 행/열단위로 데이터를 불러오기\n",
    "# loc인덱서:[행,열] 행과 열에 대한 이름 data.loc['Overweight','Height']\n",
    "# iloc인덱서: [행,열] 행과 열에대한 번호 data.iloc[3,1]\n",
    "# lavel 이 normal 인것만 출력하기\n",
    "data.loc['Normal',:] # :은 전체라는 의미"
   ]
  },
  {
   "cell_type": "markdown",
   "metadata": {},
   "source": [
    "# 3.데이터 전처리"
   ]
  },
  {
   "cell_type": "code",
   "execution_count": 10,
   "metadata": {},
   "outputs": [
    {
     "name": "stdout",
     "output_type": "stream",
     "text": [
      "<class 'pandas.core.frame.DataFrame'>\n",
      "Index: 500 entries, Obesity to Extreme Obesity\n",
      "Data columns (total 3 columns):\n",
      " #   Column  Non-Null Count  Dtype \n",
      "---  ------  --------------  ----- \n",
      " 0   Gender  500 non-null    object\n",
      " 1   Height  500 non-null    int64 \n",
      " 2   Weight  500 non-null    int64 \n",
      "dtypes: int64(2), object(1)\n",
      "memory usage: 25.6+ KB\n"
     ]
    }
   ],
   "source": [
    "# 결측치, 데이터 타입 확인\n",
    "data.info()"
   ]
  },
  {
   "cell_type": "code",
   "execution_count": 11,
   "metadata": {},
   "outputs": [
    {
     "data": {
      "text/html": [
       "<div>\n",
       "<style scoped>\n",
       "    .dataframe tbody tr th:only-of-type {\n",
       "        vertical-align: middle;\n",
       "    }\n",
       "\n",
       "    .dataframe tbody tr th {\n",
       "        vertical-align: top;\n",
       "    }\n",
       "\n",
       "    .dataframe thead th {\n",
       "        text-align: right;\n",
       "    }\n",
       "</style>\n",
       "<table border=\"1\" class=\"dataframe\">\n",
       "  <thead>\n",
       "    <tr style=\"text-align: right;\">\n",
       "      <th></th>\n",
       "      <th>Height</th>\n",
       "      <th>Weight</th>\n",
       "    </tr>\n",
       "  </thead>\n",
       "  <tbody>\n",
       "    <tr>\n",
       "      <th>count</th>\n",
       "      <td>500.000000</td>\n",
       "      <td>500.000000</td>\n",
       "    </tr>\n",
       "    <tr>\n",
       "      <th>mean</th>\n",
       "      <td>169.944000</td>\n",
       "      <td>106.000000</td>\n",
       "    </tr>\n",
       "    <tr>\n",
       "      <th>std</th>\n",
       "      <td>16.375261</td>\n",
       "      <td>32.382607</td>\n",
       "    </tr>\n",
       "    <tr>\n",
       "      <th>min</th>\n",
       "      <td>140.000000</td>\n",
       "      <td>50.000000</td>\n",
       "    </tr>\n",
       "    <tr>\n",
       "      <th>25%</th>\n",
       "      <td>156.000000</td>\n",
       "      <td>80.000000</td>\n",
       "    </tr>\n",
       "    <tr>\n",
       "      <th>50%</th>\n",
       "      <td>170.500000</td>\n",
       "      <td>106.000000</td>\n",
       "    </tr>\n",
       "    <tr>\n",
       "      <th>75%</th>\n",
       "      <td>184.000000</td>\n",
       "      <td>136.000000</td>\n",
       "    </tr>\n",
       "    <tr>\n",
       "      <th>max</th>\n",
       "      <td>199.000000</td>\n",
       "      <td>160.000000</td>\n",
       "    </tr>\n",
       "  </tbody>\n",
       "</table>\n",
       "</div>"
      ],
      "text/plain": [
       "           Height      Weight\n",
       "count  500.000000  500.000000\n",
       "mean   169.944000  106.000000\n",
       "std     16.375261   32.382607\n",
       "min    140.000000   50.000000\n",
       "25%    156.000000   80.000000\n",
       "50%    170.500000  106.000000\n",
       "75%    184.000000  136.000000\n",
       "max    199.000000  160.000000"
      ]
     },
     "execution_count": 11,
     "metadata": {},
     "output_type": "execute_result"
    }
   ],
   "source": [
    "# 기술통계 확인, 이상치 여부\n",
    "data.describe() "
   ]
  },
  {
   "cell_type": "markdown",
   "metadata": {},
   "source": [
    "### 4. 탐색적 데이터 분석(EDA)\n",
    "- 각 비만도 등급별로 시각화"
   ]
  },
  {
   "cell_type": "code",
   "execution_count": 25,
   "metadata": {},
   "outputs": [
    {
     "data": {
      "text/plain": [
       "Index(['Obesity', 'Normal', 'Overweight', 'Extreme Obesity', 'Weak',\n",
       "       'Extremely Weak'],\n",
       "      dtype='object', name='Label')"
      ]
     },
     "execution_count": 25,
     "metadata": {},
     "output_type": "execute_result"
    }
   ],
   "source": [
    "data.index.unique()"
   ]
  },
  {
   "cell_type": "code",
   "execution_count": 33,
   "metadata": {},
   "outputs": [
    {
     "data": {
      "image/png": "[encoded data removed]",
      "text/plain": [
       "<Figure size 432x288 with 1 Axes>"
      ]
     },
     "metadata": {
      "needs_background": "dark"
     },
     "output_type": "display_data"
    }
   ],
   "source": [
    "# normal 만 시각화\n",
    "data_normal = data.loc['Normal', :]\n",
    "data_obesity = data.loc['Obesity']\n",
    "data_overweight = data.loc['Overweight']\n",
    "data_ExtremeObesity = data.loc['Extreme Obesity']\n",
    "data_weak = data.loc['Weak']\n",
    "data_ExtremelyWeak=data.loc['Extremely Weak']\n",
    "plt.scatter(data_normal['Weight'],# X축 데이터\n",
    "            data_normal['Height'], #y축 데이터\n",
    "            c='blue',\n",
    "            label = 'Normal')\n",
    "plt.scatter(data_obesity['Weight'],# X축 데이터\n",
    "            data_obesity['Height'], #y축 데이터\n",
    "            c='red',\n",
    "            label = 'Obesity')\n",
    "plt.scatter(data_overweight['Weight'],# X축 데이터\n",
    "            data_overweight['Height'], #y축 데이터\n",
    "            c='pink',\n",
    "            label = 'Overweight')\n",
    "plt.scatter(data_ExtremeObesity['Weight'],# X축 데이터\n",
    "            data_ExtremeObesity['Height'], #y축 데이터\n",
    "            c='orange',\n",
    "            label = 'Extreme Obesity')\n",
    "plt.scatter(data_weak['Weight'],# X축 데이터\n",
    "            data_weak['Height'], #y축 데이터\n",
    "            c='black',\n",
    "            label = 'Weak')\n",
    "plt.scatter(data_ExtremelyWeak['Weight'],# X축 데이터\n",
    "            data_ExtremelyWeak['Height'], #y축 데이터\n",
    "            c='purple',\n",
    "            label = 'Extremely Weakl')\n",
    "plt.tick_params(axis = 'x', labelcolor = 'w',color='w')\n",
    "plt.tick_params(axis = 'y', labelcolor = 'w',color='w')\n",
    "plt.legend(loc='upper right') # ㅣabel 띄우기\n",
    "plt.show()           "
   ]
  },
  {
   "cell_type": "code",
   "execution_count": 31,
   "metadata": {},
   "outputs": [],
   "source": [
    "def drawScatter(label , color):\n",
    "    data_scatter = data.loc[label, :]\n",
    "    plt.scatter(data_scatter['Weight'],# X축 데이터\n",
    "            data_scatter['Height'], #y축 데이터\n",
    "            c=color,\n",
    "            label = label)\n"
   ]
  },
  {
   "cell_type": "code",
   "execution_count": 42,
   "metadata": {},
   "outputs": [
    {
     "data": {
      "image/png": "[encoded data removed]",
      "text/plain": [
       "<Figure size 720x720 with 1 Axes>"
      ]
     },
     "metadata": {
      "needs_background": "dark"
     },
     "output_type": "display_data"
    }
   ],
   "source": [
    "#'Obesity', 'Normal', 'Overweight', 'Extreme Obesity', 'Weak',\n",
    "#       'Extremely Weak'\n",
    "plt.figure(figsize = (10,10)) #그래프 크깅\n",
    "drawScatter('Extreme Obesity','black')\n",
    "drawScatter('Obesity','red')\n",
    "drawScatter('Normal','blue')\n",
    "drawScatter('Overweight','yellow')\n",
    "drawScatter('Weak','green')\n",
    "drawScatter('Extremely Weak','pink')\n",
    "\n",
    "plt.legend(loc='upper right')\n",
    "plt.tick_params(axis = 'x', labelcolor = 'w',color='w')\n",
    "plt.tick_params(axis = 'y', labelcolor = 'w',color='w')\n",
    "plt.xlabel('Weight',color='w') # X축 이름 : Weight\n",
    "plt.ylabel('Height',color='w') # y축 이름 : Height\n",
    "plt.show()"
   ]
  },
  {
   "cell_type": "markdown",
   "metadata": {},
   "source": [
    "# 5. 모델 선택 및 하이퍼 파라미터 튜닝"
   ]
  },
  {
   "cell_type": "code",
   "execution_count": 48,
   "metadata": {},
   "outputs": [
    {
     "data": {
      "text/html": [
       "<div>\n",
       "<style scoped>\n",
       "    .dataframe tbody tr th:only-of-type {\n",
       "        vertical-align: middle;\n",
       "    }\n",
       "\n",
       "    .dataframe tbody tr th {\n",
       "        vertical-align: top;\n",
       "    }\n",
       "\n",
       "    .dataframe thead th {\n",
       "        text-align: right;\n",
       "    }\n",
       "</style>\n",
       "<table border=\"1\" class=\"dataframe\">\n",
       "  <thead>\n",
       "    <tr style=\"text-align: right;\">\n",
       "      <th></th>\n",
       "      <th>Gender</th>\n",
       "      <th>Height</th>\n",
       "      <th>Weight</th>\n",
       "      <th>Label</th>\n",
       "    </tr>\n",
       "  </thead>\n",
       "  <tbody>\n",
       "    <tr>\n",
       "      <th>0</th>\n",
       "      <td>Male</td>\n",
       "      <td>174</td>\n",
       "      <td>96</td>\n",
       "      <td>Obesity</td>\n",
       "    </tr>\n",
       "    <tr>\n",
       "      <th>1</th>\n",
       "      <td>Male</td>\n",
       "      <td>189</td>\n",
       "      <td>87</td>\n",
       "      <td>Normal</td>\n",
       "    </tr>\n",
       "    <tr>\n",
       "      <th>2</th>\n",
       "      <td>Female</td>\n",
       "      <td>185</td>\n",
       "      <td>110</td>\n",
       "      <td>Obesity</td>\n",
       "    </tr>\n",
       "    <tr>\n",
       "      <th>3</th>\n",
       "      <td>Female</td>\n",
       "      <td>195</td>\n",
       "      <td>104</td>\n",
       "      <td>Overweight</td>\n",
       "    </tr>\n",
       "    <tr>\n",
       "      <th>4</th>\n",
       "      <td>Male</td>\n",
       "      <td>149</td>\n",
       "      <td>61</td>\n",
       "      <td>Overweight</td>\n",
       "    </tr>\n",
       "  </tbody>\n",
       "</table>\n",
       "</div>"
      ],
      "text/plain": [
       "   Gender  Height  Weight       Label\n",
       "0    Male     174      96     Obesity\n",
       "1    Male     189      87      Normal\n",
       "2  Female     185     110     Obesity\n",
       "3  Female     195     104  Overweight\n",
       "4    Male     149      61  Overweight"
      ]
     },
     "execution_count": 48,
     "metadata": {},
     "output_type": "execute_result"
    }
   ],
   "source": [
    "# 문제 / 정답\n",
    "data = pd.read_csv('bmi_500.csv')\n",
    "data.head()\n"
   ]
  },
  {
   "cell_type": "code",
   "execution_count": 104,
   "metadata": {},
   "outputs": [],
   "source": [
    "X=data.loc[:,'Height':'Weight'] #문제"
   ]
  },
  {
   "cell_type": "code",
   "execution_count": 54,
   "metadata": {},
   "outputs": [],
   "source": [
    "y = data.loc[:,'Label'] #정답"
   ]
  },
  {
   "cell_type": "code",
   "execution_count": 57,
   "metadata": {},
   "outputs": [
    {
     "name": "stdout",
     "output_type": "stream",
     "text": [
      "(500, 2)\n",
      "(500,)\n"
     ]
    }
   ],
   "source": [
    "print(X.shape)\n",
    "print(y.shape)"
   ]
  },
  {
   "cell_type": "code",
   "execution_count": 58,
   "metadata": {},
   "outputs": [],
   "source": [
    "# 훈련 / 평가\n",
    "# 70 /  30\n",
    "# 350  150\n",
    "\n",
    "X_train = X.iloc[:350,:]\n",
    "X_test = X.iloc[350:,:]\n",
    "y_train = y.iloc[:350,]\n",
    "y_test = y.iloc[350:]"
   ]
  },
  {
   "cell_type": "code",
   "execution_count": 59,
   "metadata": {},
   "outputs": [],
   "source": [
    "#knn 모델 사용\n",
    "knn=KNeighborsClassifier(n_neighbors=7)"
   ]
  },
  {
   "cell_type": "markdown",
   "metadata": {},
   "source": [
    "# 6.학습"
   ]
  },
  {
   "cell_type": "code",
   "execution_count": 60,
   "metadata": {},
   "outputs": [
    {
     "data": {
      "text/plain": [
       "KNeighborsClassifier(n_neighbors=7)"
      ]
     },
     "execution_count": 60,
     "metadata": {},
     "output_type": "execute_result"
    }
   ],
   "source": [
    "knn.fit(X_train,y_train)"
   ]
  },
  {
   "cell_type": "markdown",
   "metadata": {},
   "source": [
    "# 7.평가"
   ]
  },
  {
   "cell_type": "code",
   "execution_count": 62,
   "metadata": {},
   "outputs": [
    {
     "name": "stdout",
     "output_type": "stream",
     "text": [
      "train score: 0.9028571428571428\n",
      "test score :  0.9\n"
     ]
    }
   ],
   "source": [
    "print('train score:',knn.score(X_train,y_train))\n",
    "print('test score : ',knn.score(X_test,y_test))"
   ]
  },
  {
   "cell_type": "code",
   "execution_count": 63,
   "metadata": {},
   "outputs": [
    {
     "data": {
      "text/plain": [
       "array(['Normal', 'Overweight'], dtype=object)"
      ]
     },
     "execution_count": 63,
     "metadata": {},
     "output_type": "execute_result"
    }
   ],
   "source": [
    "knn.predict([[174,67],[180,80]])"
   ]
  },
  {
   "cell_type": "code",
   "execution_count": 65,
   "metadata": {},
   "outputs": [],
   "source": [
    "X_train,X_test,y_train,y_test = train_test_split(X,y,random_state=3,test_size=0.3)"
   ]
  },
  {
   "cell_type": "code",
   "execution_count": 66,
   "metadata": {
    "collapsed": true
   },
   "outputs": [
    {
     "data": {
      "text/html": [
       "<div>\n",
       "<style scoped>\n",
       "    .dataframe tbody tr th:only-of-type {\n",
       "        vertical-align: middle;\n",
       "    }\n",
       "\n",
       "    .dataframe tbody tr th {\n",
       "        vertical-align: top;\n",
       "    }\n",
       "\n",
       "    .dataframe thead th {\n",
       "        text-align: right;\n",
       "    }\n",
       "</style>\n",
       "<table border=\"1\" class=\"dataframe\">\n",
       "  <thead>\n",
       "    <tr style=\"text-align: right;\">\n",
       "      <th></th>\n",
       "      <th>Height</th>\n",
       "      <th>Weight</th>\n",
       "    </tr>\n",
       "  </thead>\n",
       "  <tbody>\n",
       "    <tr>\n",
       "      <th>98</th>\n",
       "      <td>195</td>\n",
       "      <td>69</td>\n",
       "    </tr>\n",
       "    <tr>\n",
       "      <th>401</th>\n",
       "      <td>174</td>\n",
       "      <td>107</td>\n",
       "    </tr>\n",
       "    <tr>\n",
       "      <th>452</th>\n",
       "      <td>169</td>\n",
       "      <td>121</td>\n",
       "    </tr>\n",
       "    <tr>\n",
       "      <th>166</th>\n",
       "      <td>176</td>\n",
       "      <td>109</td>\n",
       "    </tr>\n",
       "    <tr>\n",
       "      <th>218</th>\n",
       "      <td>141</td>\n",
       "      <td>126</td>\n",
       "    </tr>\n",
       "    <tr>\n",
       "      <th>...</th>\n",
       "      <td>...</td>\n",
       "      <td>...</td>\n",
       "    </tr>\n",
       "    <tr>\n",
       "      <th>440</th>\n",
       "      <td>172</td>\n",
       "      <td>116</td>\n",
       "    </tr>\n",
       "    <tr>\n",
       "      <th>131</th>\n",
       "      <td>187</td>\n",
       "      <td>70</td>\n",
       "    </tr>\n",
       "    <tr>\n",
       "      <th>249</th>\n",
       "      <td>161</td>\n",
       "      <td>89</td>\n",
       "    </tr>\n",
       "    <tr>\n",
       "      <th>152</th>\n",
       "      <td>150</td>\n",
       "      <td>60</td>\n",
       "    </tr>\n",
       "    <tr>\n",
       "      <th>362</th>\n",
       "      <td>151</td>\n",
       "      <td>158</td>\n",
       "    </tr>\n",
       "  </tbody>\n",
       "</table>\n",
       "<p>350 rows × 2 columns</p>\n",
       "</div>"
      ],
      "text/plain": [
       "     Height  Weight\n",
       "98      195      69\n",
       "401     174     107\n",
       "452     169     121\n",
       "166     176     109\n",
       "218     141     126\n",
       "..      ...     ...\n",
       "440     172     116\n",
       "131     187      70\n",
       "249     161      89\n",
       "152     150      60\n",
       "362     151     158\n",
       "\n",
       "[350 rows x 2 columns]"
      ]
     },
     "execution_count": 66,
     "metadata": {},
     "output_type": "execute_result"
    }
   ],
   "source": [
    "X_train"
   ]
  },
  {
   "cell_type": "code",
   "execution_count": 67,
   "metadata": {
    "collapsed": true
   },
   "outputs": [
    {
     "data": {
      "text/plain": [
       "98                Weak\n",
       "401            Obesity\n",
       "452    Extreme Obesity\n",
       "166            Obesity\n",
       "218    Extreme Obesity\n",
       "            ...       \n",
       "440            Obesity\n",
       "131             Normal\n",
       "249            Obesity\n",
       "152         Overweight\n",
       "362    Extreme Obesity\n",
       "Name: Label, Length: 350, dtype: object"
      ]
     },
     "execution_count": 67,
     "metadata": {},
     "output_type": "execute_result"
    }
   ],
   "source": [
    "y_train"
   ]
  },
  {
   "cell_type": "code",
   "execution_count": 68,
   "metadata": {},
   "outputs": [],
   "source": [
    "train_list=[]\n",
    "for k in range(1,101):\n",
    "    model=KNeighborsClassifier(n_neighbors=k)\n",
    "    model.fit(X_train,y_train)\n",
    "    train_list.append(model.score(X_train,y_train))"
   ]
  },
  {
   "cell_type": "code",
   "execution_count": 69,
   "metadata": {
    "scrolled": true
   },
   "outputs": [
    {
     "data": {
      "text/plain": [
       "[1.0,\n",
       " 0.94,\n",
       " 0.9485714285714286,\n",
       " 0.9142857142857143,\n",
       " 0.9314285714285714,\n",
       " 0.9114285714285715,\n",
       " 0.9085714285714286,\n",
       " 0.9142857142857143,\n",
       " 0.9228571428571428,\n",
       " 0.9142857142857143,\n",
       " 0.92,\n",
       " 0.9085714285714286,\n",
       " 0.9171428571428571,\n",
       " 0.9,\n",
       " 0.9,\n",
       " 0.8971428571428571,\n",
       " 0.9,\n",
       " 0.9,\n",
       " 0.8742857142857143,\n",
       " 0.8571428571428571,\n",
       " 0.8657142857142858,\n",
       " 0.8542857142857143,\n",
       " 0.8571428571428571,\n",
       " 0.8514285714285714,\n",
       " 0.8514285714285714,\n",
       " 0.8428571428571429,\n",
       " 0.8428571428571429,\n",
       " 0.8428571428571429,\n",
       " 0.8285714285714286,\n",
       " 0.8342857142857143,\n",
       " 0.8342857142857143,\n",
       " 0.84,\n",
       " 0.8285714285714286,\n",
       " 0.8257142857142857,\n",
       " 0.8228571428571428,\n",
       " 0.8228571428571428,\n",
       " 0.8057142857142857,\n",
       " 0.8057142857142857,\n",
       " 0.8057142857142857,\n",
       " 0.8,\n",
       " 0.8028571428571428,\n",
       " 0.8114285714285714,\n",
       " 0.8142857142857143,\n",
       " 0.8085714285714286,\n",
       " 0.8085714285714286,\n",
       " 0.8171428571428572,\n",
       " 0.8114285714285714,\n",
       " 0.8142857142857143,\n",
       " 0.8085714285714286,\n",
       " 0.8142857142857143,\n",
       " 0.7885714285714286,\n",
       " 0.7914285714285715,\n",
       " 0.7914285714285715,\n",
       " 0.7828571428571428,\n",
       " 0.78,\n",
       " 0.7885714285714286,\n",
       " 0.7857142857142857,\n",
       " 0.7771428571428571,\n",
       " 0.7742857142857142,\n",
       " 0.7685714285714286,\n",
       " 0.7714285714285715,\n",
       " 0.7771428571428571,\n",
       " 0.7714285714285715,\n",
       " 0.7628571428571429,\n",
       " 0.7714285714285715,\n",
       " 0.7657142857142857,\n",
       " 0.76,\n",
       " 0.7714285714285715,\n",
       " 0.7657142857142857,\n",
       " 0.7685714285714286,\n",
       " 0.7742857142857142,\n",
       " 0.7742857142857142,\n",
       " 0.7657142857142857,\n",
       " 0.7628571428571429,\n",
       " 0.7714285714285715,\n",
       " 0.7628571428571429,\n",
       " 0.7514285714285714,\n",
       " 0.7514285714285714,\n",
       " 0.7571428571428571,\n",
       " 0.7457142857142857,\n",
       " 0.7342857142857143,\n",
       " 0.7285714285714285,\n",
       " 0.7257142857142858,\n",
       " 0.7257142857142858,\n",
       " 0.7285714285714285,\n",
       " 0.7257142857142858,\n",
       " 0.7228571428571429,\n",
       " 0.7171428571428572,\n",
       " 0.7057142857142857,\n",
       " 0.7057142857142857,\n",
       " 0.7,\n",
       " 0.6942857142857143,\n",
       " 0.7,\n",
       " 0.6971428571428572,\n",
       " 0.6857142857142857,\n",
       " 0.6942857142857143,\n",
       " 0.6942857142857143,\n",
       " 0.6857142857142857,\n",
       " 0.6971428571428572,\n",
       " 0.6828571428571428]"
      ]
     },
     "execution_count": 69,
     "metadata": {},
     "output_type": "execute_result"
    }
   ],
   "source": [
    "train_list"
   ]
  },
  {
   "cell_type": "code",
   "execution_count": 71,
   "metadata": {},
   "outputs": [],
   "source": [
    "test_list=[]\n",
    "for k in range(1,101):\n",
    "    model=KNeighborsClassifier(n_neighbors=k)\n",
    "    model.fit(X_train,y_train)\n",
    "    test_list.append(model.score(X_test,y_test))"
   ]
  },
  {
   "cell_type": "code",
   "execution_count": 72,
   "metadata": {
    "collapsed": true
   },
   "outputs": [
    {
     "data": {
      "text/plain": [
       "[0.8933333333333333,\n",
       " 0.8866666666666667,\n",
       " 0.9066666666666666,\n",
       " 0.88,\n",
       " 0.94,\n",
       " 0.9266666666666666,\n",
       " 0.9066666666666666,\n",
       " 0.9133333333333333,\n",
       " 0.8933333333333333,\n",
       " 0.8866666666666667,\n",
       " 0.9,\n",
       " 0.8866666666666667,\n",
       " 0.9,\n",
       " 0.8866666666666667,\n",
       " 0.8866666666666667,\n",
       " 0.8866666666666667,\n",
       " 0.8733333333333333,\n",
       " 0.8933333333333333,\n",
       " 0.8933333333333333,\n",
       " 0.8866666666666667,\n",
       " 0.8933333333333333,\n",
       " 0.9,\n",
       " 0.88,\n",
       " 0.8866666666666667,\n",
       " 0.8733333333333333,\n",
       " 0.8733333333333333,\n",
       " 0.8733333333333333,\n",
       " 0.8466666666666667,\n",
       " 0.84,\n",
       " 0.84,\n",
       " 0.8533333333333334,\n",
       " 0.8533333333333334,\n",
       " 0.8266666666666667,\n",
       " 0.8466666666666667,\n",
       " 0.8333333333333334,\n",
       " 0.8466666666666667,\n",
       " 0.8333333333333334,\n",
       " 0.82,\n",
       " 0.8266666666666667,\n",
       " 0.84,\n",
       " 0.84,\n",
       " 0.8466666666666667,\n",
       " 0.8266666666666667,\n",
       " 0.8266666666666667,\n",
       " 0.82,\n",
       " 0.8333333333333334,\n",
       " 0.8333333333333334,\n",
       " 0.8333333333333334,\n",
       " 0.8333333333333334,\n",
       " 0.8333333333333334,\n",
       " 0.8333333333333334,\n",
       " 0.82,\n",
       " 0.8133333333333334,\n",
       " 0.8066666666666666,\n",
       " 0.8066666666666666,\n",
       " 0.8,\n",
       " 0.8133333333333334,\n",
       " 0.7866666666666666,\n",
       " 0.8,\n",
       " 0.7866666666666666,\n",
       " 0.7866666666666666,\n",
       " 0.7866666666666666,\n",
       " 0.8,\n",
       " 0.7866666666666666,\n",
       " 0.7866666666666666,\n",
       " 0.78,\n",
       " 0.7866666666666666,\n",
       " 0.7933333333333333,\n",
       " 0.8,\n",
       " 0.78,\n",
       " 0.7933333333333333,\n",
       " 0.7733333333333333,\n",
       " 0.7733333333333333,\n",
       " 0.7666666666666667,\n",
       " 0.76,\n",
       " 0.7533333333333333,\n",
       " 0.7533333333333333,\n",
       " 0.7466666666666667,\n",
       " 0.7466666666666667,\n",
       " 0.7466666666666667,\n",
       " 0.74,\n",
       " 0.74,\n",
       " 0.7333333333333333,\n",
       " 0.76,\n",
       " 0.7533333333333333,\n",
       " 0.74,\n",
       " 0.74,\n",
       " 0.7333333333333333,\n",
       " 0.7333333333333333,\n",
       " 0.7266666666666667,\n",
       " 0.72,\n",
       " 0.7133333333333334,\n",
       " 0.7066666666666667,\n",
       " 0.7066666666666667,\n",
       " 0.7133333333333334,\n",
       " 0.7133333333333334,\n",
       " 0.72,\n",
       " 0.7133333333333334,\n",
       " 0.72,\n",
       " 0.72]"
      ]
     },
     "execution_count": 72,
     "metadata": {},
     "output_type": "execute_result"
    }
   ],
   "source": [
    "test_list"
   ]
  },
  {
   "cell_type": "code",
   "execution_count": 75,
   "metadata": {},
   "outputs": [
    {
     "data": {
      "image/png": "[encoded data removed]",
      "text/plain": [
       "<Figure size 1800x360 with 1 Axes>"
      ]
     },
     "metadata": {
      "needs_background": "dark"
     },
     "output_type": "display_data"
    }
   ],
   "source": [
    "plt.figure(figsize=(25,5))\n",
    "plt.plot(range(1,101),\n",
    "        train_list,\n",
    "        c='red')\n",
    "plt.plot(range(1,101),\n",
    "        test_list,\n",
    "        c='blue')\n",
    "plt.xticks(range(1,101))\n",
    "plt.tick_params(axis='x',labelcolor='w',color='w')\n",
    "plt.tick_params(axis='y',labelcolor='w',color='w')\n",
    "plt.grid()\n",
    "plt.show()"
   ]
  },
  {
   "cell_type": "code",
   "execution_count": 80,
   "metadata": {},
   "outputs": [],
   "source": [
    "knn = KNeighborsClassifier(n_neighbors=5)"
   ]
  },
  {
   "cell_type": "code",
   "execution_count": 81,
   "metadata": {},
   "outputs": [
    {
     "data": {
      "text/plain": [
       "KNeighborsClassifier()"
      ]
     },
     "execution_count": 81,
     "metadata": {},
     "output_type": "execute_result"
    }
   ],
   "source": [
    "knn.fit(X_train,y_train)"
   ]
  },
  {
   "cell_type": "code",
   "execution_count": 82,
   "metadata": {},
   "outputs": [
    {
     "data": {
      "text/plain": [
       "0.94"
      ]
     },
     "execution_count": 82,
     "metadata": {},
     "output_type": "execute_result"
    }
   ],
   "source": [
    "knn.score(X_test,y_test)"
   ]
  },
  {
   "cell_type": "code",
   "execution_count": 83,
   "metadata": {},
   "outputs": [
    {
     "data": {
      "text/plain": [
       "array(['Normal'], dtype=object)"
      ]
     },
     "execution_count": 83,
     "metadata": {},
     "output_type": "execute_result"
    }
   ],
   "source": [
    "knn.predict([[179,78]])"
   ]
  }
 ],
 "metadata": {
  "kernelspec": {
   "display_name": "Python 3",
   "language": "python",
   "name": "python3"
  },
  "language_info": {
   "codemirror_mode": {
    "name": "ipython",
    "version": 3
   },
   "file_extension": ".py",
   "mimetype": "text/x-python",
   "name": "python",
   "nbconvert_exporter": "python",
   "pygments_lexer": "ipython3",
   "version": "3.8.5"
  }
 },
 "nbformat": 4,
 "nbformat_minor": 4
}
