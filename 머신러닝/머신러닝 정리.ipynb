{
 "cells": [
  {
   "cell_type": "code",
   "execution_count": null,
   "metadata": {},
   "outputs": [],
   "source": [
    "train 70 - 규칙을 찾게 하는 데이터\n",
    "test 30 - 예측값이 얼마나 잘맞는 가\n",
    "train에 대한 비율을 더 높이게 되면 규칙을 더 찾을 수 있는 확률이 높아진다.\n",
    "하지만 test에서는 데이터의 총량이 줄어들어서 예측값에 대한 신뢰도가 떨어진다.\n",
    "train에 비율을 높이게 되면 규칙은 잘 찾아가지만 예측값의 신뢰도는 낮아진다.\n",
    "test비율을 높이게 되면 규칙을 잘 찾을 수 없지만 예측값의 신뢰도는 높아진다.\n",
    "train을 높일때는 데이터 수집,전처리 다하고 모델의 규칙을 조금 더 잘 찾고 싶을 때 높인다\n",
    "test 비율을 높일때 가지고 있는 데이터가 엄청나게 많아서 충분하다고 생각할때 test비율을 높인다."
   ]
  },
  {
   "cell_type": "code",
   "execution_count": null,
   "metadata": {},
   "outputs": [],
   "source": [
    "Train의 비율을 높일때\n",
    ": 기존 데이터로 규칙을 찾았는데 조금 부족하다 \n",
    ": 규칙을 조금 더 세세하게 찾고 싶다.\n",
    "* test의 비율이 낮아지므로 test score에 대해서 신뢰도가 낮아짐"
   ]
  },
  {
   "cell_type": "code",
   "execution_count": null,
   "metadata": {},
   "outputs": [],
   "source": [
    "Test의 비율을 높일때\n",
    ": test score의 신뢰도를 높이고 싶을 때\n",
    "* train의 비율이 낮아지므로 규칙을 조금 덜 세세하게 찾음\n",
    "* 데이터가 충분할 때"
   ]
  },
  {
   "cell_type": "code",
   "execution_count": null,
   "metadata": {},
   "outputs": [],
   "source": [
    "모델을 더 발전시킨다는것은 규칙을 더 세세히 찾아가자!"
   ]
  },
  {
   "cell_type": "code",
   "execution_count": null,
   "metadata": {},
   "outputs": [],
   "source": []
  },
  {
   "cell_type": "markdown",
   "metadata": {},
   "source": [
    "# Decision Tree"
   ]
  },
  {
   "cell_type": "code",
   "execution_count": null,
   "metadata": {},
   "outputs": [],
   "source": [
    "데이터들을 나누는 규칙을 찾을 때 수많은 질문을 통해 알고리즘이 구성된다."
   ]
  },
  {
   "cell_type": "code",
   "execution_count": null,
   "metadata": {},
   "outputs": [],
   "source": [
    "질문을 하나하나를 Node라고 부른다"
   ]
  },
  {
   "cell_type": "code",
   "execution_count": null,
   "metadata": {},
   "outputs": [],
   "source": [
    "Root Node:최상위\n",
    "lear Node:최하위에 있는 질문 더 이상의 질문을 뻗어나가지 않는 것\n",
    "값을 한 개 가지고 있는 리프 노드를 순수노드라고 한다.\n",
    "-순수노드가 많아질 수록 과대적합걸릴 확률이 높아짐"
   ]
  },
  {
   "cell_type": "code",
   "execution_count": null,
   "metadata": {},
   "outputs": [],
   "source": [
    "분류-클래스선택\n",
    "회귀-평균을 구한다."
   ]
  },
  {
   "cell_type": "code",
   "execution_count": null,
   "metadata": {},
   "outputs": [],
   "source": [
    "질문을 통해 전체 데이터통해서 영역을 나눈다.\n",
    "결정트리를 잘할려면 하이퍼파라미터 튜닝을 많이해야함니다.\n",
    "결정트리결점 -과대적합에 잘걸린다. \n",
    "          -사전 가지치기-노드들이 뻗어나가기 전에 미리 제어 (ex)리프노드를 최소 클래스로 정할 수 있다.) \n",
    "        -사후 가지치기-뻗어나갈 수 있을만큼 뻗고 필요없는 노드들은 삭제"
   ]
  },
  {
   "cell_type": "code",
   "execution_count": null,
   "metadata": {},
   "outputs": [],
   "source": [
    "예/아니오 질문을 통해서 영역을 나누고 그걸통해서 구분해보고 싶은 목적"
   ]
  },
  {
   "cell_type": "code",
   "execution_count": null,
   "metadata": {},
   "outputs": [],
   "source": [
    "디시전트리는 과대적합문제때문에 많이 사용하지 않음\n",
    "결정트리를 기반으로한 다른 모델을 많이 사용"
   ]
  },
  {
   "cell_type": "code",
   "execution_count": null,
   "metadata": {},
   "outputs": [],
   "source": [
    "범위가 정해진 데이터에 사용된다.\n",
    "가지치기를 사용함에도 불구하고 과대적합되는 경향이 있어 일반화 성능이 좋지 않다"
   ]
  },
  {
   "cell_type": "markdown",
   "metadata": {},
   "source": [
    "### 교차검증"
   ]
  },
  {
   "cell_type": "code",
   "execution_count": null,
   "metadata": {},
   "outputs": [],
   "source": [
    "전체 데이터를 train과 test로 한번 나눔 고정된 데이터를 계속 사용\n",
    "train :학습\n",
    "test : 평가\n",
    "    \n",
    "목표: 일반화된 구간 찾기 = test값이 높은 구간 찾기\n",
    "    \n",
    "목표 달성을 위해 하이퍼 파라미터 튜닝\n",
    ":trainscore,testscore를 확인\n",
    ":testscore가 가장 높을때의 파라미터를 최종으로 선택\n",
    "    \n",
    "고정된 test에 잘 맞는 파라미터가 될 가능성이 높음 \n",
    "> 조금 다른 test1의 score를 출력하면 값이 testscore만큼 나오지 않을 수 있음\n",
    "\n",
    "'고정되어있는 test에 맞는 파라미터가 생긴다'는 문제를 해결하기위해서 교차검증이 나온다.\n",
    "교차검증: 여러번 학습과 평가를 진행 \n",
    "         그때마다 train과 test에 변화를 줌\n"
   ]
  },
  {
   "cell_type": "code",
   "execution_count": null,
   "metadata": {},
   "outputs": [],
   "source": [
    "k-fold cross-validation\n",
    "\n",
    "평가를 할 때 거의 다 교차검증을 거치고 하는게 일반화에 도움이 된다.\n",
    "정확한 판단을 하는데 도움을 준다.\n",
    "단점; 사용하는 코드 늘어난다. \n",
    "   여러번 학습하면서  시간이 많이 든다.\n",
    "교차검증-데이터를 평가하는 방법"
   ]
  },
  {
   "cell_type": "markdown",
   "metadata": {},
   "source": [
    "머신러닝 순서\n",
    "1.문제정의 -\n",
    "- 새로운 데이터에 대한 예측,판단(어떤 데이터를 통해서 어떤 값을 예측해보겠다)\n",
    "- 기존 데이터에서 규칙을 찾아야함\n",
    "2.데이터 수집\n",
    "- 정의한 문제를 해결하기위한 데이터 수집(크롤링,데이터포털,설문지)\n",
    "3.데이터 전처리\n",
    "- 머신러닝을 돌릴수 있게 데이터를 전처리\n",
    "-이상치제거, 결측치제거, 인코딩(문자열데이터를 ->수치형데이터로변환)\n",
    "4.탐색적 데이터 분석(EDA)\n",
    "- 전처리가 끝난 데이터를 더 깊게 살펴보기\n",
    "(시각화,데이터의 상관관계,..)\n",
    "5.모델 선택 및 하이퍼파라미터 튜닝\n",
    "-머신러닝 모델 선택(예측을 잘하는 모델,시간이 덜걸리는 모델)\n",
    "-하이퍼 파라미터 튜닝(예픅을 더 잘하게 만들기)\n",
    "-교차검증\n",
    "6. 학습(교차검증은 5번과 6번 넘나든다.)\n",
    "-교차검증\n",
    "7.평가"
   ]
  },
  {
   "cell_type": "markdown",
   "metadata": {},
   "source": [
    "# 분류 회귀\n",
    "분류 : 정답의 종류가 정답이 정해져 있다.\n",
    "      KNN,DEcisionTree\n",
    "회귀 : 정답의 종류가 정해져 있지 않음\n",
    "- 정답이 수치형 데이터로 이루어져 있음\n",
    "- 세세한 차이들이 중요하지 않음\n"
   ]
  },
  {
   "cell_type": "markdown",
   "metadata": {},
   "source": [
    "# 과대적합 과소적합 일반화\n",
    "과대 적합: 학습한 결과물(규칙) 훈련데이터에만 맞춰져있어서 \n",
    "예픅데이터에서는 성능을 발휘하지 못하는 현상\n",
    "\n",
    "과소 적합: 학습을 많이 시키지못해서 규칙을 잘 찾지못함\n",
    "데이터와 예측데이터에서 성능을 발휘하지 못함\n",
    "\n",
    "일반화: 예측데이터의 성능이 가장 좋음\n",
    "- 훈련데이터의 성능은 과대적합보다 떨어짐\n",
    "- 모델을 돌리면서 찾고자하는 지점\n",
    "\n",
    "모델의 일반화를 유도하는 방법\n",
    "- 데이터: 데이터의 양(개수)을 늘리면 됨. 편중된 데이터를\n",
    "늘리면 안됨\n",
    "- 모델: 모델의 복잡도를 제어(하이퍼 파라미터 튜닝)\n",
    "과대적함 피하기> 모델을 덜 복잡하게\n",
    "과소적합 피하기> 모델을 더 복잡하게"
   ]
  },
  {
   "cell_type": "markdown",
   "metadata": {},
   "source": [
    "# 교차검증\n",
    "-test에도 과대적합이 걸릴수 있음\n",
    "고정되어있는 test에 평가를 계속하게되면 \n",
    "고정된 test에 맞는 모델과 파라미터가 생김\n",
    "살짝 다른 test데이터를 평가헤되면 성능이 떨어짐\n",
    "\n",
    "train validation(검증) test\n",
    "\n",
    "k-fold cross validation\n",
    "k겹 교차검증\n",
    "전체 데이터를 k개로 나누고 각각의 데이터를 test를 한번씩\n",
    "거치게해서 총 k번의 학습을 함\n",
    "k번의 학습 결과를 평균내서 모델의 score로 활용\n",
    "\n",
    "#deicisionTree( gini,엔트로피)\n",
    "gini - entropy - impuriy\n",
    "데이터가 섞여있는걸 수치화 하는 자료"
   ]
  }
 ],
 "metadata": {
  "kernelspec": {
   "display_name": "Python 3",
   "language": "python",
   "name": "python3"
  },
  "language_info": {
   "codemirror_mode": {
    "name": "ipython",
    "version": 3
   },
   "file_extension": ".py",
   "mimetype": "text/x-python",
   "name": "python",
   "nbconvert_exporter": "python",
   "pygments_lexer": "ipython3",
   "version": "3.8.5"
  }
 },
 "nbformat": 4,
 "nbformat_minor": 4
}
