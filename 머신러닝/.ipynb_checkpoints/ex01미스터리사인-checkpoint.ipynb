{
 "cells": [
  {
   "cell_type": "markdown",
   "metadata": {},
   "source": [
    "# Question 1\n",
    "- 22 ? 7 = 37\n",
    "- 큰수 + 두 수의 차\n",
    "- 22 + (22-7)"
   ]
  },
  {
   "cell_type": "code",
   "execution_count": 1,
   "metadata": {},
   "outputs": [],
   "source": [
    "import pandas as pd"
   ]
  },
  {
   "cell_type": "markdown",
   "metadata": {},
   "source": [
    "## 1.문제와 정답 만들기"
   ]
  },
  {
   "cell_type": "code",
   "execution_count": 5,
   "metadata": {},
   "outputs": [],
   "source": [
    "\n",
    "# 1. 문제와 정답을 담을 공간 만들기 - 리스트\n",
    "list1 = []\n",
    "# 1부터 199까지 동작하는 for문 만들기(변수 a)\n",
    "for a in range(1,200):\n",
    "    # 1부터 199까지 동작하는 for문 만들기 (변수 b)\n",
    "    for b in range(1,200):\n",
    "        # 규칙을 통해 a와 b를 연산한 결과 만들기 (변수 result)\n",
    "        if a > b:\n",
    "            result = a + (a - b)\n",
    "        else : \n",
    "            result = b + (b - a)\n",
    "        list1.append([a,b,result])"
   ]
  },
  {
   "cell_type": "code",
   "execution_count": 10,
   "metadata": {},
   "outputs": [],
   "source": [
    "# list1을 DataFrame으로 만드는데\n",
    "# 컬럼 이름을 A ,B,Result\n",
    "# DataFrame(자료, columns =[])\n",
    "data = pd.DataFrame(list1, columns = [\"A\",\"B\",\"Result\"])\n",
    "# 데이터 준비 완료 !"
   ]
  },
  {
   "cell_type": "code",
   "execution_count": 12,
   "metadata": {},
   "outputs": [],
   "source": [
    "# 데이터를 문제와 정답으로 분리\n",
    "# 문제 = X\n",
    "# 정답 = y\n",
    "# loc[행 , 열]\n",
    "X = data.loc[:,[\"A\",\"B\"]]\n",
    "y = data.loc[:,\"Result\"]"
   ]
  },
  {
   "cell_type": "markdown",
   "metadata": {},
   "source": [
    "## 머신러닝 모델에 학습시키기"
   ]
  },
  {
   "cell_type": "code",
   "execution_count": 28,
   "metadata": {},
   "outputs": [
    {
     "data": {
      "text/plain": [
       "RandomForestRegressor()"
      ]
     },
     "execution_count": 28,
     "metadata": {},
     "output_type": "execute_result"
    }
   ],
   "source": [
    "# 머신러닝 모델 받아오기\n",
    "# RandomForestRegressor 회귀모델\n",
    "from sklearn.ensemble import RandomForestRegressor\n",
    "random_forest = RandomForestRegressor()\n",
    "\n",
    "# 모델에 학습(fit)시키기\n",
    "# fit(문제데이터, 정답데이터)\n",
    "random_forest.fit(X,y)"
   ]
  },
  {
   "cell_type": "markdown",
   "metadata": {},
   "source": [
    "## 머신러닝 모델이 규칙을 찾았는지 확인"
   ]
  },
  {
   "cell_type": "code",
   "execution_count": 31,
   "metadata": {},
   "outputs": [
    {
     "data": {
      "text/plain": [
       "array([37.07])"
      ]
     },
     "execution_count": 31,
     "metadata": {},
     "output_type": "execute_result"
    }
   ],
   "source": [
    "random_forest.predict([[7,22]]) #찾은 규칙을 통해 새로운 문제에 규칙 적용"
   ]
  },
  {
   "cell_type": "code",
   "execution_count": 2,
   "metadata": {},
   "outputs": [],
   "source": [
    "# 머신러닝 모델이 규칙을 찾는지 확인해보자"
   ]
  },
  {
   "cell_type": "code",
   "execution_count": 32,
   "metadata": {},
   "outputs": [
    {
     "data": {
      "text/plain": [
       "0.999997615479586"
      ]
     },
     "execution_count": 32,
     "metadata": {},
     "output_type": "execute_result"
    }
   ],
   "source": [
    "random_forest.score(X,y) #내가 세운 문제와 정답에 대해서 얼마만큼 맞추고 \n",
    "                          #있는가 스스로 퍼센트로 표현"
   ]
  },
  {
   "cell_type": "code",
   "execution_count": null,
   "metadata": {},
   "outputs": [],
   "source": []
  },
  {
   "cell_type": "code",
   "execution_count": null,
   "metadata": {},
   "outputs": [],
   "source": []
  },
  {
   "cell_type": "code",
   "execution_count": null,
   "metadata": {},
   "outputs": [],
   "source": []
  },
  {
   "cell_type": "code",
   "execution_count": null,
   "metadata": {},
   "outputs": [],
   "source": []
  }
 ],
 "metadata": {
  "kernelspec": {
   "display_name": "Python 3",
   "language": "python",
   "name": "python3"
  },
  "language_info": {
   "codemirror_mode": {
    "name": "ipython",
    "version": 3
   },
   "file_extension": ".py",
   "mimetype": "text/x-python",
   "name": "python",
   "nbconvert_exporter": "python",
   "pygments_lexer": "ipython3",
   "version": "3.8.5"
  }
 },
 "nbformat": 4,
 "nbformat_minor": 4
}
