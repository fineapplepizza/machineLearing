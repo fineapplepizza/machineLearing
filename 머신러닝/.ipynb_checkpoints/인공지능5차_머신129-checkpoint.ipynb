{
 "cells": [
  {
   "cell_type": "code",
   "execution_count": 196,
   "metadata": {},
   "outputs": [],
   "source": [
    "import pandas as pd\n",
    "import numpy as np\n",
    "import matplotlib.pyplot as plt\n",
    "import seaborn as sns"
   ]
  },
  {
   "cell_type": "markdown",
   "metadata": {},
   "source": [
    "# 1.문제정의\n",
    "- 전자상거래물품배송예측\n",
    "- kaggle대회 높은 점수를 획득"
   ]
  },
  {
   "cell_type": "markdown",
   "metadata": {},
   "source": [
    "# 2. 데이터 수집\n",
    "- kaggle 사이트로부터 train,test수집"
   ]
  },
  {
   "cell_type": "code",
   "execution_count": 197,
   "metadata": {},
   "outputs": [
    {
     "data": {
      "text/html": [
       "<div>\n",
       "<style scoped>\n",
       "    .dataframe tbody tr th:only-of-type {\n",
       "        vertical-align: middle;\n",
       "    }\n",
       "\n",
       "    .dataframe tbody tr th {\n",
       "        vertical-align: top;\n",
       "    }\n",
       "\n",
       "    .dataframe thead th {\n",
       "        text-align: right;\n",
       "    }\n",
       "</style>\n",
       "<table border=\"1\" class=\"dataframe\">\n",
       "  <thead>\n",
       "    <tr style=\"text-align: right;\">\n",
       "      <th></th>\n",
       "      <th>ID</th>\n",
       "      <th>Warehouse_block</th>\n",
       "      <th>Mode_of_Shipment</th>\n",
       "      <th>Customer_care_calls</th>\n",
       "      <th>Customer_rating</th>\n",
       "      <th>Cost_of_the_Product</th>\n",
       "      <th>Prior_purchases</th>\n",
       "      <th>Product_importance</th>\n",
       "      <th>Gender</th>\n",
       "      <th>Discount_offered</th>\n",
       "      <th>Weight_in_gms</th>\n",
       "      <th>Reached.on.Time_Y.N</th>\n",
       "    </tr>\n",
       "  </thead>\n",
       "  <tbody>\n",
       "    <tr>\n",
       "      <th>0</th>\n",
       "      <td>1</td>\n",
       "      <td>C</td>\n",
       "      <td>Ship</td>\n",
       "      <td>2.0</td>\n",
       "      <td>2</td>\n",
       "      <td>135</td>\n",
       "      <td>3.0</td>\n",
       "      <td>low</td>\n",
       "      <td>M</td>\n",
       "      <td>NaN</td>\n",
       "      <td>1339</td>\n",
       "      <td>1</td>\n",
       "    </tr>\n",
       "    <tr>\n",
       "      <th>1</th>\n",
       "      <td>2</td>\n",
       "      <td>F</td>\n",
       "      <td>Flight</td>\n",
       "      <td>5.0</td>\n",
       "      <td>3</td>\n",
       "      <td>225</td>\n",
       "      <td>5.0</td>\n",
       "      <td>low</td>\n",
       "      <td>F</td>\n",
       "      <td>6.0</td>\n",
       "      <td>1082</td>\n",
       "      <td>0</td>\n",
       "    </tr>\n",
       "    <tr>\n",
       "      <th>2</th>\n",
       "      <td>3</td>\n",
       "      <td>F</td>\n",
       "      <td>Ship</td>\n",
       "      <td>3.0</td>\n",
       "      <td>1</td>\n",
       "      <td>229</td>\n",
       "      <td>3.0</td>\n",
       "      <td>low</td>\n",
       "      <td>M</td>\n",
       "      <td>NaN</td>\n",
       "      <td>4971</td>\n",
       "      <td>1</td>\n",
       "    </tr>\n",
       "    <tr>\n",
       "      <th>3</th>\n",
       "      <td>4</td>\n",
       "      <td>F</td>\n",
       "      <td>Ship</td>\n",
       "      <td>3.0</td>\n",
       "      <td>2</td>\n",
       "      <td>228</td>\n",
       "      <td>NaN</td>\n",
       "      <td>medium</td>\n",
       "      <td>M</td>\n",
       "      <td>2.0</td>\n",
       "      <td>5640</td>\n",
       "      <td>0</td>\n",
       "    </tr>\n",
       "    <tr>\n",
       "      <th>4</th>\n",
       "      <td>5</td>\n",
       "      <td>D</td>\n",
       "      <td>Flight</td>\n",
       "      <td>NaN</td>\n",
       "      <td>1</td>\n",
       "      <td>195</td>\n",
       "      <td>6.0</td>\n",
       "      <td>high</td>\n",
       "      <td>F</td>\n",
       "      <td>NaN</td>\n",
       "      <td>4944</td>\n",
       "      <td>1</td>\n",
       "    </tr>\n",
       "  </tbody>\n",
       "</table>\n",
       "</div>"
      ],
      "text/plain": [
       "   ID Warehouse_block  Mode_of_Shipment  Customer_care_calls  Customer_rating  \\\n",
       "0   1                C             Ship                  2.0                2   \n",
       "1   2                F           Flight                  5.0                3   \n",
       "2   3                F             Ship                  3.0                1   \n",
       "3   4                F             Ship                  3.0                2   \n",
       "4   5                D           Flight                  NaN                1   \n",
       "\n",
       "   Cost_of_the_Product  Prior_purchases Product_importance Gender  \\\n",
       "0                  135              3.0                low      M   \n",
       "1                  225              5.0                low      F   \n",
       "2                  229              3.0                low      M   \n",
       "3                  228              NaN             medium      M   \n",
       "4                  195              6.0               high      F   \n",
       "\n",
       "   Discount_offered Weight_in_gms  Reached.on.Time_Y.N  \n",
       "0               NaN          1339                    1  \n",
       "1               6.0          1082                    0  \n",
       "2               NaN          4971                    1  \n",
       "3               2.0          5640                    0  \n",
       "4               NaN          4944                    1  "
      ]
     },
     "execution_count": 197,
     "metadata": {},
     "output_type": "execute_result"
    }
   ],
   "source": [
    "#train데이터 수집\n",
    "train = pd.read_csv(\"smhrd210615/train.csv\")\n",
    "train.head()"
   ]
  },
  {
   "cell_type": "code",
   "execution_count": 198,
   "metadata": {},
   "outputs": [
    {
     "data": {
      "text/html": [
       "<div>\n",
       "<style scoped>\n",
       "    .dataframe tbody tr th:only-of-type {\n",
       "        vertical-align: middle;\n",
       "    }\n",
       "\n",
       "    .dataframe tbody tr th {\n",
       "        vertical-align: top;\n",
       "    }\n",
       "\n",
       "    .dataframe thead th {\n",
       "        text-align: right;\n",
       "    }\n",
       "</style>\n",
       "<table border=\"1\" class=\"dataframe\">\n",
       "  <thead>\n",
       "    <tr style=\"text-align: right;\">\n",
       "      <th></th>\n",
       "      <th>ID</th>\n",
       "      <th>Warehouse_block</th>\n",
       "      <th>Mode_of_Shipment</th>\n",
       "      <th>Customer_care_calls</th>\n",
       "      <th>Customer_rating</th>\n",
       "      <th>Cost_of_the_Product</th>\n",
       "      <th>Prior_purchases</th>\n",
       "      <th>Product_importance</th>\n",
       "      <th>Gender</th>\n",
       "      <th>Discount_offered</th>\n",
       "      <th>Weight_in_gms</th>\n",
       "    </tr>\n",
       "  </thead>\n",
       "  <tbody>\n",
       "    <tr>\n",
       "      <th>0</th>\n",
       "      <td>7000</td>\n",
       "      <td>F</td>\n",
       "      <td>Ship</td>\n",
       "      <td>3.0</td>\n",
       "      <td>1</td>\n",
       "      <td>274</td>\n",
       "      <td>NaN</td>\n",
       "      <td>high</td>\n",
       "      <td>M</td>\n",
       "      <td>NaN</td>\n",
       "      <td>4352</td>\n",
       "    </tr>\n",
       "    <tr>\n",
       "      <th>1</th>\n",
       "      <td>7001</td>\n",
       "      <td>F</td>\n",
       "      <td>Ship</td>\n",
       "      <td>3.0</td>\n",
       "      <td>4</td>\n",
       "      <td>136</td>\n",
       "      <td>2.0</td>\n",
       "      <td>medium</td>\n",
       "      <td>F</td>\n",
       "      <td>NaN</td>\n",
       "      <td>1056</td>\n",
       "    </tr>\n",
       "    <tr>\n",
       "      <th>2</th>\n",
       "      <td>7002</td>\n",
       "      <td>A</td>\n",
       "      <td>Flight</td>\n",
       "      <td>NaN</td>\n",
       "      <td>5</td>\n",
       "      <td>140</td>\n",
       "      <td>3.0</td>\n",
       "      <td>low</td>\n",
       "      <td>F</td>\n",
       "      <td>7.0</td>\n",
       "      <td>5383</td>\n",
       "    </tr>\n",
       "    <tr>\n",
       "      <th>3</th>\n",
       "      <td>7003</td>\n",
       "      <td>C</td>\n",
       "      <td>Ship</td>\n",
       "      <td>NaN</td>\n",
       "      <td>1</td>\n",
       "      <td>291</td>\n",
       "      <td>4.0</td>\n",
       "      <td>low</td>\n",
       "      <td>F</td>\n",
       "      <td>NaN</td>\n",
       "      <td>1880</td>\n",
       "    </tr>\n",
       "    <tr>\n",
       "      <th>4</th>\n",
       "      <td>7004</td>\n",
       "      <td>F</td>\n",
       "      <td>?</td>\n",
       "      <td>4.0</td>\n",
       "      <td>2</td>\n",
       "      <td>147</td>\n",
       "      <td>3.0</td>\n",
       "      <td>low</td>\n",
       "      <td>F</td>\n",
       "      <td>5.0</td>\n",
       "      <td>5174</td>\n",
       "    </tr>\n",
       "  </tbody>\n",
       "</table>\n",
       "</div>"
      ],
      "text/plain": [
       "     ID Warehouse_block  Mode_of_Shipment  Customer_care_calls  \\\n",
       "0  7000                F             Ship                  3.0   \n",
       "1  7001                F             Ship                  3.0   \n",
       "2  7002                A           Flight                  NaN   \n",
       "3  7003                C             Ship                  NaN   \n",
       "4  7004                F                ?                  4.0   \n",
       "\n",
       "   Customer_rating  Cost_of_the_Product  Prior_purchases Product_importance  \\\n",
       "0                1                  274              NaN               high   \n",
       "1                4                  136              2.0             medium   \n",
       "2                5                  140              3.0                low   \n",
       "3                1                  291              4.0                low   \n",
       "4                2                  147              3.0                low   \n",
       "\n",
       "  Gender  Discount_offered Weight_in_gms  \n",
       "0      M               NaN          4352  \n",
       "1      F               NaN          1056  \n",
       "2      F               7.0          5383  \n",
       "3      F               NaN          1880  \n",
       "4      F               5.0          5174  "
      ]
     },
     "execution_count": 198,
     "metadata": {},
     "output_type": "execute_result"
    }
   ],
   "source": [
    "#test데이터 수집\n",
    "test=pd.read_csv(\"smhrd210615/test.csv\")\n",
    "test.head()"
   ]
  },
  {
   "cell_type": "markdown",
   "metadata": {},
   "source": [
    "# 3.데이터 전처리"
   ]
  },
  {
   "cell_type": "code",
   "execution_count": 199,
   "metadata": {},
   "outputs": [],
   "source": [
    "# Id를 인덱스로 변경하기\n",
    "# set_index\n",
    "#train \n",
    "train = train.set_index(\"ID\")\n",
    "#test\n",
    "test = test.set_index(\"ID\")"
   ]
  },
  {
   "cell_type": "code",
   "execution_count": 200,
   "metadata": {},
   "outputs": [
    {
     "name": "stdout",
     "output_type": "stream",
     "text": [
      "(6999, 11)\n",
      "(4000, 10)\n"
     ]
    }
   ],
   "source": [
    "print(train.shape)\n",
    "print(test.shape)"
   ]
  },
  {
   "cell_type": "code",
   "execution_count": 201,
   "metadata": {},
   "outputs": [
    {
     "name": "stdout",
     "output_type": "stream",
     "text": [
      "<class 'pandas.core.frame.DataFrame'>\n",
      "Int64Index: 6999 entries, 1 to 6999\n",
      "Data columns (total 11 columns):\n",
      " #   Column               Non-Null Count  Dtype  \n",
      "---  ------               --------------  -----  \n",
      " 0   Warehouse_block      6999 non-null   object \n",
      " 1   Mode_of_Shipment     6999 non-null   object \n",
      " 2   Customer_care_calls  5423 non-null   float64\n",
      " 3   Customer_rating      6999 non-null   int64  \n",
      " 4   Cost_of_the_Product  6999 non-null   int64  \n",
      " 5   Prior_purchases      6049 non-null   float64\n",
      " 6   Product_importance   6999 non-null   object \n",
      " 7   Gender               6999 non-null   object \n",
      " 8   Discount_offered     3468 non-null   float64\n",
      " 9   Weight_in_gms        6999 non-null   object \n",
      " 10  Reached.on.Time_Y.N  6999 non-null   int64  \n",
      "dtypes: float64(3), int64(3), object(5)\n",
      "memory usage: 656.2+ KB\n"
     ]
    }
   ],
   "source": [
    "#결측치 확인\n",
    "train.info()\n",
    "#Customer_care_calls,Prior_purchases,Discount_offered"
   ]
  },
  {
   "cell_type": "code",
   "execution_count": 202,
   "metadata": {},
   "outputs": [],
   "source": [
    "#Warehouse_block - A,B,C,D,E와 같이 블록으로 나누어 진 큰 창고를 가지고 있다\n",
    "#Mode_of_Shipment-배송방법\n",
    "#Customer_care_calls-배송 조회를 위한 문의 전화수\n",
    "#Customer_rating-고객평가\n",
    "#Cost_of_the_Product -제품비용\n",
    "#Prior_purchases- 이전 구매횟수\n",
    "#Gender- 성별\n",
    "#Discount_offered-특정 제품에 대해 제공되는 할인\n",
    "#Weight_in_gms-무게\n",
    "#Reached.on.Time_Y.N -정시도달\n",
    "#Product_importance-제품중요도"
   ]
  },
  {
   "cell_type": "code",
   "execution_count": 203,
   "metadata": {},
   "outputs": [
    {
     "name": "stdout",
     "output_type": "stream",
     "text": [
      "<class 'pandas.core.frame.DataFrame'>\n",
      "Int64Index: 4000 entries, 7000 to 10999\n",
      "Data columns (total 10 columns):\n",
      " #   Column               Non-Null Count  Dtype  \n",
      "---  ------               --------------  -----  \n",
      " 0   Warehouse_block      4000 non-null   object \n",
      " 1   Mode_of_Shipment     4000 non-null   object \n",
      " 2   Customer_care_calls  3144 non-null   float64\n",
      " 3   Customer_rating      4000 non-null   int64  \n",
      " 4   Cost_of_the_Product  4000 non-null   int64  \n",
      " 5   Prior_purchases      3633 non-null   float64\n",
      " 6   Product_importance   4000 non-null   object \n",
      " 7   Gender               4000 non-null   object \n",
      " 8   Discount_offered     2085 non-null   float64\n",
      " 9   Weight_in_gms        4000 non-null   object \n",
      "dtypes: float64(3), int64(2), object(5)\n",
      "memory usage: 343.8+ KB\n"
     ]
    }
   ],
   "source": [
    "#test결측치확인\n",
    "test.info()\n",
    "#Customer_care_calls,Prior_purchases,Discount_offered"
   ]
  },
  {
   "cell_type": "code",
   "execution_count": 204,
   "metadata": {},
   "outputs": [
    {
     "data": {
      "text/plain": [
       "4.0    1756\n",
       "3.0    1620\n",
       "5.0    1147\n",
       "6.0     496\n",
       "2.0     287\n",
       "7.0     117\n",
       "Name: Customer_care_calls, dtype: int64"
      ]
     },
     "execution_count": 204,
     "metadata": {},
     "output_type": "execute_result"
    }
   ],
   "source": [
    "#결측값 채우기\n",
    "train['Customer_care_calls'].value_counts()"
   ]
  },
  {
   "cell_type": "code",
   "execution_count": 205,
   "metadata": {},
   "outputs": [
    {
     "data": {
      "text/html": [
       "<div>\n",
       "<style scoped>\n",
       "    .dataframe tbody tr th:only-of-type {\n",
       "        vertical-align: middle;\n",
       "    }\n",
       "\n",
       "    .dataframe tbody tr th {\n",
       "        vertical-align: top;\n",
       "    }\n",
       "\n",
       "    .dataframe thead th {\n",
       "        text-align: right;\n",
       "    }\n",
       "</style>\n",
       "<table border=\"1\" class=\"dataframe\">\n",
       "  <thead>\n",
       "    <tr style=\"text-align: right;\">\n",
       "      <th></th>\n",
       "      <th>Customer_care_calls</th>\n",
       "      <th>Customer_rating</th>\n",
       "      <th>Cost_of_the_Product</th>\n",
       "      <th>Prior_purchases</th>\n",
       "      <th>Discount_offered</th>\n",
       "      <th>Reached.on.Time_Y.N</th>\n",
       "    </tr>\n",
       "  </thead>\n",
       "  <tbody>\n",
       "    <tr>\n",
       "      <th>Customer_care_calls</th>\n",
       "      <td>1.000000</td>\n",
       "      <td>0.013420</td>\n",
       "      <td>0.047041</td>\n",
       "      <td>0.173709</td>\n",
       "      <td>-0.158465</td>\n",
       "      <td>-0.070266</td>\n",
       "    </tr>\n",
       "    <tr>\n",
       "      <th>Customer_rating</th>\n",
       "      <td>0.013420</td>\n",
       "      <td>1.000000</td>\n",
       "      <td>-0.001961</td>\n",
       "      <td>0.008217</td>\n",
       "      <td>-0.016456</td>\n",
       "      <td>0.011275</td>\n",
       "    </tr>\n",
       "    <tr>\n",
       "      <th>Cost_of_the_Product</th>\n",
       "      <td>0.047041</td>\n",
       "      <td>-0.001961</td>\n",
       "      <td>1.000000</td>\n",
       "      <td>0.028947</td>\n",
       "      <td>-0.139349</td>\n",
       "      <td>-0.012811</td>\n",
       "    </tr>\n",
       "    <tr>\n",
       "      <th>Prior_purchases</th>\n",
       "      <td>0.173709</td>\n",
       "      <td>0.008217</td>\n",
       "      <td>0.028947</td>\n",
       "      <td>1.000000</td>\n",
       "      <td>-0.081868</td>\n",
       "      <td>-0.065160</td>\n",
       "    </tr>\n",
       "    <tr>\n",
       "      <th>Discount_offered</th>\n",
       "      <td>-0.158465</td>\n",
       "      <td>-0.016456</td>\n",
       "      <td>-0.139349</td>\n",
       "      <td>-0.081868</td>\n",
       "      <td>1.000000</td>\n",
       "      <td>0.397393</td>\n",
       "    </tr>\n",
       "    <tr>\n",
       "      <th>Reached.on.Time_Y.N</th>\n",
       "      <td>-0.070266</td>\n",
       "      <td>0.011275</td>\n",
       "      <td>-0.012811</td>\n",
       "      <td>-0.065160</td>\n",
       "      <td>0.397393</td>\n",
       "      <td>1.000000</td>\n",
       "    </tr>\n",
       "  </tbody>\n",
       "</table>\n",
       "</div>"
      ],
      "text/plain": [
       "                     Customer_care_calls  Customer_rating  \\\n",
       "Customer_care_calls             1.000000         0.013420   \n",
       "Customer_rating                 0.013420         1.000000   \n",
       "Cost_of_the_Product             0.047041        -0.001961   \n",
       "Prior_purchases                 0.173709         0.008217   \n",
       "Discount_offered               -0.158465        -0.016456   \n",
       "Reached.on.Time_Y.N            -0.070266         0.011275   \n",
       "\n",
       "                     Cost_of_the_Product  Prior_purchases  Discount_offered  \\\n",
       "Customer_care_calls             0.047041         0.173709         -0.158465   \n",
       "Customer_rating                -0.001961         0.008217         -0.016456   \n",
       "Cost_of_the_Product             1.000000         0.028947         -0.139349   \n",
       "Prior_purchases                 0.028947         1.000000         -0.081868   \n",
       "Discount_offered               -0.139349        -0.081868          1.000000   \n",
       "Reached.on.Time_Y.N            -0.012811        -0.065160          0.397393   \n",
       "\n",
       "                     Reached.on.Time_Y.N  \n",
       "Customer_care_calls            -0.070266  \n",
       "Customer_rating                 0.011275  \n",
       "Cost_of_the_Product            -0.012811  \n",
       "Prior_purchases                -0.065160  \n",
       "Discount_offered                0.397393  \n",
       "Reached.on.Time_Y.N             1.000000  "
      ]
     },
     "execution_count": 205,
     "metadata": {},
     "output_type": "execute_result"
    }
   ],
   "source": [
    "train.corr()"
   ]
  },
  {
   "cell_type": "code",
   "execution_count": 206,
   "metadata": {},
   "outputs": [
    {
     "data": {
      "text/html": [
       "<div>\n",
       "<style scoped>\n",
       "    .dataframe tbody tr th:only-of-type {\n",
       "        vertical-align: middle;\n",
       "    }\n",
       "\n",
       "    .dataframe tbody tr th {\n",
       "        vertical-align: top;\n",
       "    }\n",
       "\n",
       "    .dataframe thead th {\n",
       "        text-align: right;\n",
       "    }\n",
       "</style>\n",
       "<table border=\"1\" class=\"dataframe\">\n",
       "  <thead>\n",
       "    <tr style=\"text-align: right;\">\n",
       "      <th></th>\n",
       "      <th></th>\n",
       "      <th>Customer_care_calls</th>\n",
       "    </tr>\n",
       "    <tr>\n",
       "      <th>Reached.on.Time_Y.N</th>\n",
       "      <th>Gender</th>\n",
       "      <th></th>\n",
       "    </tr>\n",
       "  </thead>\n",
       "  <tbody>\n",
       "    <tr>\n",
       "      <th rowspan=\"2\" valign=\"top\">0</th>\n",
       "      <th>F</th>\n",
       "      <td>4.155615</td>\n",
       "    </tr>\n",
       "    <tr>\n",
       "      <th>M</th>\n",
       "      <td>4.142346</td>\n",
       "    </tr>\n",
       "    <tr>\n",
       "      <th rowspan=\"2\" valign=\"top\">1</th>\n",
       "      <th>F</th>\n",
       "      <td>3.978927</td>\n",
       "    </tr>\n",
       "    <tr>\n",
       "      <th>M</th>\n",
       "      <td>3.996271</td>\n",
       "    </tr>\n",
       "  </tbody>\n",
       "</table>\n",
       "</div>"
      ],
      "text/plain": [
       "                            Customer_care_calls\n",
       "Reached.on.Time_Y.N Gender                     \n",
       "0                   F                  4.155615\n",
       "                    M                  4.142346\n",
       "1                   F                  3.978927\n",
       "                    M                  3.996271"
      ]
     },
     "execution_count": 206,
     "metadata": {},
     "output_type": "execute_result"
    }
   ],
   "source": [
    "# 피벗테이블 프레임 만들자\n",
    "pt1=train.pivot_table(values='Customer_care_calls',\n",
    "                 index=['Reached.on.Time_Y.N','Gender'],\n",
    "                 aggfunc='mean')\n",
    "pt1"
   ]
  },
  {
   "cell_type": "code",
   "execution_count": 207,
   "metadata": {},
   "outputs": [],
   "source": [
    "#전체적으로 상관관계가 낮았는데 그나마 높은게 정시도착이라 정시도착에 컬럼\n",
    "#을 정하고 문의횟수가 성별과 연관있지 않을까 가설을 세워서 했다.\n",
    "#결측치를 4로 채운 이유는 평균이 4근처에 있기 때문이다."
   ]
  },
  {
   "cell_type": "code",
   "execution_count": 208,
   "metadata": {},
   "outputs": [],
   "source": [
    "train['Customer_care_calls']=train['Customer_care_calls'].fillna(4)"
   ]
  },
  {
   "cell_type": "code",
   "execution_count": 209,
   "metadata": {},
   "outputs": [],
   "source": [
    "test['Customer_care_calls']=test['Customer_care_calls'].fillna(4)"
   ]
  },
  {
   "cell_type": "code",
   "execution_count": 210,
   "metadata": {},
   "outputs": [],
   "source": [
    "# train.drop('Customer_care_callse',axis=1,inplace=True)"
   ]
  },
  {
   "cell_type": "code",
   "execution_count": 211,
   "metadata": {},
   "outputs": [
    {
     "name": "stdout",
     "output_type": "stream",
     "text": [
      "<class 'pandas.core.frame.DataFrame'>\n",
      "Int64Index: 6999 entries, 1 to 6999\n",
      "Data columns (total 11 columns):\n",
      " #   Column               Non-Null Count  Dtype  \n",
      "---  ------               --------------  -----  \n",
      " 0   Warehouse_block      6999 non-null   object \n",
      " 1   Mode_of_Shipment     6999 non-null   object \n",
      " 2   Customer_care_calls  6999 non-null   float64\n",
      " 3   Customer_rating      6999 non-null   int64  \n",
      " 4   Cost_of_the_Product  6999 non-null   int64  \n",
      " 5   Prior_purchases      6049 non-null   float64\n",
      " 6   Product_importance   6999 non-null   object \n",
      " 7   Gender               6999 non-null   object \n",
      " 8   Discount_offered     3468 non-null   float64\n",
      " 9   Weight_in_gms        6999 non-null   object \n",
      " 10  Reached.on.Time_Y.N  6999 non-null   int64  \n",
      "dtypes: float64(3), int64(3), object(5)\n",
      "memory usage: 656.2+ KB\n"
     ]
    }
   ],
   "source": [
    "train.info()"
   ]
  },
  {
   "cell_type": "code",
   "execution_count": 212,
   "metadata": {},
   "outputs": [
    {
     "name": "stdout",
     "output_type": "stream",
     "text": [
      "<class 'pandas.core.frame.DataFrame'>\n",
      "Int64Index: 4000 entries, 7000 to 10999\n",
      "Data columns (total 10 columns):\n",
      " #   Column               Non-Null Count  Dtype  \n",
      "---  ------               --------------  -----  \n",
      " 0   Warehouse_block      4000 non-null   object \n",
      " 1   Mode_of_Shipment     4000 non-null   object \n",
      " 2   Customer_care_calls  4000 non-null   float64\n",
      " 3   Customer_rating      4000 non-null   int64  \n",
      " 4   Cost_of_the_Product  4000 non-null   int64  \n",
      " 5   Prior_purchases      3633 non-null   float64\n",
      " 6   Product_importance   4000 non-null   object \n",
      " 7   Gender               4000 non-null   object \n",
      " 8   Discount_offered     2085 non-null   float64\n",
      " 9   Weight_in_gms        4000 non-null   object \n",
      "dtypes: float64(3), int64(2), object(5)\n",
      "memory usage: 343.8+ KB\n"
     ]
    }
   ],
   "source": [
    "test.info()"
   ]
  },
  {
   "cell_type": "code",
   "execution_count": 213,
   "metadata": {},
   "outputs": [
    {
     "data": {
      "text/plain": [
       "3.0     2176\n",
       "2.0     1423\n",
       "4.0     1162\n",
       "5.0      735\n",
       "6.0      310\n",
       "10.0     101\n",
       "8.0       72\n",
       "7.0       70\n",
       "Name: Prior_purchases, dtype: int64"
      ]
     },
     "execution_count": 213,
     "metadata": {},
     "output_type": "execute_result"
    }
   ],
   "source": [
    "#이전구매횟수 결측치채우기\n",
    "train['Prior_purchases'].value_counts()"
   ]
  },
  {
   "cell_type": "code",
   "execution_count": 214,
   "metadata": {
    "scrolled": true
   },
   "outputs": [
    {
     "data": {
      "text/html": [
       "<div>\n",
       "<style scoped>\n",
       "    .dataframe tbody tr th:only-of-type {\n",
       "        vertical-align: middle;\n",
       "    }\n",
       "\n",
       "    .dataframe tbody tr th {\n",
       "        vertical-align: top;\n",
       "    }\n",
       "\n",
       "    .dataframe thead th {\n",
       "        text-align: right;\n",
       "    }\n",
       "</style>\n",
       "<table border=\"1\" class=\"dataframe\">\n",
       "  <thead>\n",
       "    <tr style=\"text-align: right;\">\n",
       "      <th></th>\n",
       "      <th>Customer_care_calls</th>\n",
       "      <th>Customer_rating</th>\n",
       "      <th>Cost_of_the_Product</th>\n",
       "      <th>Prior_purchases</th>\n",
       "      <th>Discount_offered</th>\n",
       "      <th>Reached.on.Time_Y.N</th>\n",
       "    </tr>\n",
       "  </thead>\n",
       "  <tbody>\n",
       "    <tr>\n",
       "      <th>Customer_care_calls</th>\n",
       "      <td>1.000000</td>\n",
       "      <td>0.012948</td>\n",
       "      <td>0.046959</td>\n",
       "      <td>0.152444</td>\n",
       "      <td>-0.140687</td>\n",
       "      <td>-0.062842</td>\n",
       "    </tr>\n",
       "    <tr>\n",
       "      <th>Customer_rating</th>\n",
       "      <td>0.012948</td>\n",
       "      <td>1.000000</td>\n",
       "      <td>-0.001961</td>\n",
       "      <td>0.008217</td>\n",
       "      <td>-0.016456</td>\n",
       "      <td>0.011275</td>\n",
       "    </tr>\n",
       "    <tr>\n",
       "      <th>Cost_of_the_Product</th>\n",
       "      <td>0.046959</td>\n",
       "      <td>-0.001961</td>\n",
       "      <td>1.000000</td>\n",
       "      <td>0.028947</td>\n",
       "      <td>-0.139349</td>\n",
       "      <td>-0.012811</td>\n",
       "    </tr>\n",
       "    <tr>\n",
       "      <th>Prior_purchases</th>\n",
       "      <td>0.152444</td>\n",
       "      <td>0.008217</td>\n",
       "      <td>0.028947</td>\n",
       "      <td>1.000000</td>\n",
       "      <td>-0.081868</td>\n",
       "      <td>-0.065160</td>\n",
       "    </tr>\n",
       "    <tr>\n",
       "      <th>Discount_offered</th>\n",
       "      <td>-0.140687</td>\n",
       "      <td>-0.016456</td>\n",
       "      <td>-0.139349</td>\n",
       "      <td>-0.081868</td>\n",
       "      <td>1.000000</td>\n",
       "      <td>0.397393</td>\n",
       "    </tr>\n",
       "    <tr>\n",
       "      <th>Reached.on.Time_Y.N</th>\n",
       "      <td>-0.062842</td>\n",
       "      <td>0.011275</td>\n",
       "      <td>-0.012811</td>\n",
       "      <td>-0.065160</td>\n",
       "      <td>0.397393</td>\n",
       "      <td>1.000000</td>\n",
       "    </tr>\n",
       "  </tbody>\n",
       "</table>\n",
       "</div>"
      ],
      "text/plain": [
       "                     Customer_care_calls  Customer_rating  \\\n",
       "Customer_care_calls             1.000000         0.012948   \n",
       "Customer_rating                 0.012948         1.000000   \n",
       "Cost_of_the_Product             0.046959        -0.001961   \n",
       "Prior_purchases                 0.152444         0.008217   \n",
       "Discount_offered               -0.140687        -0.016456   \n",
       "Reached.on.Time_Y.N            -0.062842         0.011275   \n",
       "\n",
       "                     Cost_of_the_Product  Prior_purchases  Discount_offered  \\\n",
       "Customer_care_calls             0.046959         0.152444         -0.140687   \n",
       "Customer_rating                -0.001961         0.008217         -0.016456   \n",
       "Cost_of_the_Product             1.000000         0.028947         -0.139349   \n",
       "Prior_purchases                 0.028947         1.000000         -0.081868   \n",
       "Discount_offered               -0.139349        -0.081868          1.000000   \n",
       "Reached.on.Time_Y.N            -0.012811        -0.065160          0.397393   \n",
       "\n",
       "                     Reached.on.Time_Y.N  \n",
       "Customer_care_calls            -0.062842  \n",
       "Customer_rating                 0.011275  \n",
       "Cost_of_the_Product            -0.012811  \n",
       "Prior_purchases                -0.065160  \n",
       "Discount_offered                0.397393  \n",
       "Reached.on.Time_Y.N             1.000000  "
      ]
     },
     "execution_count": 214,
     "metadata": {},
     "output_type": "execute_result"
    }
   ],
   "source": [
    "train.corr()"
   ]
  },
  {
   "cell_type": "code",
   "execution_count": 215,
   "metadata": {},
   "outputs": [],
   "source": [
    "#결측치를 3으로 채운이유는 3이 앞도적으로 많다고 봤기 때문이다."
   ]
  },
  {
   "cell_type": "code",
   "execution_count": 216,
   "metadata": {},
   "outputs": [],
   "source": [
    "train['Prior_purchases']=train['Prior_purchases'].fillna(3)"
   ]
  },
  {
   "cell_type": "code",
   "execution_count": 217,
   "metadata": {},
   "outputs": [],
   "source": [
    "test['Prior_purchases']=test['Prior_purchases'].fillna(3)"
   ]
  },
  {
   "cell_type": "code",
   "execution_count": 218,
   "metadata": {},
   "outputs": [
    {
     "name": "stdout",
     "output_type": "stream",
     "text": [
      "<class 'pandas.core.frame.DataFrame'>\n",
      "Int64Index: 6999 entries, 1 to 6999\n",
      "Data columns (total 11 columns):\n",
      " #   Column               Non-Null Count  Dtype  \n",
      "---  ------               --------------  -----  \n",
      " 0   Warehouse_block      6999 non-null   object \n",
      " 1   Mode_of_Shipment     6999 non-null   object \n",
      " 2   Customer_care_calls  6999 non-null   float64\n",
      " 3   Customer_rating      6999 non-null   int64  \n",
      " 4   Cost_of_the_Product  6999 non-null   int64  \n",
      " 5   Prior_purchases      6999 non-null   float64\n",
      " 6   Product_importance   6999 non-null   object \n",
      " 7   Gender               6999 non-null   object \n",
      " 8   Discount_offered     3468 non-null   float64\n",
      " 9   Weight_in_gms        6999 non-null   object \n",
      " 10  Reached.on.Time_Y.N  6999 non-null   int64  \n",
      "dtypes: float64(3), int64(3), object(5)\n",
      "memory usage: 656.2+ KB\n"
     ]
    }
   ],
   "source": [
    "train.info()"
   ]
  },
  {
   "cell_type": "code",
   "execution_count": 219,
   "metadata": {},
   "outputs": [
    {
     "name": "stdout",
     "output_type": "stream",
     "text": [
      "<class 'pandas.core.frame.DataFrame'>\n",
      "Int64Index: 4000 entries, 7000 to 10999\n",
      "Data columns (total 10 columns):\n",
      " #   Column               Non-Null Count  Dtype  \n",
      "---  ------               --------------  -----  \n",
      " 0   Warehouse_block      4000 non-null   object \n",
      " 1   Mode_of_Shipment     4000 non-null   object \n",
      " 2   Customer_care_calls  4000 non-null   float64\n",
      " 3   Customer_rating      4000 non-null   int64  \n",
      " 4   Cost_of_the_Product  4000 non-null   int64  \n",
      " 5   Prior_purchases      4000 non-null   float64\n",
      " 6   Product_importance   4000 non-null   object \n",
      " 7   Gender               4000 non-null   object \n",
      " 8   Discount_offered     2085 non-null   float64\n",
      " 9   Weight_in_gms        4000 non-null   object \n",
      "dtypes: float64(3), int64(2), object(5)\n",
      "memory usage: 343.8+ KB\n"
     ]
    }
   ],
   "source": [
    "test.info()"
   ]
  },
  {
   "cell_type": "code",
   "execution_count": 220,
   "metadata": {},
   "outputs": [
    {
     "data": {
      "text/html": [
       "<div>\n",
       "<style scoped>\n",
       "    .dataframe tbody tr th:only-of-type {\n",
       "        vertical-align: middle;\n",
       "    }\n",
       "\n",
       "    .dataframe tbody tr th {\n",
       "        vertical-align: top;\n",
       "    }\n",
       "\n",
       "    .dataframe thead th {\n",
       "        text-align: right;\n",
       "    }\n",
       "</style>\n",
       "<table border=\"1\" class=\"dataframe\">\n",
       "  <thead>\n",
       "    <tr style=\"text-align: right;\">\n",
       "      <th></th>\n",
       "      <th>Customer_care_calls</th>\n",
       "      <th>Customer_rating</th>\n",
       "      <th>Cost_of_the_Product</th>\n",
       "      <th>Prior_purchases</th>\n",
       "      <th>Discount_offered</th>\n",
       "      <th>Reached.on.Time_Y.N</th>\n",
       "    </tr>\n",
       "  </thead>\n",
       "  <tbody>\n",
       "    <tr>\n",
       "      <th>count</th>\n",
       "      <td>6999.000000</td>\n",
       "      <td>6999.000000</td>\n",
       "      <td>6999.000000</td>\n",
       "      <td>6999.000000</td>\n",
       "      <td>3468.000000</td>\n",
       "      <td>6999.000000</td>\n",
       "    </tr>\n",
       "    <tr>\n",
       "      <th>mean</th>\n",
       "      <td>4.042292</td>\n",
       "      <td>3.023718</td>\n",
       "      <td>214.249178</td>\n",
       "      <td>3.498071</td>\n",
       "      <td>13.269031</td>\n",
       "      <td>0.594656</td>\n",
       "    </tr>\n",
       "    <tr>\n",
       "      <th>std</th>\n",
       "      <td>0.995810</td>\n",
       "      <td>2.149861</td>\n",
       "      <td>208.294273</td>\n",
       "      <td>1.436854</td>\n",
       "      <td>16.070188</td>\n",
       "      <td>0.490993</td>\n",
       "    </tr>\n",
       "    <tr>\n",
       "      <th>min</th>\n",
       "      <td>2.000000</td>\n",
       "      <td>1.000000</td>\n",
       "      <td>96.000000</td>\n",
       "      <td>2.000000</td>\n",
       "      <td>1.000000</td>\n",
       "      <td>0.000000</td>\n",
       "    </tr>\n",
       "    <tr>\n",
       "      <th>25%</th>\n",
       "      <td>3.000000</td>\n",
       "      <td>2.000000</td>\n",
       "      <td>169.000000</td>\n",
       "      <td>3.000000</td>\n",
       "      <td>4.000000</td>\n",
       "      <td>0.000000</td>\n",
       "    </tr>\n",
       "    <tr>\n",
       "      <th>50%</th>\n",
       "      <td>4.000000</td>\n",
       "      <td>3.000000</td>\n",
       "      <td>214.000000</td>\n",
       "      <td>3.000000</td>\n",
       "      <td>7.000000</td>\n",
       "      <td>1.000000</td>\n",
       "    </tr>\n",
       "    <tr>\n",
       "      <th>75%</th>\n",
       "      <td>5.000000</td>\n",
       "      <td>4.000000</td>\n",
       "      <td>251.000000</td>\n",
       "      <td>4.000000</td>\n",
       "      <td>10.000000</td>\n",
       "      <td>1.000000</td>\n",
       "    </tr>\n",
       "    <tr>\n",
       "      <th>max</th>\n",
       "      <td>7.000000</td>\n",
       "      <td>99.000000</td>\n",
       "      <td>9999.000000</td>\n",
       "      <td>10.000000</td>\n",
       "      <td>65.000000</td>\n",
       "      <td>1.000000</td>\n",
       "    </tr>\n",
       "  </tbody>\n",
       "</table>\n",
       "</div>"
      ],
      "text/plain": [
       "       Customer_care_calls  Customer_rating  Cost_of_the_Product  \\\n",
       "count          6999.000000      6999.000000          6999.000000   \n",
       "mean              4.042292         3.023718           214.249178   \n",
       "std               0.995810         2.149861           208.294273   \n",
       "min               2.000000         1.000000            96.000000   \n",
       "25%               3.000000         2.000000           169.000000   \n",
       "50%               4.000000         3.000000           214.000000   \n",
       "75%               5.000000         4.000000           251.000000   \n",
       "max               7.000000        99.000000          9999.000000   \n",
       "\n",
       "       Prior_purchases  Discount_offered  Reached.on.Time_Y.N  \n",
       "count      6999.000000       3468.000000          6999.000000  \n",
       "mean          3.498071         13.269031             0.594656  \n",
       "std           1.436854         16.070188             0.490993  \n",
       "min           2.000000          1.000000             0.000000  \n",
       "25%           3.000000          4.000000             0.000000  \n",
       "50%           3.000000          7.000000             1.000000  \n",
       "75%           4.000000         10.000000             1.000000  \n",
       "max          10.000000         65.000000             1.000000  "
      ]
     },
     "execution_count": 220,
     "metadata": {},
     "output_type": "execute_result"
    }
   ],
   "source": [
    "train.describe()"
   ]
  },
  {
   "cell_type": "code",
   "execution_count": 221,
   "metadata": {},
   "outputs": [
    {
     "data": {
      "text/plain": [
       "Index(['Warehouse_block ', 'Mode_of_Shipment', 'Customer_care_calls',\n",
       "       'Customer_rating', 'Cost_of_the_Product', 'Prior_purchases',\n",
       "       'Product_importance', 'Gender', 'Discount_offered', 'Weight_in_gms',\n",
       "       'Reached.on.Time_Y.N'],\n",
       "      dtype='object')"
      ]
     },
     "execution_count": 221,
     "metadata": {},
     "output_type": "execute_result"
    }
   ],
   "source": [
    "train.columns"
   ]
  },
  {
   "cell_type": "code",
   "execution_count": 222,
   "metadata": {},
   "outputs": [
    {
     "data": {
      "text/plain": [
       "array(['C', 'F', 'D', 'B', 'A'], dtype=object)"
      ]
     },
     "execution_count": 222,
     "metadata": {},
     "output_type": "execute_result"
    }
   ],
   "source": [
    "train['Warehouse_block '].unique()"
   ]
  },
  {
   "cell_type": "code",
   "execution_count": 223,
   "metadata": {},
   "outputs": [
    {
     "data": {
      "text/plain": [
       "array(['F', 'A', 'C', 'D', 'B'], dtype=object)"
      ]
     },
     "execution_count": 223,
     "metadata": {},
     "output_type": "execute_result"
    }
   ],
   "source": [
    "test['Warehouse_block '].unique()"
   ]
  },
  {
   "cell_type": "code",
   "execution_count": 224,
   "metadata": {},
   "outputs": [
    {
     "data": {
      "text/plain": [
       "array([' Ship', ' Flight', ' Road', '?', ' Shipzk', ' Flightzk',\n",
       "       ' Roadzk'], dtype=object)"
      ]
     },
     "execution_count": 224,
     "metadata": {},
     "output_type": "execute_result"
    }
   ],
   "source": [
    "train['Mode_of_Shipment'].unique()"
   ]
  },
  {
   "cell_type": "code",
   "execution_count": 225,
   "metadata": {},
   "outputs": [
    {
     "data": {
      "text/plain": [
       "array([' Ship', ' Flight', '?', ' Road', ' Shipzk', ' Roadzk'],\n",
       "      dtype=object)"
      ]
     },
     "execution_count": 225,
     "metadata": {},
     "output_type": "execute_result"
    }
   ],
   "source": [
    "test['Mode_of_Shipment'].unique()"
   ]
  },
  {
   "cell_type": "code",
   "execution_count": 226,
   "metadata": {
    "scrolled": true
   },
   "outputs": [
    {
     "data": {
      "text/plain": [
       " Ship        4508\n",
       " Road        1075\n",
       " Flight      1039\n",
       "?             373\n",
       " Shipzk         2\n",
       " Flightzk       1\n",
       " Roadzk         1\n",
       "Name: Mode_of_Shipment, dtype: int64"
      ]
     },
     "execution_count": 226,
     "metadata": {},
     "output_type": "execute_result"
    }
   ],
   "source": [
    "train['Mode_of_Shipment'].value_counts()"
   ]
  },
  {
   "cell_type": "code",
   "execution_count": 227,
   "metadata": {},
   "outputs": [],
   "source": [
    "for i in train['Mode_of_Shipment']:\n",
    "    if(i=='Shipzk'):\n",
    "        i.index()\n",
    "    "
   ]
  },
  {
   "cell_type": "code",
   "execution_count": 228,
   "metadata": {},
   "outputs": [],
   "source": [
    "#train라벨인코딩\n",
    "Ship_Dictionary={\n",
    "        \" Ship\":\"Ship\",\n",
    "        \" Road\":\"Road\",\n",
    "         \" Flight\":\"Flight\",\n",
    "          \" Shipzk\":\"Ship\",\n",
    "          \"?\":\"?\",\n",
    "          \" Roadzk\":\"Road\",\n",
    "         \" Flightzk\":\"Flight\"\n",
    "    \n",
    " }\n",
    "#shipzk,Roadzk,Flightzk는 이상치로 보고 Ship,Road,Flight로 수정"
   ]
  },
  {
   "cell_type": "code",
   "execution_count": 229,
   "metadata": {},
   "outputs": [],
   "source": [
    "train['Mode_of_Shipment']=train['Mode_of_Shipment'].map(Ship_Dictionary)"
   ]
  },
  {
   "cell_type": "code",
   "execution_count": 230,
   "metadata": {},
   "outputs": [
    {
     "data": {
      "text/plain": [
       "Ship      4510\n",
       "Road      1076\n",
       "Flight    1040\n",
       "?          373\n",
       "Name: Mode_of_Shipment, dtype: int64"
      ]
     },
     "execution_count": 230,
     "metadata": {},
     "output_type": "execute_result"
    }
   ],
   "source": [
    "train['Mode_of_Shipment'].value_counts()"
   ]
  },
  {
   "cell_type": "code",
   "execution_count": 231,
   "metadata": {},
   "outputs": [],
   "source": [
    "#test라벨인코딩\n",
    "tShip_Dictionary={\n",
    "    \" Ship\":\"Ship\",\n",
    "    \" Flight\":\"Flight\",\n",
    "    \"?\":\"?\",\n",
    "    \" Road\":\"Road\",\n",
    "    \" Roadzk\":\"Road\",\n",
    "    \" Shipzk\":\"Ship\"\n",
    "}\n",
    "#Roadzk,Shipzk이상치를 Ship,Road로 변경"
   ]
  },
  {
   "cell_type": "code",
   "execution_count": 232,
   "metadata": {},
   "outputs": [],
   "source": [
    "test['Mode_of_Shipment']=test['Mode_of_Shipment'].map(tShip_Dictionary)"
   ]
  },
  {
   "cell_type": "code",
   "execution_count": 233,
   "metadata": {},
   "outputs": [],
   "source": [
    " #Ship이 최빈값이라서 결측치에 채워줌\n",
    "train['Mode_of_Shipment']=train['Mode_of_Shipment'].replace('?','Ship')\n",
    "test['Mode_of_Shipment']=test['Mode_of_Shipment'].replace('?','Ship')"
   ]
  },
  {
   "cell_type": "code",
   "execution_count": 234,
   "metadata": {},
   "outputs": [
    {
     "data": {
      "text/plain": [
       "Ship      4883\n",
       "Road      1076\n",
       "Flight    1040\n",
       "Name: Mode_of_Shipment, dtype: int64"
      ]
     },
     "execution_count": 234,
     "metadata": {},
     "output_type": "execute_result"
    }
   ],
   "source": [
    "train['Mode_of_Shipment'].value_counts()"
   ]
  },
  {
   "cell_type": "code",
   "execution_count": 235,
   "metadata": {},
   "outputs": [
    {
     "data": {
      "text/plain": [
       "Ship      2773\n",
       "Flight     631\n",
       "Road       596\n",
       "Name: Mode_of_Shipment, dtype: int64"
      ]
     },
     "execution_count": 235,
     "metadata": {},
     "output_type": "execute_result"
    }
   ],
   "source": [
    "test['Mode_of_Shipment'].value_counts()"
   ]
  },
  {
   "cell_type": "code",
   "execution_count": 236,
   "metadata": {},
   "outputs": [
    {
     "data": {
      "text/plain": [
       "array([ 2,  3,  1,  5,  4, 99], dtype=int64)"
      ]
     },
     "execution_count": 236,
     "metadata": {},
     "output_type": "execute_result"
    }
   ],
   "source": [
    "train['Customer_rating'].unique()\n",
    "#99이상치 발견"
   ]
  },
  {
   "cell_type": "code",
   "execution_count": 237,
   "metadata": {},
   "outputs": [
    {
     "data": {
      "text/plain": [
       "3     1451\n",
       "2     1399\n",
       "5     1399\n",
       "1     1391\n",
       "4     1357\n",
       "99       2\n",
       "Name: Customer_rating, dtype: int64"
      ]
     },
     "execution_count": 237,
     "metadata": {},
     "output_type": "execute_result"
    }
   ],
   "source": [
    "train['Customer_rating'].value_counts()"
   ]
  },
  {
   "cell_type": "code",
   "execution_count": 238,
   "metadata": {},
   "outputs": [
    {
     "data": {
      "text/html": [
       "<div>\n",
       "<style scoped>\n",
       "    .dataframe tbody tr th:only-of-type {\n",
       "        vertical-align: middle;\n",
       "    }\n",
       "\n",
       "    .dataframe tbody tr th {\n",
       "        vertical-align: top;\n",
       "    }\n",
       "\n",
       "    .dataframe thead th {\n",
       "        text-align: right;\n",
       "    }\n",
       "</style>\n",
       "<table border=\"1\" class=\"dataframe\">\n",
       "  <thead>\n",
       "    <tr style=\"text-align: right;\">\n",
       "      <th></th>\n",
       "      <th>Customer_care_calls</th>\n",
       "      <th>Customer_rating</th>\n",
       "      <th>Cost_of_the_Product</th>\n",
       "      <th>Prior_purchases</th>\n",
       "      <th>Discount_offered</th>\n",
       "      <th>Reached.on.Time_Y.N</th>\n",
       "    </tr>\n",
       "  </thead>\n",
       "  <tbody>\n",
       "    <tr>\n",
       "      <th>Customer_care_calls</th>\n",
       "      <td>1.000000</td>\n",
       "      <td>0.012948</td>\n",
       "      <td>0.046959</td>\n",
       "      <td>0.137079</td>\n",
       "      <td>-0.140687</td>\n",
       "      <td>-0.062842</td>\n",
       "    </tr>\n",
       "    <tr>\n",
       "      <th>Customer_rating</th>\n",
       "      <td>0.012948</td>\n",
       "      <td>1.000000</td>\n",
       "      <td>-0.001961</td>\n",
       "      <td>0.005057</td>\n",
       "      <td>-0.016456</td>\n",
       "      <td>0.011275</td>\n",
       "    </tr>\n",
       "    <tr>\n",
       "      <th>Cost_of_the_Product</th>\n",
       "      <td>0.046959</td>\n",
       "      <td>-0.001961</td>\n",
       "      <td>1.000000</td>\n",
       "      <td>0.029920</td>\n",
       "      <td>-0.139349</td>\n",
       "      <td>-0.012811</td>\n",
       "    </tr>\n",
       "    <tr>\n",
       "      <th>Prior_purchases</th>\n",
       "      <td>0.137079</td>\n",
       "      <td>0.005057</td>\n",
       "      <td>0.029920</td>\n",
       "      <td>1.000000</td>\n",
       "      <td>-0.075178</td>\n",
       "      <td>-0.057114</td>\n",
       "    </tr>\n",
       "    <tr>\n",
       "      <th>Discount_offered</th>\n",
       "      <td>-0.140687</td>\n",
       "      <td>-0.016456</td>\n",
       "      <td>-0.139349</td>\n",
       "      <td>-0.075178</td>\n",
       "      <td>1.000000</td>\n",
       "      <td>0.397393</td>\n",
       "    </tr>\n",
       "    <tr>\n",
       "      <th>Reached.on.Time_Y.N</th>\n",
       "      <td>-0.062842</td>\n",
       "      <td>0.011275</td>\n",
       "      <td>-0.012811</td>\n",
       "      <td>-0.057114</td>\n",
       "      <td>0.397393</td>\n",
       "      <td>1.000000</td>\n",
       "    </tr>\n",
       "  </tbody>\n",
       "</table>\n",
       "</div>"
      ],
      "text/plain": [
       "                     Customer_care_calls  Customer_rating  \\\n",
       "Customer_care_calls             1.000000         0.012948   \n",
       "Customer_rating                 0.012948         1.000000   \n",
       "Cost_of_the_Product             0.046959        -0.001961   \n",
       "Prior_purchases                 0.137079         0.005057   \n",
       "Discount_offered               -0.140687        -0.016456   \n",
       "Reached.on.Time_Y.N            -0.062842         0.011275   \n",
       "\n",
       "                     Cost_of_the_Product  Prior_purchases  Discount_offered  \\\n",
       "Customer_care_calls             0.046959         0.137079         -0.140687   \n",
       "Customer_rating                -0.001961         0.005057         -0.016456   \n",
       "Cost_of_the_Product             1.000000         0.029920         -0.139349   \n",
       "Prior_purchases                 0.029920         1.000000         -0.075178   \n",
       "Discount_offered               -0.139349        -0.075178          1.000000   \n",
       "Reached.on.Time_Y.N            -0.012811        -0.057114          0.397393   \n",
       "\n",
       "                     Reached.on.Time_Y.N  \n",
       "Customer_care_calls            -0.062842  \n",
       "Customer_rating                 0.011275  \n",
       "Cost_of_the_Product            -0.012811  \n",
       "Prior_purchases                -0.057114  \n",
       "Discount_offered                0.397393  \n",
       "Reached.on.Time_Y.N             1.000000  "
      ]
     },
     "execution_count": 238,
     "metadata": {},
     "output_type": "execute_result"
    }
   ],
   "source": [
    "train.corr() #'Customer_rating'과 상관관계가 다 낮아서 유의미한 결과를 볼 수 없다."
   ]
  },
  {
   "cell_type": "code",
   "execution_count": 239,
   "metadata": {},
   "outputs": [],
   "source": [
    "#이상치가 2개뿐이라서 최빈값 3으로 바꿈\n",
    "train['Customer_rating']=train['Customer_rating'].replace(99,3)"
   ]
  },
  {
   "cell_type": "code",
   "execution_count": 240,
   "metadata": {},
   "outputs": [
    {
     "data": {
      "text/plain": [
       "3    1453\n",
       "2    1399\n",
       "5    1399\n",
       "1    1391\n",
       "4    1357\n",
       "Name: Customer_rating, dtype: int64"
      ]
     },
     "execution_count": 240,
     "metadata": {},
     "output_type": "execute_result"
    }
   ],
   "source": [
    "train['Customer_rating'].value_counts()"
   ]
  },
  {
   "cell_type": "code",
   "execution_count": 241,
   "metadata": {},
   "outputs": [
    {
     "data": {
      "text/plain": [
       "array([ 1,  4,  5,  2,  3, 99], dtype=int64)"
      ]
     },
     "execution_count": 241,
     "metadata": {},
     "output_type": "execute_result"
    }
   ],
   "source": [
    "test['Customer_rating'].unique()"
   ]
  },
  {
   "cell_type": "code",
   "execution_count": 242,
   "metadata": {},
   "outputs": [],
   "source": [
    "test['Customer_rating']=test['Customer_rating'].replace(99,3)"
   ]
  },
  {
   "cell_type": "code",
   "execution_count": 243,
   "metadata": {},
   "outputs": [
    {
     "data": {
      "text/plain": [
       "1    843\n",
       "4    831\n",
       "3    790\n",
       "5    772\n",
       "2    764\n",
       "Name: Customer_rating, dtype: int64"
      ]
     },
     "execution_count": 243,
     "metadata": {},
     "output_type": "execute_result"
    }
   ],
   "source": [
    "test['Customer_rating'].value_counts()"
   ]
  },
  {
   "cell_type": "code",
   "execution_count": 244,
   "metadata": {},
   "outputs": [
    {
     "data": {
      "text/plain": [
       "array([ 135,  225,  229,  228,  195,  171,  282,  161,  274,  222,  264,\n",
       "        196,  232,  194,  207,  146,  221,  134,  254,  160,  273,  142,\n",
       "        224,  253,  209,  247,  239,  215,  177,  189,  139,  184,  121,\n",
       "        133,  158,  286,  281,  261,  214,  180,  169,  280,  166,  172,\n",
       "        212,  246,  154,  203,  296,  185,  249,  269,  213,  263,  267,\n",
       "        164,  178,  268,  278,  141,  140,  241,  105,  197,  193,  231,\n",
       "        237,  305,  210,  138,  226,  151,  309,  255,  152,  186,  136,\n",
       "        244,  252,  111,  248, 9999,  202,  174,  272,  182,  181,  173,\n",
       "        242,  294,  198,  208,  301,  270,  130,  259,  236,  250,  223,\n",
       "        183,  148,  243,  262,  201,  199,  156,  145,  150,  132,  137,\n",
       "        276,  256,  290,  200,  258,  170,  227,  240,  157,  165,  175,\n",
       "        233,  289,  191,  277,  275,  190,  163,  266,  206,  217,  220,\n",
       "        219,  218,  187,  298,  162,  295,  234,  176,  245,  238,  143,\n",
       "        265,  112,  125,  128,  102,   97,  204,  211,  123,  307,  144,\n",
       "        271,  149,  159,  230,  257,  167,   98,  287,  192,  216,  205,\n",
       "        188,  103,  147,  104,  310,  304,  292,  179,  124,  260,  168,\n",
       "        109,  107,  235,  308,  114,  153,  300,  116,  279,  285,  291,\n",
       "        306,  251,  117,  115,  155,  126,  119,  101,  283,  110,  131,\n",
       "        113,  118,  284,  120,   96,  297,  303,  299,  100,  293,  288,\n",
       "        302,  127,   99,  129,  122,  108,  106], dtype=int64)"
      ]
     },
     "execution_count": 244,
     "metadata": {},
     "output_type": "execute_result"
    }
   ],
   "source": [
    "train['Cost_of_the_Product'].unique()"
   ]
  },
  {
   "cell_type": "code",
   "execution_count": 245,
   "metadata": {},
   "outputs": [
    {
     "data": {
      "text/plain": [
       "count    6999.000000\n",
       "mean      214.249178\n",
       "std       208.294273\n",
       "min        96.000000\n",
       "25%       169.000000\n",
       "50%       214.000000\n",
       "75%       251.000000\n",
       "max      9999.000000\n",
       "Name: Cost_of_the_Product, dtype: float64"
      ]
     },
     "execution_count": 245,
     "metadata": {},
     "output_type": "execute_result"
    }
   ],
   "source": [
    "train['Cost_of_the_Product'].describe()\n",
    "#9999 이상치발견"
   ]
  },
  {
   "cell_type": "code",
   "execution_count": 246,
   "metadata": {},
   "outputs": [
    {
     "data": {
      "text/plain": [
       "214.24917845406486"
      ]
     },
     "execution_count": 246,
     "metadata": {},
     "output_type": "execute_result"
    }
   ],
   "source": [
    "train['Cost_of_the_Product'].mean()"
   ]
  },
  {
   "cell_type": "code",
   "execution_count": 247,
   "metadata": {},
   "outputs": [],
   "source": [
    "#이상치 9999를 평균 214로 바꿔준다.\n",
    "train['Cost_of_the_Product']=train['Cost_of_the_Product'].replace(9999,214)"
   ]
  },
  {
   "cell_type": "code",
   "execution_count": 248,
   "metadata": {},
   "outputs": [
    {
     "data": {
      "text/plain": [
       "count    6999.000000\n",
       "mean      210.055008\n",
       "std        48.220091\n",
       "min        96.000000\n",
       "25%       169.000000\n",
       "50%       214.000000\n",
       "75%       251.000000\n",
       "max       310.000000\n",
       "Name: Cost_of_the_Product, dtype: float64"
      ]
     },
     "execution_count": 248,
     "metadata": {},
     "output_type": "execute_result"
    }
   ],
   "source": [
    "train['Cost_of_the_Product'].describe()"
   ]
  },
  {
   "cell_type": "code",
   "execution_count": 249,
   "metadata": {},
   "outputs": [
    {
     "data": {
      "text/plain": [
       "array([ 274,  136,  140,  291,  147,  221,  253,  244,  150,  175,  235,\n",
       "        257,  204,  211,  258,  210,  226,  290,  148,  225,  206,  205,\n",
       "        199,  247,  266,  133,  251,  220,  181,  209,  263,  152,  246,\n",
       "        260,  178,  151,  256,  267,  229,  180,  238,  160,  241,  166,\n",
       "        135,  167,  265,  149,  191,  216,  218,  170,  301,  208,  285,\n",
       "        134,  156,  174,  185,  264,  245,  154,  213,  292,  217,  192,\n",
       "        248,  270,  172,  142,  277,  255,  162,  139,  234,  239,  179,\n",
       "        164,  232,  202,  143,  233,  165,  262,  138,  294,  271,  117,\n",
       "        171,  252,  168,  173,  228,  254,  237,  144,  212,  289,  137,\n",
       "        190,  201,  222,  159,  231,  223,  198,  269,  243,  293,  224,\n",
       "        187,  115,  249,  193,  296,  189,  195, 9999,  275,  215,  242,\n",
       "         98,  203,  188,  153,  129,  176,  141,  236,  163,  169,  118,\n",
       "        119,  196,  250,  194,  182,  282,  184,  125,  286,  200,  273,\n",
       "        219,  278,  207,  268,  186,  230,  121,  106,  197,  108,  146,\n",
       "        177,  240,  158,  276,  309,  287,  227,  279,  272,  111,  155,\n",
       "        302,  283,  161,  261,  303,  130,  304,  306,  157,   97,  298,\n",
       "        259,  280,  124,  310,  214,  145,  288,  100,  132,  281,  113,\n",
       "        183,  284,  107,  116,  103,  101,  114,  295,  307,  122,  127,\n",
       "        308,  104,  300,   99,  123,  102,  297,  105,   96,  112,  128,\n",
       "        131,  126,  110,  120,  109,  305], dtype=int64)"
      ]
     },
     "execution_count": 249,
     "metadata": {},
     "output_type": "execute_result"
    }
   ],
   "source": [
    "test['Cost_of_the_Product'].unique()"
   ]
  },
  {
   "cell_type": "code",
   "execution_count": 250,
   "metadata": {},
   "outputs": [],
   "source": [
    "#이상치9999를 평균값214로 바꿔준다\n",
    "test['Cost_of_the_Product']=test['Cost_of_the_Product'].replace(9999,214)"
   ]
  },
  {
   "cell_type": "code",
   "execution_count": 251,
   "metadata": {},
   "outputs": [
    {
     "data": {
      "text/plain": [
       "array(['low', 'medium', 'high', '?', 'mediumm', 'loww', 'highh'],\n",
       "      dtype=object)"
      ]
     },
     "execution_count": 251,
     "metadata": {},
     "output_type": "execute_result"
    }
   ],
   "source": [
    "train['Product_importance'].unique()\n",
    "#?,mediumm,loww,highh 결측치와 이상치 발견"
   ]
  },
  {
   "cell_type": "code",
   "execution_count": 252,
   "metadata": {},
   "outputs": [
    {
     "data": {
      "text/plain": [
       "low        3344\n",
       "medium     2982\n",
       "high        573\n",
       "?            97\n",
       "mediumm       1\n",
       "loww          1\n",
       "highh         1\n",
       "Name: Product_importance, dtype: int64"
      ]
     },
     "execution_count": 252,
     "metadata": {},
     "output_type": "execute_result"
    }
   ],
   "source": [
    "train['Product_importance'].value_counts()"
   ]
  },
  {
   "cell_type": "code",
   "execution_count": 253,
   "metadata": {},
   "outputs": [],
   "source": [
    "#결측치?는 최빈값 low로 채워주고 \n",
    "# highh,mediumm,loww이상치들은 high,medium,low로 바꿔준다.\n",
    "train['Product_importance']=train['Product_importance'].replace('?','low')\n",
    "train['Product_importance']=train['Product_importance'].replace('highh','high')\n",
    "train['Product_importance']=train['Product_importance'].replace('mediumm','medium')\n",
    "train['Product_importance']=train['Product_importance'].replace('loww','low')"
   ]
  },
  {
   "cell_type": "code",
   "execution_count": 254,
   "metadata": {},
   "outputs": [
    {
     "data": {
      "text/plain": [
       "low       3442\n",
       "medium    2983\n",
       "high       574\n",
       "Name: Product_importance, dtype: int64"
      ]
     },
     "execution_count": 254,
     "metadata": {},
     "output_type": "execute_result"
    }
   ],
   "source": [
    "train['Product_importance'].value_counts()"
   ]
  },
  {
   "cell_type": "code",
   "execution_count": 255,
   "metadata": {},
   "outputs": [
    {
     "data": {
      "text/plain": [
       "array(['high', 'medium', 'low', '?', 'mediumm'], dtype=object)"
      ]
     },
     "execution_count": 255,
     "metadata": {},
     "output_type": "execute_result"
    }
   ],
   "source": [
    "test['Product_importance'].unique()"
   ]
  },
  {
   "cell_type": "code",
   "execution_count": 256,
   "metadata": {},
   "outputs": [],
   "source": [
    "#결측치?는 최빈값 low로 채워주고 \n",
    "# highh,mediumm,loww이상치들은 high,medium,low로 바꿔준다.\n",
    "test['Product_importance']=test['Product_importance'].replace('?','low')\n",
    "test['Product_importance']=test['Product_importance'].replace('highh','high')\n",
    "test['Product_importance']=test['Product_importance'].replace('mediumm','medium')\n",
    "test['Product_importance']=test['Product_importance'].replace('loww','low')"
   ]
  },
  {
   "cell_type": "code",
   "execution_count": 257,
   "metadata": {},
   "outputs": [
    {
     "data": {
      "text/plain": [
       "low       1953\n",
       "medium    1686\n",
       "high       361\n",
       "Name: Product_importance, dtype: int64"
      ]
     },
     "execution_count": 257,
     "metadata": {},
     "output_type": "execute_result"
    }
   ],
   "source": [
    "test['Product_importance'].value_counts()"
   ]
  },
  {
   "cell_type": "code",
   "execution_count": 258,
   "metadata": {},
   "outputs": [
    {
     "data": {
      "text/plain": [
       "array(['1339', '1082', '4971', ..., '4075', '2486', '1480'], dtype=object)"
      ]
     },
     "execution_count": 258,
     "metadata": {},
     "output_type": "execute_result"
    }
   ],
   "source": [
    "train['Weight_in_gms'].unique()"
   ]
  },
  {
   "cell_type": "code",
   "execution_count": 259,
   "metadata": {},
   "outputs": [
    {
     "data": {
      "text/plain": [
       "array(['4352', '1056', '5383', ..., '3255', '1206', '3869'], dtype=object)"
      ]
     },
     "execution_count": 259,
     "metadata": {},
     "output_type": "execute_result"
    }
   ],
   "source": [
    "test['Weight_in_gms'].unique()"
   ]
  },
  {
   "cell_type": "code",
   "execution_count": 260,
   "metadata": {},
   "outputs": [
    {
     "data": {
      "text/plain": [
       "count     6999\n",
       "unique    3332\n",
       "top          ?\n",
       "freq       446\n",
       "Name: Weight_in_gms, dtype: object"
      ]
     },
     "execution_count": 260,
     "metadata": {},
     "output_type": "execute_result"
    }
   ],
   "source": [
    "train['Weight_in_gms'].describe()\n",
    "#top 최빈값 ?"
   ]
  },
  {
   "cell_type": "code",
   "execution_count": 261,
   "metadata": {
    "scrolled": true
   },
   "outputs": [
    {
     "data": {
      "text/plain": [
       "?       446\n",
       "1817      8\n",
       "1367      8\n",
       "4195      7\n",
       "4541      7\n",
       "       ... \n",
       "5836      1\n",
       "1800      1\n",
       "3381      1\n",
       "1579      1\n",
       "4714      1\n",
       "Name: Weight_in_gms, Length: 3332, dtype: int64"
      ]
     },
     "execution_count": 261,
     "metadata": {},
     "output_type": "execute_result"
    }
   ],
   "source": [
    "train['Weight_in_gms'].value_counts()\n",
    "# 결측치 ? 발견"
   ]
  },
  {
   "cell_type": "code",
   "execution_count": 262,
   "metadata": {},
   "outputs": [],
   "source": [
    "# test['Weight_in_gms'].value_counts()"
   ]
  },
  {
   "cell_type": "code",
   "execution_count": 263,
   "metadata": {},
   "outputs": [
    {
     "name": "stdout",
     "output_type": "stream",
     "text": [
      "<class 'pandas.core.frame.DataFrame'>\n",
      "Int64Index: 6999 entries, 1 to 6999\n",
      "Data columns (total 11 columns):\n",
      " #   Column               Non-Null Count  Dtype  \n",
      "---  ------               --------------  -----  \n",
      " 0   Warehouse_block      6999 non-null   object \n",
      " 1   Mode_of_Shipment     6999 non-null   object \n",
      " 2   Customer_care_calls  6999 non-null   float64\n",
      " 3   Customer_rating      6999 non-null   int64  \n",
      " 4   Cost_of_the_Product  6999 non-null   int64  \n",
      " 5   Prior_purchases      6999 non-null   float64\n",
      " 6   Product_importance   6999 non-null   object \n",
      " 7   Gender               6999 non-null   object \n",
      " 8   Discount_offered     3468 non-null   float64\n",
      " 9   Weight_in_gms        6999 non-null   object \n",
      " 10  Reached.on.Time_Y.N  6999 non-null   int64  \n",
      "dtypes: float64(3), int64(3), object(5)\n",
      "memory usage: 656.2+ KB\n"
     ]
    }
   ],
   "source": [
    "train.info()"
   ]
  },
  {
   "cell_type": "code",
   "execution_count": 264,
   "metadata": {},
   "outputs": [
    {
     "data": {
      "text/html": [
       "<div>\n",
       "<style scoped>\n",
       "    .dataframe tbody tr th:only-of-type {\n",
       "        vertical-align: middle;\n",
       "    }\n",
       "\n",
       "    .dataframe tbody tr th {\n",
       "        vertical-align: top;\n",
       "    }\n",
       "\n",
       "    .dataframe thead th {\n",
       "        text-align: right;\n",
       "    }\n",
       "</style>\n",
       "<table border=\"1\" class=\"dataframe\">\n",
       "  <thead>\n",
       "    <tr style=\"text-align: right;\">\n",
       "      <th></th>\n",
       "      <th>Customer_care_calls</th>\n",
       "      <th>Customer_rating</th>\n",
       "      <th>Cost_of_the_Product</th>\n",
       "      <th>Prior_purchases</th>\n",
       "      <th>Discount_offered</th>\n",
       "      <th>Reached.on.Time_Y.N</th>\n",
       "    </tr>\n",
       "  </thead>\n",
       "  <tbody>\n",
       "    <tr>\n",
       "      <th>Customer_care_calls</th>\n",
       "      <td>1.000000</td>\n",
       "      <td>0.010797</td>\n",
       "      <td>0.293898</td>\n",
       "      <td>0.137079</td>\n",
       "      <td>-0.140687</td>\n",
       "      <td>-0.062842</td>\n",
       "    </tr>\n",
       "    <tr>\n",
       "      <th>Customer_rating</th>\n",
       "      <td>0.010797</td>\n",
       "      <td>1.000000</td>\n",
       "      <td>0.006108</td>\n",
       "      <td>0.014454</td>\n",
       "      <td>-0.016456</td>\n",
       "      <td>0.001127</td>\n",
       "    </tr>\n",
       "    <tr>\n",
       "      <th>Cost_of_the_Product</th>\n",
       "      <td>0.293898</td>\n",
       "      <td>0.006108</td>\n",
       "      <td>1.000000</td>\n",
       "      <td>0.119035</td>\n",
       "      <td>-0.139349</td>\n",
       "      <td>-0.068100</td>\n",
       "    </tr>\n",
       "    <tr>\n",
       "      <th>Prior_purchases</th>\n",
       "      <td>0.137079</td>\n",
       "      <td>0.014454</td>\n",
       "      <td>0.119035</td>\n",
       "      <td>1.000000</td>\n",
       "      <td>-0.075178</td>\n",
       "      <td>-0.057114</td>\n",
       "    </tr>\n",
       "    <tr>\n",
       "      <th>Discount_offered</th>\n",
       "      <td>-0.140687</td>\n",
       "      <td>-0.016456</td>\n",
       "      <td>-0.139349</td>\n",
       "      <td>-0.075178</td>\n",
       "      <td>1.000000</td>\n",
       "      <td>0.397393</td>\n",
       "    </tr>\n",
       "    <tr>\n",
       "      <th>Reached.on.Time_Y.N</th>\n",
       "      <td>-0.062842</td>\n",
       "      <td>0.001127</td>\n",
       "      <td>-0.068100</td>\n",
       "      <td>-0.057114</td>\n",
       "      <td>0.397393</td>\n",
       "      <td>1.000000</td>\n",
       "    </tr>\n",
       "  </tbody>\n",
       "</table>\n",
       "</div>"
      ],
      "text/plain": [
       "                     Customer_care_calls  Customer_rating  \\\n",
       "Customer_care_calls             1.000000         0.010797   \n",
       "Customer_rating                 0.010797         1.000000   \n",
       "Cost_of_the_Product             0.293898         0.006108   \n",
       "Prior_purchases                 0.137079         0.014454   \n",
       "Discount_offered               -0.140687        -0.016456   \n",
       "Reached.on.Time_Y.N            -0.062842         0.001127   \n",
       "\n",
       "                     Cost_of_the_Product  Prior_purchases  Discount_offered  \\\n",
       "Customer_care_calls             0.293898         0.137079         -0.140687   \n",
       "Customer_rating                 0.006108         0.014454         -0.016456   \n",
       "Cost_of_the_Product             1.000000         0.119035         -0.139349   \n",
       "Prior_purchases                 0.119035         1.000000         -0.075178   \n",
       "Discount_offered               -0.139349        -0.075178          1.000000   \n",
       "Reached.on.Time_Y.N            -0.068100        -0.057114          0.397393   \n",
       "\n",
       "                     Reached.on.Time_Y.N  \n",
       "Customer_care_calls            -0.062842  \n",
       "Customer_rating                 0.001127  \n",
       "Cost_of_the_Product            -0.068100  \n",
       "Prior_purchases                -0.057114  \n",
       "Discount_offered                0.397393  \n",
       "Reached.on.Time_Y.N             1.000000  "
      ]
     },
     "execution_count": 264,
     "metadata": {},
     "output_type": "execute_result"
    }
   ],
   "source": [
    "train.corr()"
   ]
  },
  {
   "cell_type": "code",
   "execution_count": 265,
   "metadata": {},
   "outputs": [
    {
     "data": {
      "text/plain": [
       "array([nan,  6.,  2.,  9.,  3., 34.,  7.,  1., 53.,  8., 63.,  4., 43.,\n",
       "       60., 51.,  5., 10., 55., 17., 62., 15., 23., 38., 32., 39., 29.,\n",
       "       45., 14., 52., 41., 58., 11., 50., 35., 28., 31., 24., 64., 61.,\n",
       "       48., 65., 40., 18., 22., 56., 49., 21., 27., 20., 13., 30., 26.,\n",
       "       54., 16., 57., 47., 42., 36., 37., 46., 19., 12., 25., 44., 33.,\n",
       "       59.])"
      ]
     },
     "execution_count": 265,
     "metadata": {},
     "output_type": "execute_result"
    }
   ],
   "source": [
    "train['Discount_offered'].unique()"
   ]
  },
  {
   "cell_type": "code",
   "execution_count": 266,
   "metadata": {},
   "outputs": [
    {
     "data": {
      "text/plain": [
       "array([nan,  6.,  2.,  9.,  3., 34.,  7.,  1., 53.,  8., 63.,  4., 43.,\n",
       "       60., 51.,  5., 10., 55., 17., 62., 15., 23., 38., 32., 39., 29.,\n",
       "       45., 14., 52., 41., 58., 11., 50., 35., 28., 31., 24., 64., 61.,\n",
       "       48., 65., 40., 18., 22., 56., 49., 21., 27., 20., 13., 30., 26.,\n",
       "       54., 16., 57., 47., 42., 36., 37., 46., 19., 12., 25., 44., 33.,\n",
       "       59.])"
      ]
     },
     "execution_count": 266,
     "metadata": {},
     "output_type": "execute_result"
    }
   ],
   "source": [
    "train['Discount_offered'].unique()"
   ]
  },
  {
   "cell_type": "code",
   "execution_count": 267,
   "metadata": {},
   "outputs": [],
   "source": [
    "#특정제품에 제공되는 활인율에 결측치를 \n",
    "#활인이 안된 상품으로 가정해서 \n",
    "#결측치에 0을 넣겠다.\n",
    "train['Discount_offered']=train['Discount_offered'].fillna(0)"
   ]
  },
  {
   "cell_type": "code",
   "execution_count": 268,
   "metadata": {},
   "outputs": [
    {
     "data": {
      "text/plain": [
       "0.0     3531\n",
       "9.0      287\n",
       "10.0     278\n",
       "2.0      278\n",
       "3.0      277\n",
       "        ... \n",
       "50.0      10\n",
       "18.0      10\n",
       "42.0       9\n",
       "26.0       8\n",
       "43.0       7\n",
       "Name: Discount_offered, Length: 66, dtype: int64"
      ]
     },
     "execution_count": 268,
     "metadata": {},
     "output_type": "execute_result"
    }
   ],
   "source": [
    "train['Discount_offered'].value_counts()"
   ]
  },
  {
   "cell_type": "code",
   "execution_count": 269,
   "metadata": {},
   "outputs": [],
   "source": [
    "test['Discount_offered']=test['Discount_offered'].fillna(0)"
   ]
  },
  {
   "cell_type": "code",
   "execution_count": 270,
   "metadata": {},
   "outputs": [
    {
     "data": {
      "text/plain": [
       "0.0     1915\n",
       "3.0      171\n",
       "7.0      170\n",
       "5.0      169\n",
       "6.0      166\n",
       "        ... \n",
       "58.0       4\n",
       "30.0       4\n",
       "55.0       4\n",
       "34.0       3\n",
       "65.0       2\n",
       "Name: Discount_offered, Length: 66, dtype: int64"
      ]
     },
     "execution_count": 270,
     "metadata": {},
     "output_type": "execute_result"
    }
   ],
   "source": [
    "test['Discount_offered'].value_counts()"
   ]
  },
  {
   "cell_type": "code",
   "execution_count": 271,
   "metadata": {},
   "outputs": [
    {
     "data": {
      "text/plain": [
       "array([ 3.,  5.,  6.,  4., 10.,  2.,  7.,  8.])"
      ]
     },
     "execution_count": 271,
     "metadata": {},
     "output_type": "execute_result"
    }
   ],
   "source": [
    "train['Prior_purchases'].unique()"
   ]
  },
  {
   "cell_type": "code",
   "execution_count": 272,
   "metadata": {},
   "outputs": [
    {
     "data": {
      "text/html": [
       "<div>\n",
       "<style scoped>\n",
       "    .dataframe tbody tr th:only-of-type {\n",
       "        vertical-align: middle;\n",
       "    }\n",
       "\n",
       "    .dataframe tbody tr th {\n",
       "        vertical-align: top;\n",
       "    }\n",
       "\n",
       "    .dataframe thead th {\n",
       "        text-align: right;\n",
       "    }\n",
       "</style>\n",
       "<table border=\"1\" class=\"dataframe\">\n",
       "  <thead>\n",
       "    <tr style=\"text-align: right;\">\n",
       "      <th></th>\n",
       "      <th>Customer_care_calls</th>\n",
       "      <th>Customer_rating</th>\n",
       "      <th>Cost_of_the_Product</th>\n",
       "      <th>Prior_purchases</th>\n",
       "      <th>Discount_offered</th>\n",
       "      <th>Reached.on.Time_Y.N</th>\n",
       "    </tr>\n",
       "  </thead>\n",
       "  <tbody>\n",
       "    <tr>\n",
       "      <th>count</th>\n",
       "      <td>6999.000000</td>\n",
       "      <td>6999.000000</td>\n",
       "      <td>6999.000000</td>\n",
       "      <td>6999.000000</td>\n",
       "      <td>6999.000000</td>\n",
       "      <td>6999.000000</td>\n",
       "    </tr>\n",
       "    <tr>\n",
       "      <th>mean</th>\n",
       "      <td>4.042292</td>\n",
       "      <td>2.996285</td>\n",
       "      <td>210.055008</td>\n",
       "      <td>3.498071</td>\n",
       "      <td>6.574796</td>\n",
       "      <td>0.594656</td>\n",
       "    </tr>\n",
       "    <tr>\n",
       "      <th>std</th>\n",
       "      <td>0.995810</td>\n",
       "      <td>1.410161</td>\n",
       "      <td>48.220091</td>\n",
       "      <td>1.436854</td>\n",
       "      <td>13.113507</td>\n",
       "      <td>0.490993</td>\n",
       "    </tr>\n",
       "    <tr>\n",
       "      <th>min</th>\n",
       "      <td>2.000000</td>\n",
       "      <td>1.000000</td>\n",
       "      <td>96.000000</td>\n",
       "      <td>2.000000</td>\n",
       "      <td>0.000000</td>\n",
       "      <td>0.000000</td>\n",
       "    </tr>\n",
       "    <tr>\n",
       "      <th>25%</th>\n",
       "      <td>3.000000</td>\n",
       "      <td>2.000000</td>\n",
       "      <td>169.000000</td>\n",
       "      <td>3.000000</td>\n",
       "      <td>0.000000</td>\n",
       "      <td>0.000000</td>\n",
       "    </tr>\n",
       "    <tr>\n",
       "      <th>50%</th>\n",
       "      <td>4.000000</td>\n",
       "      <td>3.000000</td>\n",
       "      <td>214.000000</td>\n",
       "      <td>3.000000</td>\n",
       "      <td>0.000000</td>\n",
       "      <td>1.000000</td>\n",
       "    </tr>\n",
       "    <tr>\n",
       "      <th>75%</th>\n",
       "      <td>5.000000</td>\n",
       "      <td>4.000000</td>\n",
       "      <td>251.000000</td>\n",
       "      <td>4.000000</td>\n",
       "      <td>7.000000</td>\n",
       "      <td>1.000000</td>\n",
       "    </tr>\n",
       "    <tr>\n",
       "      <th>max</th>\n",
       "      <td>7.000000</td>\n",
       "      <td>5.000000</td>\n",
       "      <td>310.000000</td>\n",
       "      <td>10.000000</td>\n",
       "      <td>65.000000</td>\n",
       "      <td>1.000000</td>\n",
       "    </tr>\n",
       "  </tbody>\n",
       "</table>\n",
       "</div>"
      ],
      "text/plain": [
       "       Customer_care_calls  Customer_rating  Cost_of_the_Product  \\\n",
       "count          6999.000000      6999.000000          6999.000000   \n",
       "mean              4.042292         2.996285           210.055008   \n",
       "std               0.995810         1.410161            48.220091   \n",
       "min               2.000000         1.000000            96.000000   \n",
       "25%               3.000000         2.000000           169.000000   \n",
       "50%               4.000000         3.000000           214.000000   \n",
       "75%               5.000000         4.000000           251.000000   \n",
       "max               7.000000         5.000000           310.000000   \n",
       "\n",
       "       Prior_purchases  Discount_offered  Reached.on.Time_Y.N  \n",
       "count      6999.000000       6999.000000          6999.000000  \n",
       "mean          3.498071          6.574796             0.594656  \n",
       "std           1.436854         13.113507             0.490993  \n",
       "min           2.000000          0.000000             0.000000  \n",
       "25%           3.000000          0.000000             0.000000  \n",
       "50%           3.000000          0.000000             1.000000  \n",
       "75%           4.000000          7.000000             1.000000  \n",
       "max          10.000000         65.000000             1.000000  "
      ]
     },
     "execution_count": 272,
     "metadata": {},
     "output_type": "execute_result"
    }
   ],
   "source": [
    "train.describe()"
   ]
  },
  {
   "cell_type": "code",
   "execution_count": 273,
   "metadata": {},
   "outputs": [
    {
     "data": {
      "text/html": [
       "<div>\n",
       "<style scoped>\n",
       "    .dataframe tbody tr th:only-of-type {\n",
       "        vertical-align: middle;\n",
       "    }\n",
       "\n",
       "    .dataframe tbody tr th {\n",
       "        vertical-align: top;\n",
       "    }\n",
       "\n",
       "    .dataframe thead th {\n",
       "        text-align: right;\n",
       "    }\n",
       "</style>\n",
       "<table border=\"1\" class=\"dataframe\">\n",
       "  <thead>\n",
       "    <tr style=\"text-align: right;\">\n",
       "      <th></th>\n",
       "      <th>Customer_care_calls</th>\n",
       "      <th>Customer_rating</th>\n",
       "      <th>Cost_of_the_Product</th>\n",
       "      <th>Prior_purchases</th>\n",
       "      <th>Discount_offered</th>\n",
       "      <th>Reached.on.Time_Y.N</th>\n",
       "    </tr>\n",
       "  </thead>\n",
       "  <tbody>\n",
       "    <tr>\n",
       "      <th>Customer_care_calls</th>\n",
       "      <td>1.000000</td>\n",
       "      <td>0.010797</td>\n",
       "      <td>0.293898</td>\n",
       "      <td>0.137079</td>\n",
       "      <td>-0.093246</td>\n",
       "      <td>-0.062842</td>\n",
       "    </tr>\n",
       "    <tr>\n",
       "      <th>Customer_rating</th>\n",
       "      <td>0.010797</td>\n",
       "      <td>1.000000</td>\n",
       "      <td>0.006108</td>\n",
       "      <td>0.014454</td>\n",
       "      <td>-0.010548</td>\n",
       "      <td>0.001127</td>\n",
       "    </tr>\n",
       "    <tr>\n",
       "      <th>Cost_of_the_Product</th>\n",
       "      <td>0.293898</td>\n",
       "      <td>0.006108</td>\n",
       "      <td>1.000000</td>\n",
       "      <td>0.119035</td>\n",
       "      <td>-0.080011</td>\n",
       "      <td>-0.068100</td>\n",
       "    </tr>\n",
       "    <tr>\n",
       "      <th>Prior_purchases</th>\n",
       "      <td>0.137079</td>\n",
       "      <td>0.014454</td>\n",
       "      <td>0.119035</td>\n",
       "      <td>1.000000</td>\n",
       "      <td>-0.045471</td>\n",
       "      <td>-0.057114</td>\n",
       "    </tr>\n",
       "    <tr>\n",
       "      <th>Discount_offered</th>\n",
       "      <td>-0.093246</td>\n",
       "      <td>-0.010548</td>\n",
       "      <td>-0.080011</td>\n",
       "      <td>-0.045471</td>\n",
       "      <td>1.000000</td>\n",
       "      <td>0.242017</td>\n",
       "    </tr>\n",
       "    <tr>\n",
       "      <th>Reached.on.Time_Y.N</th>\n",
       "      <td>-0.062842</td>\n",
       "      <td>0.001127</td>\n",
       "      <td>-0.068100</td>\n",
       "      <td>-0.057114</td>\n",
       "      <td>0.242017</td>\n",
       "      <td>1.000000</td>\n",
       "    </tr>\n",
       "  </tbody>\n",
       "</table>\n",
       "</div>"
      ],
      "text/plain": [
       "                     Customer_care_calls  Customer_rating  \\\n",
       "Customer_care_calls             1.000000         0.010797   \n",
       "Customer_rating                 0.010797         1.000000   \n",
       "Cost_of_the_Product             0.293898         0.006108   \n",
       "Prior_purchases                 0.137079         0.014454   \n",
       "Discount_offered               -0.093246        -0.010548   \n",
       "Reached.on.Time_Y.N            -0.062842         0.001127   \n",
       "\n",
       "                     Cost_of_the_Product  Prior_purchases  Discount_offered  \\\n",
       "Customer_care_calls             0.293898         0.137079         -0.093246   \n",
       "Customer_rating                 0.006108         0.014454         -0.010548   \n",
       "Cost_of_the_Product             1.000000         0.119035         -0.080011   \n",
       "Prior_purchases                 0.119035         1.000000         -0.045471   \n",
       "Discount_offered               -0.080011        -0.045471          1.000000   \n",
       "Reached.on.Time_Y.N            -0.068100        -0.057114          0.242017   \n",
       "\n",
       "                     Reached.on.Time_Y.N  \n",
       "Customer_care_calls            -0.062842  \n",
       "Customer_rating                 0.001127  \n",
       "Cost_of_the_Product            -0.068100  \n",
       "Prior_purchases                -0.057114  \n",
       "Discount_offered                0.242017  \n",
       "Reached.on.Time_Y.N             1.000000  "
      ]
     },
     "execution_count": 273,
     "metadata": {},
     "output_type": "execute_result"
    }
   ],
   "source": [
    "train.corr()"
   ]
  },
  {
   "cell_type": "code",
   "execution_count": 274,
   "metadata": {},
   "outputs": [
    {
     "name": "stdout",
     "output_type": "stream",
     "text": [
      "<class 'pandas.core.frame.DataFrame'>\n",
      "Int64Index: 6999 entries, 1 to 6999\n",
      "Data columns (total 11 columns):\n",
      " #   Column               Non-Null Count  Dtype  \n",
      "---  ------               --------------  -----  \n",
      " 0   Warehouse_block      6999 non-null   object \n",
      " 1   Mode_of_Shipment     6999 non-null   object \n",
      " 2   Customer_care_calls  6999 non-null   float64\n",
      " 3   Customer_rating      6999 non-null   int64  \n",
      " 4   Cost_of_the_Product  6999 non-null   int64  \n",
      " 5   Prior_purchases      6999 non-null   float64\n",
      " 6   Product_importance   6999 non-null   object \n",
      " 7   Gender               6999 non-null   object \n",
      " 8   Discount_offered     6999 non-null   float64\n",
      " 9   Weight_in_gms        6999 non-null   object \n",
      " 10  Reached.on.Time_Y.N  6999 non-null   int64  \n",
      "dtypes: float64(3), int64(3), object(5)\n",
      "memory usage: 656.2+ KB\n"
     ]
    }
   ],
   "source": [
    "train.info()"
   ]
  },
  {
   "cell_type": "markdown",
   "metadata": {},
   "source": [
    "# 4.탐색적 데이터 분석(EDA)\n",
    "- 시각화를 통해서 컬럼을 분석"
   ]
  },
  {
   "cell_type": "code",
   "execution_count": 275,
   "metadata": {},
   "outputs": [],
   "source": [
    "#물품이 중요할 수록 정시도착을 한다는 가설\n",
    "#운송수단에 따라서 정시도착을 한다는 가설\n",
    "#활인율에 따라서 정시도착한다는 가설"
   ]
  },
  {
   "cell_type": "code",
   "execution_count": 276,
   "metadata": {},
   "outputs": [
    {
     "data": {
      "text/plain": [
       "<AxesSubplot:xlabel='Mode_of_Shipment', ylabel='count'>"
      ]
     },
     "execution_count": 276,
     "metadata": {},
     "output_type": "execute_result"
    },
    {
     "data": {
      "image/png": "[encoded data removed]",
      "text/plain": [
       "<Figure size 432x288 with 1 Axes>"
      ]
     },
     "metadata": {
      "needs_background": "light"
     },
     "output_type": "display_data"
    }
   ],
   "source": [
    "sns.countplot(data=train,\n",
    "             x='Mode_of_Shipment',\n",
    "             hue='Reached.on.Time_Y.N')"
   ]
  },
  {
   "cell_type": "code",
   "execution_count": 277,
   "metadata": {},
   "outputs": [],
   "source": [
    "#1은 정시에 도달하지 않음 0은 정시에 도달함을 예측한 것이다.\n",
    "#운송수단 전부다 정시에 도착하지 않았다는 것을 볼 수 있다."
   ]
  },
  {
   "cell_type": "code",
   "execution_count": 278,
   "metadata": {},
   "outputs": [
    {
     "data": {
      "text/plain": [
       "<AxesSubplot:xlabel='Product_importance', ylabel='count'>"
      ]
     },
     "execution_count": 278,
     "metadata": {},
     "output_type": "execute_result"
    },
    {
     "data": {
      "image/png": "[encoded data removed]",
      "text/plain": [
       "<Figure size 432x288 with 1 Axes>"
      ]
     },
     "metadata": {
      "needs_background": "light"
     },
     "output_type": "display_data"
    }
   ],
   "source": [
    "sns.countplot(data=train,\n",
    "             x='Product_importance',\n",
    "             hue='Reached.on.Time_Y.N')"
   ]
  },
  {
   "cell_type": "code",
   "execution_count": 279,
   "metadata": {},
   "outputs": [],
   "source": [
    "#물품중요도와는 상관없이 정시에 도착하지 않았다는 것을 볼 수 있다."
   ]
  },
  {
   "cell_type": "code",
   "execution_count": 280,
   "metadata": {},
   "outputs": [],
   "source": [
    "#활인율을 범주형으로 만들자\n",
    "#0 : 활인적용x zero\n",
    "#1~20: 낮은 활인적용 low\n",
    "#21~40: 중간활인적용 mid\n",
    "#41~65: 높은 활인적용 high\n",
    "#pd.cut - 카테고리 데이터를 범주형으로 만드는 작업\n",
    "bins = [0,20,40,65] # 범주형의 범위 지정(초과,이하)\n",
    "labels = ['low','mid','high'] #범주형에 달아줄 이름\n",
    "train['Discount_offered']=pd.cut(train['Discount_offered'],bins = bins,labels=labels)"
   ]
  },
  {
   "cell_type": "code",
   "execution_count": 323,
   "metadata": {},
   "outputs": [
    {
     "data": {
      "text/plain": [
       "[NaN, 'low', 'mid', 'high']\n",
       "Categories (3, object): ['low' < 'mid' < 'high']"
      ]
     },
     "execution_count": 323,
     "metadata": {},
     "output_type": "execute_result"
    }
   ],
   "source": [
    "train['Discount_offered'].unique()"
   ]
  },
  {
   "cell_type": "code",
   "execution_count": 324,
   "metadata": {},
   "outputs": [
    {
     "data": {
      "text/plain": [
       "low     2790\n",
       "high     371\n",
       "mid      307\n",
       "Name: Discount_offered, dtype: int64"
      ]
     },
     "execution_count": 324,
     "metadata": {},
     "output_type": "execute_result"
    }
   ],
   "source": [
    "train['Discount_offered'].value_counts()"
   ]
  },
  {
   "cell_type": "code",
   "execution_count": null,
   "metadata": {},
   "outputs": [],
   "source": [
    "bol = train['Discount_offered'] is Nan"
   ]
  },
  {
   "cell_type": "code",
   "execution_count": 347,
   "metadata": {},
   "outputs": [
    {
     "data": {
      "text/html": [
       "<div>\n",
       "<style scoped>\n",
       "    .dataframe tbody tr th:only-of-type {\n",
       "        vertical-align: middle;\n",
       "    }\n",
       "\n",
       "    .dataframe tbody tr th {\n",
       "        vertical-align: top;\n",
       "    }\n",
       "\n",
       "    .dataframe thead th {\n",
       "        text-align: right;\n",
       "    }\n",
       "</style>\n",
       "<table border=\"1\" class=\"dataframe\">\n",
       "  <thead>\n",
       "    <tr style=\"text-align: right;\">\n",
       "      <th></th>\n",
       "      <th>Customer_care_calls</th>\n",
       "      <th>Customer_rating</th>\n",
       "      <th>Cost_of_the_Product</th>\n",
       "      <th>Prior_purchases</th>\n",
       "      <th>Discount_offered</th>\n",
       "      <th>Reached.on.Time_Y.N</th>\n",
       "      <th>Warehouse_block _A</th>\n",
       "      <th>Warehouse_block _B</th>\n",
       "      <th>Warehouse_block _C</th>\n",
       "      <th>Warehouse_block _D</th>\n",
       "      <th>Warehouse_block _F</th>\n",
       "      <th>Mode_of_Shipment_Flight</th>\n",
       "      <th>Mode_of_Shipment_Road</th>\n",
       "      <th>Mode_of_Shipment_Ship</th>\n",
       "      <th>Product_importance_high</th>\n",
       "      <th>Product_importance_low</th>\n",
       "      <th>Product_importance_medium</th>\n",
       "      <th>Gender_F</th>\n",
       "      <th>Gender_M</th>\n",
       "    </tr>\n",
       "    <tr>\n",
       "      <th>ID</th>\n",
       "      <th></th>\n",
       "      <th></th>\n",
       "      <th></th>\n",
       "      <th></th>\n",
       "      <th></th>\n",
       "      <th></th>\n",
       "      <th></th>\n",
       "      <th></th>\n",
       "      <th></th>\n",
       "      <th></th>\n",
       "      <th></th>\n",
       "      <th></th>\n",
       "      <th></th>\n",
       "      <th></th>\n",
       "      <th></th>\n",
       "      <th></th>\n",
       "      <th></th>\n",
       "      <th></th>\n",
       "      <th></th>\n",
       "    </tr>\n",
       "  </thead>\n",
       "  <tbody>\n",
       "    <tr>\n",
       "      <th>1</th>\n",
       "      <td>2.0</td>\n",
       "      <td>2</td>\n",
       "      <td>135</td>\n",
       "      <td>3.0</td>\n",
       "      <td>NaN</td>\n",
       "      <td>1</td>\n",
       "      <td>0</td>\n",
       "      <td>0</td>\n",
       "      <td>1</td>\n",
       "      <td>0</td>\n",
       "      <td>0</td>\n",
       "      <td>0</td>\n",
       "      <td>0</td>\n",
       "      <td>1</td>\n",
       "      <td>0</td>\n",
       "      <td>1</td>\n",
       "      <td>0</td>\n",
       "      <td>0</td>\n",
       "      <td>1</td>\n",
       "    </tr>\n",
       "    <tr>\n",
       "      <th>2</th>\n",
       "      <td>5.0</td>\n",
       "      <td>3</td>\n",
       "      <td>225</td>\n",
       "      <td>5.0</td>\n",
       "      <td>low</td>\n",
       "      <td>0</td>\n",
       "      <td>0</td>\n",
       "      <td>0</td>\n",
       "      <td>0</td>\n",
       "      <td>0</td>\n",
       "      <td>1</td>\n",
       "      <td>1</td>\n",
       "      <td>0</td>\n",
       "      <td>0</td>\n",
       "      <td>0</td>\n",
       "      <td>1</td>\n",
       "      <td>0</td>\n",
       "      <td>1</td>\n",
       "      <td>0</td>\n",
       "    </tr>\n",
       "    <tr>\n",
       "      <th>3</th>\n",
       "      <td>3.0</td>\n",
       "      <td>1</td>\n",
       "      <td>229</td>\n",
       "      <td>3.0</td>\n",
       "      <td>NaN</td>\n",
       "      <td>1</td>\n",
       "      <td>0</td>\n",
       "      <td>0</td>\n",
       "      <td>0</td>\n",
       "      <td>0</td>\n",
       "      <td>1</td>\n",
       "      <td>0</td>\n",
       "      <td>0</td>\n",
       "      <td>1</td>\n",
       "      <td>0</td>\n",
       "      <td>1</td>\n",
       "      <td>0</td>\n",
       "      <td>0</td>\n",
       "      <td>1</td>\n",
       "    </tr>\n",
       "    <tr>\n",
       "      <th>4</th>\n",
       "      <td>3.0</td>\n",
       "      <td>2</td>\n",
       "      <td>228</td>\n",
       "      <td>3.0</td>\n",
       "      <td>low</td>\n",
       "      <td>0</td>\n",
       "      <td>0</td>\n",
       "      <td>0</td>\n",
       "      <td>0</td>\n",
       "      <td>0</td>\n",
       "      <td>1</td>\n",
       "      <td>0</td>\n",
       "      <td>0</td>\n",
       "      <td>1</td>\n",
       "      <td>0</td>\n",
       "      <td>0</td>\n",
       "      <td>1</td>\n",
       "      <td>0</td>\n",
       "      <td>1</td>\n",
       "    </tr>\n",
       "    <tr>\n",
       "      <th>5</th>\n",
       "      <td>4.0</td>\n",
       "      <td>1</td>\n",
       "      <td>195</td>\n",
       "      <td>6.0</td>\n",
       "      <td>NaN</td>\n",
       "      <td>1</td>\n",
       "      <td>0</td>\n",
       "      <td>0</td>\n",
       "      <td>0</td>\n",
       "      <td>1</td>\n",
       "      <td>0</td>\n",
       "      <td>1</td>\n",
       "      <td>0</td>\n",
       "      <td>0</td>\n",
       "      <td>1</td>\n",
       "      <td>0</td>\n",
       "      <td>0</td>\n",
       "      <td>1</td>\n",
       "      <td>0</td>\n",
       "    </tr>\n",
       "    <tr>\n",
       "      <th>...</th>\n",
       "      <td>...</td>\n",
       "      <td>...</td>\n",
       "      <td>...</td>\n",
       "      <td>...</td>\n",
       "      <td>...</td>\n",
       "      <td>...</td>\n",
       "      <td>...</td>\n",
       "      <td>...</td>\n",
       "      <td>...</td>\n",
       "      <td>...</td>\n",
       "      <td>...</td>\n",
       "      <td>...</td>\n",
       "      <td>...</td>\n",
       "      <td>...</td>\n",
       "      <td>...</td>\n",
       "      <td>...</td>\n",
       "      <td>...</td>\n",
       "      <td>...</td>\n",
       "      <td>...</td>\n",
       "    </tr>\n",
       "    <tr>\n",
       "      <th>6995</th>\n",
       "      <td>4.0</td>\n",
       "      <td>2</td>\n",
       "      <td>232</td>\n",
       "      <td>5.0</td>\n",
       "      <td>low</td>\n",
       "      <td>0</td>\n",
       "      <td>0</td>\n",
       "      <td>0</td>\n",
       "      <td>0</td>\n",
       "      <td>1</td>\n",
       "      <td>0</td>\n",
       "      <td>0</td>\n",
       "      <td>0</td>\n",
       "      <td>1</td>\n",
       "      <td>0</td>\n",
       "      <td>0</td>\n",
       "      <td>1</td>\n",
       "      <td>1</td>\n",
       "      <td>0</td>\n",
       "    </tr>\n",
       "    <tr>\n",
       "      <th>6996</th>\n",
       "      <td>3.0</td>\n",
       "      <td>5</td>\n",
       "      <td>228</td>\n",
       "      <td>2.0</td>\n",
       "      <td>NaN</td>\n",
       "      <td>0</td>\n",
       "      <td>0</td>\n",
       "      <td>0</td>\n",
       "      <td>0</td>\n",
       "      <td>0</td>\n",
       "      <td>1</td>\n",
       "      <td>0</td>\n",
       "      <td>0</td>\n",
       "      <td>1</td>\n",
       "      <td>0</td>\n",
       "      <td>0</td>\n",
       "      <td>1</td>\n",
       "      <td>1</td>\n",
       "      <td>0</td>\n",
       "    </tr>\n",
       "    <tr>\n",
       "      <th>6997</th>\n",
       "      <td>4.0</td>\n",
       "      <td>1</td>\n",
       "      <td>300</td>\n",
       "      <td>5.0</td>\n",
       "      <td>low</td>\n",
       "      <td>0</td>\n",
       "      <td>0</td>\n",
       "      <td>0</td>\n",
       "      <td>0</td>\n",
       "      <td>1</td>\n",
       "      <td>0</td>\n",
       "      <td>0</td>\n",
       "      <td>0</td>\n",
       "      <td>1</td>\n",
       "      <td>0</td>\n",
       "      <td>1</td>\n",
       "      <td>0</td>\n",
       "      <td>1</td>\n",
       "      <td>0</td>\n",
       "    </tr>\n",
       "    <tr>\n",
       "      <th>6998</th>\n",
       "      <td>3.0</td>\n",
       "      <td>1</td>\n",
       "      <td>232</td>\n",
       "      <td>2.0</td>\n",
       "      <td>NaN</td>\n",
       "      <td>0</td>\n",
       "      <td>1</td>\n",
       "      <td>0</td>\n",
       "      <td>0</td>\n",
       "      <td>0</td>\n",
       "      <td>0</td>\n",
       "      <td>0</td>\n",
       "      <td>1</td>\n",
       "      <td>0</td>\n",
       "      <td>0</td>\n",
       "      <td>0</td>\n",
       "      <td>1</td>\n",
       "      <td>0</td>\n",
       "      <td>1</td>\n",
       "    </tr>\n",
       "    <tr>\n",
       "      <th>6999</th>\n",
       "      <td>3.0</td>\n",
       "      <td>3</td>\n",
       "      <td>262</td>\n",
       "      <td>7.0</td>\n",
       "      <td>NaN</td>\n",
       "      <td>0</td>\n",
       "      <td>1</td>\n",
       "      <td>0</td>\n",
       "      <td>0</td>\n",
       "      <td>0</td>\n",
       "      <td>0</td>\n",
       "      <td>0</td>\n",
       "      <td>0</td>\n",
       "      <td>1</td>\n",
       "      <td>1</td>\n",
       "      <td>0</td>\n",
       "      <td>0</td>\n",
       "      <td>1</td>\n",
       "      <td>0</td>\n",
       "    </tr>\n",
       "  </tbody>\n",
       "</table>\n",
       "<p>6999 rows × 19 columns</p>\n",
       "</div>"
      ],
      "text/plain": [
       "      Customer_care_calls  Customer_rating  Cost_of_the_Product  \\\n",
       "ID                                                                \n",
       "1                     2.0                2                  135   \n",
       "2                     5.0                3                  225   \n",
       "3                     3.0                1                  229   \n",
       "4                     3.0                2                  228   \n",
       "5                     4.0                1                  195   \n",
       "...                   ...              ...                  ...   \n",
       "6995                  4.0                2                  232   \n",
       "6996                  3.0                5                  228   \n",
       "6997                  4.0                1                  300   \n",
       "6998                  3.0                1                  232   \n",
       "6999                  3.0                3                  262   \n",
       "\n",
       "      Prior_purchases Discount_offered  Reached.on.Time_Y.N  \\\n",
       "ID                                                            \n",
       "1                 3.0              NaN                    1   \n",
       "2                 5.0              low                    0   \n",
       "3                 3.0              NaN                    1   \n",
       "4                 3.0              low                    0   \n",
       "5                 6.0              NaN                    1   \n",
       "...               ...              ...                  ...   \n",
       "6995              5.0              low                    0   \n",
       "6996              2.0              NaN                    0   \n",
       "6997              5.0              low                    0   \n",
       "6998              2.0              NaN                    0   \n",
       "6999              7.0              NaN                    0   \n",
       "\n",
       "      Warehouse_block _A  Warehouse_block _B  Warehouse_block _C  \\\n",
       "ID                                                                 \n",
       "1                      0                   0                   1   \n",
       "2                      0                   0                   0   \n",
       "3                      0                   0                   0   \n",
       "4                      0                   0                   0   \n",
       "5                      0                   0                   0   \n",
       "...                  ...                 ...                 ...   \n",
       "6995                   0                   0                   0   \n",
       "6996                   0                   0                   0   \n",
       "6997                   0                   0                   0   \n",
       "6998                   1                   0                   0   \n",
       "6999                   1                   0                   0   \n",
       "\n",
       "      Warehouse_block _D  Warehouse_block _F  Mode_of_Shipment_Flight  \\\n",
       "ID                                                                      \n",
       "1                      0                   0                        0   \n",
       "2                      0                   1                        1   \n",
       "3                      0                   1                        0   \n",
       "4                      0                   1                        0   \n",
       "5                      1                   0                        1   \n",
       "...                  ...                 ...                      ...   \n",
       "6995                   1                   0                        0   \n",
       "6996                   0                   1                        0   \n",
       "6997                   1                   0                        0   \n",
       "6998                   0                   0                        0   \n",
       "6999                   0                   0                        0   \n",
       "\n",
       "      Mode_of_Shipment_Road  Mode_of_Shipment_Ship  Product_importance_high  \\\n",
       "ID                                                                            \n",
       "1                         0                      1                        0   \n",
       "2                         0                      0                        0   \n",
       "3                         0                      1                        0   \n",
       "4                         0                      1                        0   \n",
       "5                         0                      0                        1   \n",
       "...                     ...                    ...                      ...   \n",
       "6995                      0                      1                        0   \n",
       "6996                      0                      1                        0   \n",
       "6997                      0                      1                        0   \n",
       "6998                      1                      0                        0   \n",
       "6999                      0                      1                        1   \n",
       "\n",
       "      Product_importance_low  Product_importance_medium  Gender_F  Gender_M  \n",
       "ID                                                                           \n",
       "1                          1                          0         0         1  \n",
       "2                          1                          0         1         0  \n",
       "3                          1                          0         0         1  \n",
       "4                          0                          1         0         1  \n",
       "5                          0                          0         1         0  \n",
       "...                      ...                        ...       ...       ...  \n",
       "6995                       0                          1         1         0  \n",
       "6996                       0                          1         1         0  \n",
       "6997                       1                          0         1         0  \n",
       "6998                       0                          1         0         1  \n",
       "6999                       0                          0         1         0  \n",
       "\n",
       "[6999 rows x 19 columns]"
      ]
     },
     "execution_count": 347,
     "metadata": {},
     "output_type": "execute_result"
    }
   ],
   "source": [
    "train['Discount_offered'].replace('NaN', 0, inplace=True)\n",
    "train['Discount_offered']"
   ]
  },
  {
   "cell_type": "code",
   "execution_count": 344,
   "metadata": {},
   "outputs": [
    {
     "data": {
      "text/plain": [
       "False"
      ]
     },
     "execution_count": 344,
     "metadata": {},
     "output_type": "execute_result"
    }
   ],
   "source": [
    "train['Discount_offered'][3] == 'NaN'"
   ]
  },
  {
   "cell_type": "code",
   "execution_count": 284,
   "metadata": {
    "scrolled": true
   },
   "outputs": [
    {
     "data": {
      "text/plain": [
       "<AxesSubplot:xlabel='Discount_offered', ylabel='count'>"
      ]
     },
     "execution_count": 284,
     "metadata": {},
     "output_type": "execute_result"
    },
    {
     "data": {
      "image/png": "[encoded data removed]",
      "text/plain": [
       "<Figure size 432x288 with 1 Axes>"
      ]
     },
     "metadata": {
      "needs_background": "light"
     },
     "output_type": "display_data"
    }
   ],
   "source": [
    "sns.countplot(data=train,x='Discount_offered',hue='Reached.on.Time_Y.N')"
   ]
  },
  {
   "cell_type": "code",
   "execution_count": 285,
   "metadata": {},
   "outputs": [],
   "source": [
    "#1~10까지 낮은 활인을 적용받은 상품이 많고 \n",
    "#zero일때 정시도착을 한다."
   ]
  },
  {
   "cell_type": "code",
   "execution_count": 286,
   "metadata": {},
   "outputs": [
    {
     "data": {
      "text/plain": [
       "count    6999.000000\n",
       "mean      210.055008\n",
       "std        48.220091\n",
       "min        96.000000\n",
       "25%       169.000000\n",
       "50%       214.000000\n",
       "75%       251.000000\n",
       "max       310.000000\n",
       "Name: Cost_of_the_Product, dtype: float64"
      ]
     },
     "execution_count": 286,
     "metadata": {},
     "output_type": "execute_result"
    }
   ],
   "source": [
    "train['Cost_of_the_Product'].describe()"
   ]
  },
  {
   "cell_type": "code",
   "execution_count": 287,
   "metadata": {},
   "outputs": [],
   "source": [
    "\n",
    "# pd.cut - 카테고리 데이터를 범주형으로 만드는 작업\n",
    "# bins = [96,169,214,251,310] # 범주형의 범위 지정(초과,이하)\n",
    "# labels = ['25%','50%','75%','max'] #범주형에 달아줄 이름\n",
    "# train['Cost_of_the_Product']=pd.cut(train['Cost_of_the_Product'],bins = bins,labels=labels)"
   ]
  },
  {
   "cell_type": "code",
   "execution_count": 288,
   "metadata": {},
   "outputs": [],
   "source": [
    "# sns.countplot(data=train,x='Cost_of_the_Product',hue='Reached.on.Time_Y.N')"
   ]
  },
  {
   "cell_type": "code",
   "execution_count": 289,
   "metadata": {},
   "outputs": [],
   "source": [
    "#가격에 따른 정시도착과의 연관성을 못찾았다."
   ]
  },
  {
   "cell_type": "code",
   "execution_count": 290,
   "metadata": {},
   "outputs": [],
   "source": [
    "#Weight_in_gms삭제\n",
    "#유의미한 결과를 출력하기 힘들것이라고 판단해서\n",
    "train.drop('Weight_in_gms',axis=1,inplace=True)\n",
    "test.drop('Weight_in_gms',axis=1,inplace=True)"
   ]
  },
  {
   "cell_type": "code",
   "execution_count": 291,
   "metadata": {},
   "outputs": [
    {
     "data": {
      "text/plain": [
       "Index(['Warehouse_block ', 'Mode_of_Shipment', 'Customer_care_calls',\n",
       "       'Customer_rating', 'Cost_of_the_Product', 'Prior_purchases',\n",
       "       'Product_importance', 'Gender', 'Discount_offered',\n",
       "       'Reached.on.Time_Y.N'],\n",
       "      dtype='object')"
      ]
     },
     "execution_count": 291,
     "metadata": {},
     "output_type": "execute_result"
    }
   ],
   "source": [
    "train.columns"
   ]
  },
  {
   "cell_type": "code",
   "execution_count": 292,
   "metadata": {},
   "outputs": [
    {
     "name": "stdout",
     "output_type": "stream",
     "text": [
      "<class 'pandas.core.frame.DataFrame'>\n",
      "Int64Index: 6999 entries, 1 to 6999\n",
      "Data columns (total 10 columns):\n",
      " #   Column               Non-Null Count  Dtype   \n",
      "---  ------               --------------  -----   \n",
      " 0   Warehouse_block      6999 non-null   object  \n",
      " 1   Mode_of_Shipment     6999 non-null   object  \n",
      " 2   Customer_care_calls  6999 non-null   float64 \n",
      " 3   Customer_rating      6999 non-null   int64   \n",
      " 4   Cost_of_the_Product  6999 non-null   int64   \n",
      " 5   Prior_purchases      6999 non-null   float64 \n",
      " 6   Product_importance   6999 non-null   object  \n",
      " 7   Gender               6999 non-null   object  \n",
      " 8   Discount_offered     3468 non-null   category\n",
      " 9   Reached.on.Time_Y.N  6999 non-null   int64   \n",
      "dtypes: category(1), float64(2), int64(3), object(4)\n",
      "memory usage: 873.7+ KB\n"
     ]
    }
   ],
   "source": [
    "#one-hot 인코딩\n",
    "#수치가 아닌 컬럼들만 원핫인코딩진행해준다.\n",
    "train.info()"
   ]
  },
  {
   "cell_type": "code",
   "execution_count": 293,
   "metadata": {},
   "outputs": [
    {
     "data": {
      "text/plain": [
       "Index(['Warehouse_block ', 'Mode_of_Shipment', 'Customer_care_calls',\n",
       "       'Customer_rating', 'Cost_of_the_Product', 'Prior_purchases',\n",
       "       'Product_importance', 'Gender', 'Discount_offered',\n",
       "       'Reached.on.Time_Y.N'],\n",
       "      dtype='object')"
      ]
     },
     "execution_count": 293,
     "metadata": {},
     "output_type": "execute_result"
    }
   ],
   "source": [
    "train.columns"
   ]
  },
  {
   "cell_type": "code",
   "execution_count": 294,
   "metadata": {},
   "outputs": [],
   "source": [
    "onehot_columns=['Warehouse_block ','Mode_of_Shipment','Product_importance','Gender']"
   ]
  },
  {
   "cell_type": "code",
   "execution_count": 295,
   "metadata": {},
   "outputs": [],
   "source": [
    "for col in onehot_columns:\n",
    "    dummy = pd.get_dummies(train[col],prefix=col)\n",
    "    train = pd.concat([train,dummy],axis=1)\n",
    "    train.drop(col,axis=1,inplace=True)"
   ]
  },
  {
   "cell_type": "code",
   "execution_count": 296,
   "metadata": {},
   "outputs": [],
   "source": [
    "for col in onehot_columns:\n",
    "    dummy = pd.get_dummies(test[col],prefix=col)\n",
    "    test = pd.concat([test,dummy],axis=1)\n",
    "    test.drop(col,axis=1,inplace=True)"
   ]
  },
  {
   "cell_type": "code",
   "execution_count": 297,
   "metadata": {},
   "outputs": [
    {
     "name": "stdout",
     "output_type": "stream",
     "text": [
      "(6999, 19)\n",
      "(4000, 18)\n"
     ]
    }
   ],
   "source": [
    "print(train.shape)\n",
    "print(test.shape)"
   ]
  },
  {
   "cell_type": "code",
   "execution_count": 298,
   "metadata": {
    "scrolled": true
   },
   "outputs": [
    {
     "data": {
      "text/plain": [
       "{'Reached.on.Time_Y.N'}"
      ]
     },
     "execution_count": 298,
     "metadata": {},
     "output_type": "execute_result"
    }
   ],
   "source": [
    "#train에는 있고 test에는 없는것\n",
    "set(train.columns)-set(test.columns)"
   ]
  },
  {
   "cell_type": "code",
   "execution_count": 299,
   "metadata": {},
   "outputs": [
    {
     "data": {
      "text/plain": [
       "set()"
      ]
     },
     "execution_count": 299,
     "metadata": {},
     "output_type": "execute_result"
    }
   ],
   "source": [
    "#test에는 있고 train에는 없는 것\n",
    "set(test.columns)-set(train.columns)"
   ]
  },
  {
   "cell_type": "markdown",
   "metadata": {},
   "source": [
    "# 5.모델선택 및 하이퍼파라미터 튜닝"
   ]
  },
  {
   "cell_type": "code",
   "execution_count": 300,
   "metadata": {},
   "outputs": [],
   "source": [
    "# 훈련 / 평가 데이터를 -train, test\n",
    "# 문제와 정답으로 분리 -ㅌX,y\n",
    "# X_train,y_train,X_test\n",
    "X_train=train.drop('Reached.on.Time_Y.N',axis=1)\n",
    "y_train=train['Reached.on.Time_Y.N']\n",
    "X_test=test.copy()"
   ]
  },
  {
   "cell_type": "code",
   "execution_count": 301,
   "metadata": {},
   "outputs": [
    {
     "data": {
      "text/plain": [
       "((6999, 18), (4000, 18), (6999,))"
      ]
     },
     "execution_count": 301,
     "metadata": {},
     "output_type": "execute_result"
    }
   ],
   "source": [
    "X_train.shape,X_test.shape,y_train.shape"
   ]
  },
  {
   "cell_type": "code",
   "execution_count": 302,
   "metadata": {},
   "outputs": [],
   "source": [
    "# DecisionTree\n",
    "from sklearn.tree import DecisionTreeClassifier\n",
    "tree = DecisionTreeClassifier(max_depth=4)"
   ]
  },
  {
   "cell_type": "code",
   "execution_count": 303,
   "metadata": {},
   "outputs": [
    {
     "data": {
      "text/plain": [
       "Customer_care_calls             0\n",
       "Customer_rating                 0\n",
       "Cost_of_the_Product             0\n",
       "Prior_purchases                 0\n",
       "Discount_offered             3531\n",
       "Warehouse_block _A              0\n",
       "Warehouse_block _B              0\n",
       "Warehouse_block _C              0\n",
       "Warehouse_block _D              0\n",
       "Warehouse_block _F              0\n",
       "Mode_of_Shipment_Flight         0\n",
       "Mode_of_Shipment_Road           0\n",
       "Mode_of_Shipment_Ship           0\n",
       "Product_importance_high         0\n",
       "Product_importance_low          0\n",
       "Product_importance_medium       0\n",
       "Gender_F                        0\n",
       "Gender_M                        0\n",
       "dtype: int64"
      ]
     },
     "execution_count": 303,
     "metadata": {},
     "output_type": "execute_result"
    }
   ],
   "source": [
    "X_train.isnull().sum() # 결측치가 있어요 ㅠㅠㅠ"
   ]
  },
  {
   "cell_type": "code",
   "execution_count": 304,
   "metadata": {},
   "outputs": [
    {
     "data": {
      "text/plain": [
       "ID\n",
       "1       NaN\n",
       "2       low\n",
       "3       NaN\n",
       "4       low\n",
       "5       NaN\n",
       "       ... \n",
       "6995    low\n",
       "6996    NaN\n",
       "6997    low\n",
       "6998    NaN\n",
       "6999    NaN\n",
       "Name: Discount_offered, Length: 6999, dtype: category\n",
       "Categories (3, object): ['low' < 'mid' < 'high']"
      ]
     },
     "execution_count": 304,
     "metadata": {},
     "output_type": "execute_result"
    }
   ],
   "source": [
    "X_train['Discount_offered'] # 채워줘야 모델 돌릴 수 있을 것 같아요! 감사합니다"
   ]
  },
  {
   "cell_type": "code",
   "execution_count": 305,
   "metadata": {},
   "outputs": [
    {
     "data": {
      "text/plain": [
       "0"
      ]
     },
     "execution_count": 305,
     "metadata": {},
     "output_type": "execute_result"
    }
   ],
   "source": [
    "y_train.isnull().sum()"
   ]
  },
  {
   "cell_type": "code",
   "execution_count": 306,
   "metadata": {},
   "outputs": [
    {
     "name": "stderr",
     "output_type": "stream",
     "text": [
      "C:\\Users\\SM2127\\anaconda3\\lib\\site-packages\\sklearn\\model_selection\\_validation.py:548: FitFailedWarning: Estimator fit failed. The score on this train-test partition for these parameters will be set to nan. Details: \n",
      "Traceback (most recent call last):\n",
      "  File \"C:\\Users\\SM2127\\anaconda3\\lib\\site-packages\\sklearn\\model_selection\\_validation.py\", line 531, in _fit_and_score\n",
      "    estimator.fit(X_train, y_train, **fit_params)\n",
      "  File \"C:\\Users\\SM2127\\anaconda3\\lib\\site-packages\\sklearn\\tree\\_classes.py\", line 890, in fit\n",
      "    super().fit(\n",
      "  File \"C:\\Users\\SM2127\\anaconda3\\lib\\site-packages\\sklearn\\tree\\_classes.py\", line 156, in fit\n",
      "    X, y = self._validate_data(X, y,\n",
      "  File \"C:\\Users\\SM2127\\anaconda3\\lib\\site-packages\\sklearn\\base.py\", line 429, in _validate_data\n",
      "    X = check_array(X, **check_X_params)\n",
      "  File \"C:\\Users\\SM2127\\anaconda3\\lib\\site-packages\\sklearn\\utils\\validation.py\", line 72, in inner_f\n",
      "    return f(**kwargs)\n",
      "  File \"C:\\Users\\SM2127\\anaconda3\\lib\\site-packages\\sklearn\\utils\\validation.py\", line 598, in check_array\n",
      "    array = np.asarray(array, order=order, dtype=dtype)\n",
      "  File \"C:\\Users\\SM2127\\anaconda3\\lib\\site-packages\\numpy\\core\\_asarray.py\", line 83, in asarray\n",
      "    return array(a, dtype, copy=False, order=order)\n",
      "  File \"C:\\Users\\SM2127\\anaconda3\\lib\\site-packages\\pandas\\core\\generic.py\", line 1781, in __array__\n",
      "    return np.asarray(self._values, dtype=dtype)\n",
      "  File \"C:\\Users\\SM2127\\anaconda3\\lib\\site-packages\\numpy\\core\\_asarray.py\", line 83, in asarray\n",
      "    return array(a, dtype, copy=False, order=order)\n",
      "ValueError: could not convert string to float: 'low'\n",
      "\n",
      "  warnings.warn(\"Estimator fit failed. The score on this train-test\"\n",
      "C:\\Users\\SM2127\\anaconda3\\lib\\site-packages\\sklearn\\model_selection\\_validation.py:548: FitFailedWarning: Estimator fit failed. The score on this train-test partition for these parameters will be set to nan. Details: \n",
      "Traceback (most recent call last):\n",
      "  File \"C:\\Users\\SM2127\\anaconda3\\lib\\site-packages\\sklearn\\model_selection\\_validation.py\", line 531, in _fit_and_score\n",
      "    estimator.fit(X_train, y_train, **fit_params)\n",
      "  File \"C:\\Users\\SM2127\\anaconda3\\lib\\site-packages\\sklearn\\tree\\_classes.py\", line 890, in fit\n",
      "    super().fit(\n",
      "  File \"C:\\Users\\SM2127\\anaconda3\\lib\\site-packages\\sklearn\\tree\\_classes.py\", line 156, in fit\n",
      "    X, y = self._validate_data(X, y,\n",
      "  File \"C:\\Users\\SM2127\\anaconda3\\lib\\site-packages\\sklearn\\base.py\", line 429, in _validate_data\n",
      "    X = check_array(X, **check_X_params)\n",
      "  File \"C:\\Users\\SM2127\\anaconda3\\lib\\site-packages\\sklearn\\utils\\validation.py\", line 72, in inner_f\n",
      "    return f(**kwargs)\n",
      "  File \"C:\\Users\\SM2127\\anaconda3\\lib\\site-packages\\sklearn\\utils\\validation.py\", line 598, in check_array\n",
      "    array = np.asarray(array, order=order, dtype=dtype)\n",
      "  File \"C:\\Users\\SM2127\\anaconda3\\lib\\site-packages\\numpy\\core\\_asarray.py\", line 83, in asarray\n",
      "    return array(a, dtype, copy=False, order=order)\n",
      "  File \"C:\\Users\\SM2127\\anaconda3\\lib\\site-packages\\pandas\\core\\generic.py\", line 1781, in __array__\n",
      "    return np.asarray(self._values, dtype=dtype)\n",
      "  File \"C:\\Users\\SM2127\\anaconda3\\lib\\site-packages\\numpy\\core\\_asarray.py\", line 83, in asarray\n",
      "    return array(a, dtype, copy=False, order=order)\n",
      "ValueError: could not convert string to float: 'low'\n",
      "\n",
      "  warnings.warn(\"Estimator fit failed. The score on this train-test\"\n",
      "C:\\Users\\SM2127\\anaconda3\\lib\\site-packages\\sklearn\\model_selection\\_validation.py:548: FitFailedWarning: Estimator fit failed. The score on this train-test partition for these parameters will be set to nan. Details: \n",
      "Traceback (most recent call last):\n",
      "  File \"C:\\Users\\SM2127\\anaconda3\\lib\\site-packages\\sklearn\\model_selection\\_validation.py\", line 531, in _fit_and_score\n",
      "    estimator.fit(X_train, y_train, **fit_params)\n",
      "  File \"C:\\Users\\SM2127\\anaconda3\\lib\\site-packages\\sklearn\\tree\\_classes.py\", line 890, in fit\n",
      "    super().fit(\n",
      "  File \"C:\\Users\\SM2127\\anaconda3\\lib\\site-packages\\sklearn\\tree\\_classes.py\", line 156, in fit\n",
      "    X, y = self._validate_data(X, y,\n",
      "  File \"C:\\Users\\SM2127\\anaconda3\\lib\\site-packages\\sklearn\\base.py\", line 429, in _validate_data\n",
      "    X = check_array(X, **check_X_params)\n",
      "  File \"C:\\Users\\SM2127\\anaconda3\\lib\\site-packages\\sklearn\\utils\\validation.py\", line 72, in inner_f\n",
      "    return f(**kwargs)\n",
      "  File \"C:\\Users\\SM2127\\anaconda3\\lib\\site-packages\\sklearn\\utils\\validation.py\", line 598, in check_array\n",
      "    array = np.asarray(array, order=order, dtype=dtype)\n",
      "  File \"C:\\Users\\SM2127\\anaconda3\\lib\\site-packages\\numpy\\core\\_asarray.py\", line 83, in asarray\n",
      "    return array(a, dtype, copy=False, order=order)\n",
      "  File \"C:\\Users\\SM2127\\anaconda3\\lib\\site-packages\\pandas\\core\\generic.py\", line 1781, in __array__\n",
      "    return np.asarray(self._values, dtype=dtype)\n",
      "  File \"C:\\Users\\SM2127\\anaconda3\\lib\\site-packages\\numpy\\core\\_asarray.py\", line 83, in asarray\n",
      "    return array(a, dtype, copy=False, order=order)\n",
      "ValueError: could not convert string to float: 'low'\n",
      "\n",
      "  warnings.warn(\"Estimator fit failed. The score on this train-test\"\n",
      "C:\\Users\\SM2127\\anaconda3\\lib\\site-packages\\sklearn\\model_selection\\_validation.py:548: FitFailedWarning: Estimator fit failed. The score on this train-test partition for these parameters will be set to nan. Details: \n",
      "Traceback (most recent call last):\n",
      "  File \"C:\\Users\\SM2127\\anaconda3\\lib\\site-packages\\sklearn\\model_selection\\_validation.py\", line 531, in _fit_and_score\n",
      "    estimator.fit(X_train, y_train, **fit_params)\n",
      "  File \"C:\\Users\\SM2127\\anaconda3\\lib\\site-packages\\sklearn\\tree\\_classes.py\", line 890, in fit\n",
      "    super().fit(\n",
      "  File \"C:\\Users\\SM2127\\anaconda3\\lib\\site-packages\\sklearn\\tree\\_classes.py\", line 156, in fit\n",
      "    X, y = self._validate_data(X, y,\n",
      "  File \"C:\\Users\\SM2127\\anaconda3\\lib\\site-packages\\sklearn\\base.py\", line 429, in _validate_data\n",
      "    X = check_array(X, **check_X_params)\n",
      "  File \"C:\\Users\\SM2127\\anaconda3\\lib\\site-packages\\sklearn\\utils\\validation.py\", line 72, in inner_f\n",
      "    return f(**kwargs)\n",
      "  File \"C:\\Users\\SM2127\\anaconda3\\lib\\site-packages\\sklearn\\utils\\validation.py\", line 598, in check_array\n",
      "    array = np.asarray(array, order=order, dtype=dtype)\n",
      "  File \"C:\\Users\\SM2127\\anaconda3\\lib\\site-packages\\numpy\\core\\_asarray.py\", line 83, in asarray\n",
      "    return array(a, dtype, copy=False, order=order)\n",
      "  File \"C:\\Users\\SM2127\\anaconda3\\lib\\site-packages\\pandas\\core\\generic.py\", line 1781, in __array__\n",
      "    return np.asarray(self._values, dtype=dtype)\n",
      "  File \"C:\\Users\\SM2127\\anaconda3\\lib\\site-packages\\numpy\\core\\_asarray.py\", line 83, in asarray\n",
      "    return array(a, dtype, copy=False, order=order)\n",
      "ValueError: could not convert string to float: 'low'\n",
      "\n",
      "  warnings.warn(\"Estimator fit failed. The score on this train-test\"\n",
      "C:\\Users\\SM2127\\anaconda3\\lib\\site-packages\\sklearn\\model_selection\\_validation.py:548: FitFailedWarning: Estimator fit failed. The score on this train-test partition for these parameters will be set to nan. Details: \n",
      "Traceback (most recent call last):\n",
      "  File \"C:\\Users\\SM2127\\anaconda3\\lib\\site-packages\\sklearn\\model_selection\\_validation.py\", line 531, in _fit_and_score\n",
      "    estimator.fit(X_train, y_train, **fit_params)\n",
      "  File \"C:\\Users\\SM2127\\anaconda3\\lib\\site-packages\\sklearn\\tree\\_classes.py\", line 890, in fit\n",
      "    super().fit(\n",
      "  File \"C:\\Users\\SM2127\\anaconda3\\lib\\site-packages\\sklearn\\tree\\_classes.py\", line 156, in fit\n",
      "    X, y = self._validate_data(X, y,\n",
      "  File \"C:\\Users\\SM2127\\anaconda3\\lib\\site-packages\\sklearn\\base.py\", line 429, in _validate_data\n",
      "    X = check_array(X, **check_X_params)\n",
      "  File \"C:\\Users\\SM2127\\anaconda3\\lib\\site-packages\\sklearn\\utils\\validation.py\", line 72, in inner_f\n",
      "    return f(**kwargs)\n",
      "  File \"C:\\Users\\SM2127\\anaconda3\\lib\\site-packages\\sklearn\\utils\\validation.py\", line 598, in check_array\n",
      "    array = np.asarray(array, order=order, dtype=dtype)\n",
      "  File \"C:\\Users\\SM2127\\anaconda3\\lib\\site-packages\\numpy\\core\\_asarray.py\", line 83, in asarray\n",
      "    return array(a, dtype, copy=False, order=order)\n",
      "  File \"C:\\Users\\SM2127\\anaconda3\\lib\\site-packages\\pandas\\core\\generic.py\", line 1781, in __array__\n",
      "    return np.asarray(self._values, dtype=dtype)\n",
      "  File \"C:\\Users\\SM2127\\anaconda3\\lib\\site-packages\\numpy\\core\\_asarray.py\", line 83, in asarray\n",
      "    return array(a, dtype, copy=False, order=order)\n",
      "ValueError: could not convert string to float: 'low'\n",
      "\n",
      "  warnings.warn(\"Estimator fit failed. The score on this train-test\"\n"
     ]
    },
    {
     "data": {
      "text/plain": [
       "nan"
      ]
     },
     "execution_count": 306,
     "metadata": {},
     "output_type": "execute_result"
    }
   ],
   "source": [
    "#교차검증\n",
    "from sklearn.model_selection import cross_val_score\n",
    "result = cross_val_score(tree,X_train,y_train,cv=5)\n",
    "result.mean()"
   ]
  },
  {
   "cell_type": "code",
   "execution_count": 307,
   "metadata": {},
   "outputs": [],
   "source": [
    "# 오류에서 nan 이라고 나오면 결측치가 있다는 뜻이에요"
   ]
  },
  {
   "cell_type": "markdown",
   "metadata": {},
   "source": [
    "# 6.학습"
   ]
  },
  {
   "cell_type": "code",
   "execution_count": 308,
   "metadata": {},
   "outputs": [
    {
     "ename": "ValueError",
     "evalue": "could not convert string to float: 'low'",
     "output_type": "error",
     "traceback": [
      "\u001b[1;31m---------------------------------------------------------------------------\u001b[0m",
      "\u001b[1;31mValueError\u001b[0m                                Traceback (most recent call last)",
      "\u001b[1;32m<ipython-input-308-21f13ff88f24>\u001b[0m in \u001b[0;36m<module>\u001b[1;34m\u001b[0m\n\u001b[1;32m----> 1\u001b[1;33m \u001b[0mtree\u001b[0m\u001b[1;33m.\u001b[0m\u001b[0mfit\u001b[0m\u001b[1;33m(\u001b[0m\u001b[0mX_train\u001b[0m\u001b[1;33m,\u001b[0m\u001b[0my_train\u001b[0m\u001b[1;33m)\u001b[0m\u001b[1;33m\u001b[0m\u001b[1;33m\u001b[0m\u001b[0m\n\u001b[0m",
      "\u001b[1;32m~\\anaconda3\\lib\\site-packages\\sklearn\\tree\\_classes.py\u001b[0m in \u001b[0;36mfit\u001b[1;34m(self, X, y, sample_weight, check_input, X_idx_sorted)\u001b[0m\n\u001b[0;32m    888\u001b[0m         \"\"\"\n\u001b[0;32m    889\u001b[0m \u001b[1;33m\u001b[0m\u001b[0m\n\u001b[1;32m--> 890\u001b[1;33m         super().fit(\n\u001b[0m\u001b[0;32m    891\u001b[0m             \u001b[0mX\u001b[0m\u001b[1;33m,\u001b[0m \u001b[0my\u001b[0m\u001b[1;33m,\u001b[0m\u001b[1;33m\u001b[0m\u001b[1;33m\u001b[0m\u001b[0m\n\u001b[0;32m    892\u001b[0m             \u001b[0msample_weight\u001b[0m\u001b[1;33m=\u001b[0m\u001b[0msample_weight\u001b[0m\u001b[1;33m,\u001b[0m\u001b[1;33m\u001b[0m\u001b[1;33m\u001b[0m\u001b[0m\n",
      "\u001b[1;32m~\\anaconda3\\lib\\site-packages\\sklearn\\tree\\_classes.py\u001b[0m in \u001b[0;36mfit\u001b[1;34m(self, X, y, sample_weight, check_input, X_idx_sorted)\u001b[0m\n\u001b[0;32m    154\u001b[0m             \u001b[0mcheck_X_params\u001b[0m \u001b[1;33m=\u001b[0m \u001b[0mdict\u001b[0m\u001b[1;33m(\u001b[0m\u001b[0mdtype\u001b[0m\u001b[1;33m=\u001b[0m\u001b[0mDTYPE\u001b[0m\u001b[1;33m,\u001b[0m \u001b[0maccept_sparse\u001b[0m\u001b[1;33m=\u001b[0m\u001b[1;34m\"csc\"\u001b[0m\u001b[1;33m)\u001b[0m\u001b[1;33m\u001b[0m\u001b[1;33m\u001b[0m\u001b[0m\n\u001b[0;32m    155\u001b[0m             \u001b[0mcheck_y_params\u001b[0m \u001b[1;33m=\u001b[0m \u001b[0mdict\u001b[0m\u001b[1;33m(\u001b[0m\u001b[0mensure_2d\u001b[0m\u001b[1;33m=\u001b[0m\u001b[1;32mFalse\u001b[0m\u001b[1;33m,\u001b[0m \u001b[0mdtype\u001b[0m\u001b[1;33m=\u001b[0m\u001b[1;32mNone\u001b[0m\u001b[1;33m)\u001b[0m\u001b[1;33m\u001b[0m\u001b[1;33m\u001b[0m\u001b[0m\n\u001b[1;32m--> 156\u001b[1;33m             X, y = self._validate_data(X, y,\n\u001b[0m\u001b[0;32m    157\u001b[0m                                        validate_separately=(check_X_params,\n\u001b[0;32m    158\u001b[0m                                                             check_y_params))\n",
      "\u001b[1;32m~\\anaconda3\\lib\\site-packages\\sklearn\\base.py\u001b[0m in \u001b[0;36m_validate_data\u001b[1;34m(self, X, y, reset, validate_separately, **check_params)\u001b[0m\n\u001b[0;32m    427\u001b[0m                 \u001b[1;31m# :(\u001b[0m\u001b[1;33m\u001b[0m\u001b[1;33m\u001b[0m\u001b[1;33m\u001b[0m\u001b[0m\n\u001b[0;32m    428\u001b[0m                 \u001b[0mcheck_X_params\u001b[0m\u001b[1;33m,\u001b[0m \u001b[0mcheck_y_params\u001b[0m \u001b[1;33m=\u001b[0m \u001b[0mvalidate_separately\u001b[0m\u001b[1;33m\u001b[0m\u001b[1;33m\u001b[0m\u001b[0m\n\u001b[1;32m--> 429\u001b[1;33m                 \u001b[0mX\u001b[0m \u001b[1;33m=\u001b[0m \u001b[0mcheck_array\u001b[0m\u001b[1;33m(\u001b[0m\u001b[0mX\u001b[0m\u001b[1;33m,\u001b[0m \u001b[1;33m**\u001b[0m\u001b[0mcheck_X_params\u001b[0m\u001b[1;33m)\u001b[0m\u001b[1;33m\u001b[0m\u001b[1;33m\u001b[0m\u001b[0m\n\u001b[0m\u001b[0;32m    430\u001b[0m                 \u001b[0my\u001b[0m \u001b[1;33m=\u001b[0m \u001b[0mcheck_array\u001b[0m\u001b[1;33m(\u001b[0m\u001b[0my\u001b[0m\u001b[1;33m,\u001b[0m \u001b[1;33m**\u001b[0m\u001b[0mcheck_y_params\u001b[0m\u001b[1;33m)\u001b[0m\u001b[1;33m\u001b[0m\u001b[1;33m\u001b[0m\u001b[0m\n\u001b[0;32m    431\u001b[0m             \u001b[1;32melse\u001b[0m\u001b[1;33m:\u001b[0m\u001b[1;33m\u001b[0m\u001b[1;33m\u001b[0m\u001b[0m\n",
      "\u001b[1;32m~\\anaconda3\\lib\\site-packages\\sklearn\\utils\\validation.py\u001b[0m in \u001b[0;36minner_f\u001b[1;34m(*args, **kwargs)\u001b[0m\n\u001b[0;32m     70\u001b[0m                           FutureWarning)\n\u001b[0;32m     71\u001b[0m         \u001b[0mkwargs\u001b[0m\u001b[1;33m.\u001b[0m\u001b[0mupdate\u001b[0m\u001b[1;33m(\u001b[0m\u001b[1;33m{\u001b[0m\u001b[0mk\u001b[0m\u001b[1;33m:\u001b[0m \u001b[0marg\u001b[0m \u001b[1;32mfor\u001b[0m \u001b[0mk\u001b[0m\u001b[1;33m,\u001b[0m \u001b[0marg\u001b[0m \u001b[1;32min\u001b[0m \u001b[0mzip\u001b[0m\u001b[1;33m(\u001b[0m\u001b[0msig\u001b[0m\u001b[1;33m.\u001b[0m\u001b[0mparameters\u001b[0m\u001b[1;33m,\u001b[0m \u001b[0margs\u001b[0m\u001b[1;33m)\u001b[0m\u001b[1;33m}\u001b[0m\u001b[1;33m)\u001b[0m\u001b[1;33m\u001b[0m\u001b[1;33m\u001b[0m\u001b[0m\n\u001b[1;32m---> 72\u001b[1;33m         \u001b[1;32mreturn\u001b[0m \u001b[0mf\u001b[0m\u001b[1;33m(\u001b[0m\u001b[1;33m**\u001b[0m\u001b[0mkwargs\u001b[0m\u001b[1;33m)\u001b[0m\u001b[1;33m\u001b[0m\u001b[1;33m\u001b[0m\u001b[0m\n\u001b[0m\u001b[0;32m     73\u001b[0m     \u001b[1;32mreturn\u001b[0m \u001b[0minner_f\u001b[0m\u001b[1;33m\u001b[0m\u001b[1;33m\u001b[0m\u001b[0m\n\u001b[0;32m     74\u001b[0m \u001b[1;33m\u001b[0m\u001b[0m\n",
      "\u001b[1;32m~\\anaconda3\\lib\\site-packages\\sklearn\\utils\\validation.py\u001b[0m in \u001b[0;36mcheck_array\u001b[1;34m(array, accept_sparse, accept_large_sparse, dtype, order, copy, force_all_finite, ensure_2d, allow_nd, ensure_min_samples, ensure_min_features, estimator)\u001b[0m\n\u001b[0;32m    596\u001b[0m                     \u001b[0marray\u001b[0m \u001b[1;33m=\u001b[0m \u001b[0marray\u001b[0m\u001b[1;33m.\u001b[0m\u001b[0mastype\u001b[0m\u001b[1;33m(\u001b[0m\u001b[0mdtype\u001b[0m\u001b[1;33m,\u001b[0m \u001b[0mcasting\u001b[0m\u001b[1;33m=\u001b[0m\u001b[1;34m\"unsafe\"\u001b[0m\u001b[1;33m,\u001b[0m \u001b[0mcopy\u001b[0m\u001b[1;33m=\u001b[0m\u001b[1;32mFalse\u001b[0m\u001b[1;33m)\u001b[0m\u001b[1;33m\u001b[0m\u001b[1;33m\u001b[0m\u001b[0m\n\u001b[0;32m    597\u001b[0m                 \u001b[1;32melse\u001b[0m\u001b[1;33m:\u001b[0m\u001b[1;33m\u001b[0m\u001b[1;33m\u001b[0m\u001b[0m\n\u001b[1;32m--> 598\u001b[1;33m                     \u001b[0marray\u001b[0m \u001b[1;33m=\u001b[0m \u001b[0mnp\u001b[0m\u001b[1;33m.\u001b[0m\u001b[0masarray\u001b[0m\u001b[1;33m(\u001b[0m\u001b[0marray\u001b[0m\u001b[1;33m,\u001b[0m \u001b[0morder\u001b[0m\u001b[1;33m=\u001b[0m\u001b[0morder\u001b[0m\u001b[1;33m,\u001b[0m \u001b[0mdtype\u001b[0m\u001b[1;33m=\u001b[0m\u001b[0mdtype\u001b[0m\u001b[1;33m)\u001b[0m\u001b[1;33m\u001b[0m\u001b[1;33m\u001b[0m\u001b[0m\n\u001b[0m\u001b[0;32m    599\u001b[0m             \u001b[1;32mexcept\u001b[0m \u001b[0mComplexWarning\u001b[0m\u001b[1;33m:\u001b[0m\u001b[1;33m\u001b[0m\u001b[1;33m\u001b[0m\u001b[0m\n\u001b[0;32m    600\u001b[0m                 raise ValueError(\"Complex data not supported\\n\"\n",
      "\u001b[1;32m~\\anaconda3\\lib\\site-packages\\numpy\\core\\_asarray.py\u001b[0m in \u001b[0;36masarray\u001b[1;34m(a, dtype, order)\u001b[0m\n\u001b[0;32m     81\u001b[0m \u001b[1;33m\u001b[0m\u001b[0m\n\u001b[0;32m     82\u001b[0m     \"\"\"\n\u001b[1;32m---> 83\u001b[1;33m     \u001b[1;32mreturn\u001b[0m \u001b[0marray\u001b[0m\u001b[1;33m(\u001b[0m\u001b[0ma\u001b[0m\u001b[1;33m,\u001b[0m \u001b[0mdtype\u001b[0m\u001b[1;33m,\u001b[0m \u001b[0mcopy\u001b[0m\u001b[1;33m=\u001b[0m\u001b[1;32mFalse\u001b[0m\u001b[1;33m,\u001b[0m \u001b[0morder\u001b[0m\u001b[1;33m=\u001b[0m\u001b[0morder\u001b[0m\u001b[1;33m)\u001b[0m\u001b[1;33m\u001b[0m\u001b[1;33m\u001b[0m\u001b[0m\n\u001b[0m\u001b[0;32m     84\u001b[0m \u001b[1;33m\u001b[0m\u001b[0m\n\u001b[0;32m     85\u001b[0m \u001b[1;33m\u001b[0m\u001b[0m\n",
      "\u001b[1;32m~\\anaconda3\\lib\\site-packages\\pandas\\core\\generic.py\u001b[0m in \u001b[0;36m__array__\u001b[1;34m(self, dtype)\u001b[0m\n\u001b[0;32m   1779\u001b[0m \u001b[1;33m\u001b[0m\u001b[0m\n\u001b[0;32m   1780\u001b[0m     \u001b[1;32mdef\u001b[0m \u001b[0m__array__\u001b[0m\u001b[1;33m(\u001b[0m\u001b[0mself\u001b[0m\u001b[1;33m,\u001b[0m \u001b[0mdtype\u001b[0m\u001b[1;33m=\u001b[0m\u001b[1;32mNone\u001b[0m\u001b[1;33m)\u001b[0m \u001b[1;33m->\u001b[0m \u001b[0mnp\u001b[0m\u001b[1;33m.\u001b[0m\u001b[0mndarray\u001b[0m\u001b[1;33m:\u001b[0m\u001b[1;33m\u001b[0m\u001b[1;33m\u001b[0m\u001b[0m\n\u001b[1;32m-> 1781\u001b[1;33m         \u001b[1;32mreturn\u001b[0m \u001b[0mnp\u001b[0m\u001b[1;33m.\u001b[0m\u001b[0masarray\u001b[0m\u001b[1;33m(\u001b[0m\u001b[0mself\u001b[0m\u001b[1;33m.\u001b[0m\u001b[0m_values\u001b[0m\u001b[1;33m,\u001b[0m \u001b[0mdtype\u001b[0m\u001b[1;33m=\u001b[0m\u001b[0mdtype\u001b[0m\u001b[1;33m)\u001b[0m\u001b[1;33m\u001b[0m\u001b[1;33m\u001b[0m\u001b[0m\n\u001b[0m\u001b[0;32m   1782\u001b[0m \u001b[1;33m\u001b[0m\u001b[0m\n\u001b[0;32m   1783\u001b[0m     \u001b[1;32mdef\u001b[0m \u001b[0m__array_wrap__\u001b[0m\u001b[1;33m(\u001b[0m\u001b[0mself\u001b[0m\u001b[1;33m,\u001b[0m \u001b[0mresult\u001b[0m\u001b[1;33m,\u001b[0m \u001b[0mcontext\u001b[0m\u001b[1;33m=\u001b[0m\u001b[1;32mNone\u001b[0m\u001b[1;33m)\u001b[0m\u001b[1;33m:\u001b[0m\u001b[1;33m\u001b[0m\u001b[1;33m\u001b[0m\u001b[0m\n",
      "\u001b[1;32m~\\anaconda3\\lib\\site-packages\\numpy\\core\\_asarray.py\u001b[0m in \u001b[0;36masarray\u001b[1;34m(a, dtype, order)\u001b[0m\n\u001b[0;32m     81\u001b[0m \u001b[1;33m\u001b[0m\u001b[0m\n\u001b[0;32m     82\u001b[0m     \"\"\"\n\u001b[1;32m---> 83\u001b[1;33m     \u001b[1;32mreturn\u001b[0m \u001b[0marray\u001b[0m\u001b[1;33m(\u001b[0m\u001b[0ma\u001b[0m\u001b[1;33m,\u001b[0m \u001b[0mdtype\u001b[0m\u001b[1;33m,\u001b[0m \u001b[0mcopy\u001b[0m\u001b[1;33m=\u001b[0m\u001b[1;32mFalse\u001b[0m\u001b[1;33m,\u001b[0m \u001b[0morder\u001b[0m\u001b[1;33m=\u001b[0m\u001b[0morder\u001b[0m\u001b[1;33m)\u001b[0m\u001b[1;33m\u001b[0m\u001b[1;33m\u001b[0m\u001b[0m\n\u001b[0m\u001b[0;32m     84\u001b[0m \u001b[1;33m\u001b[0m\u001b[0m\n\u001b[0;32m     85\u001b[0m \u001b[1;33m\u001b[0m\u001b[0m\n",
      "\u001b[1;31mValueError\u001b[0m: could not convert string to float: 'low'"
     ]
    }
   ],
   "source": [
    "tree.fit(X_train,y_train)"
   ]
  },
  {
   "cell_type": "markdown",
   "metadata": {},
   "source": [
    "# 7.평가"
   ]
  },
  {
   "cell_type": "code",
   "execution_count": null,
   "metadata": {},
   "outputs": [],
   "source": [
    "tree.score(X_train,y_train)"
   ]
  },
  {
   "cell_type": "code",
   "execution_count": null,
   "metadata": {},
   "outputs": [],
   "source": [
    "pre=tree.predict(X_test)\n",
    "result = pd.read_csv('smhrd210615/sampleSubmission.csv')\n",
    "result['Reached.on.Time_Y.N']=pre\n",
    "result.to_csv('DT_esubmissoin_01.csv',index=False)"
   ]
  },
  {
   "cell_type": "markdown",
   "metadata": {},
   "source": [
    "# 5-1\n",
    "- RandomForest"
   ]
  },
  {
   "cell_type": "code",
   "execution_count": null,
   "metadata": {},
   "outputs": [],
   "source": [
    "from sklearn.ensemble import RandomForestClassifier\n",
    "forest = RandomForestClassifier(n_estimators=10000,\n",
    "                                random_state=3)"
   ]
  },
  {
   "cell_type": "markdown",
   "metadata": {},
   "source": [
    "# 6-1"
   ]
  },
  {
   "cell_type": "code",
   "execution_count": null,
   "metadata": {},
   "outputs": [],
   "source": [
    "forest.fit(X_train,y_train)"
   ]
  },
  {
   "cell_type": "markdown",
   "metadata": {},
   "source": [
    "# 7-1"
   ]
  },
  {
   "cell_type": "code",
   "execution_count": null,
   "metadata": {},
   "outputs": [],
   "source": [
    "forest.score(X_train,y_train)"
   ]
  },
  {
   "cell_type": "code",
   "execution_count": null,
   "metadata": {},
   "outputs": [],
   "source": [
    "pre=forest.predict(X_test)\n",
    "result = pd.read_csv('smhrd210615/sampleSubmission.csv')\n",
    "result['Reached.on.Time_Y.N']=pre\n",
    "result.to_csv('forest4_esubmissoin_01.csv',index=False)"
   ]
  },
  {
   "cell_type": "markdown",
   "metadata": {},
   "source": [
    "# 5-2\n",
    "- KNN"
   ]
  },
  {
   "cell_type": "code",
   "execution_count": null,
   "metadata": {},
   "outputs": [],
   "source": [
    "from sklearn.neighbors import KNeighborsClassifier\n",
    "knn = KNeighborsClassifier(n_neighbors=3)"
   ]
  },
  {
   "cell_type": "code",
   "execution_count": null,
   "metadata": {},
   "outputs": [],
   "source": [
    "#교차검증\n",
    "result = cross_val_score(knn,X_train,y_train,cv=5)\n",
    "result.mean()"
   ]
  },
  {
   "cell_type": "code",
   "execution_count": null,
   "metadata": {},
   "outputs": [],
   "source": [
    "# standardScaler받아오기\n",
    "from sklearn.preprocessing import StandardScaler"
   ]
  },
  {
   "cell_type": "code",
   "execution_count": null,
   "metadata": {},
   "outputs": [],
   "source": [
    "scaler = StandardScaler()"
   ]
  },
  {
   "cell_type": "code",
   "execution_count": null,
   "metadata": {},
   "outputs": [],
   "source": [
    "# 범위 학습\n",
    "scaler.fit(X_train)"
   ]
  },
  {
   "cell_type": "code",
   "execution_count": null,
   "metadata": {},
   "outputs": [],
   "source": [
    "X_train.head()"
   ]
  },
  {
   "cell_type": "code",
   "execution_count": null,
   "metadata": {},
   "outputs": [],
   "source": [
    "#학습된 범위로 값 변환\n",
    "trans_X_train=scaler.transform(X_train)\n",
    "trans_X_test=scaler.transform(X_test)"
   ]
  },
  {
   "cell_type": "code",
   "execution_count": null,
   "metadata": {},
   "outputs": [],
   "source": [
    "result = cross_val_score(knn,trans_X_train,y_train,cv=5)\n",
    "result.mean()"
   ]
  },
  {
   "cell_type": "markdown",
   "metadata": {},
   "source": [
    "# 6-2"
   ]
  },
  {
   "cell_type": "code",
   "execution_count": null,
   "metadata": {},
   "outputs": [],
   "source": [
    "knn.fit(X_train,y_train)"
   ]
  },
  {
   "cell_type": "markdown",
   "metadata": {},
   "source": [
    "# 7-2"
   ]
  },
  {
   "cell_type": "code",
   "execution_count": null,
   "metadata": {},
   "outputs": [],
   "source": [
    "knn.score(X_train,y_train)"
   ]
  },
  {
   "cell_type": "code",
   "execution_count": null,
   "metadata": {},
   "outputs": [],
   "source": [
    "pre=knn.predict(X_test)\n",
    "result = pd.read_csv('smhrd210615/sampleSubmission.csv')\n",
    "result['Reached.on.Time_Y.N']=pre\n",
    "result.to_csv('knn2_esubmissoin_01.csv',index=False)"
   ]
  },
  {
   "cell_type": "code",
   "execution_count": null,
   "metadata": {},
   "outputs": [],
   "source": [
    "train_list=[]\n",
    "for k in range(1,101): # k: 이웃의 수\n",
    "    # 5. 모델 선택 및 하이퍼 파라미터 튜닝\n",
    "    model = KNeighborsClassifier(n_neighbors=k)\n",
    "    \n",
    "    # 6. 모델 학습\n",
    "    model.fit(X_train,y_train) \n",
    "    \n",
    "    # 7. 모델 평가\n",
    "    train_list.append(model.score(X_train,y_train))"
   ]
  },
  {
   "cell_type": "code",
   "execution_count": null,
   "metadata": {},
   "outputs": [],
   "source": [
    "train_list"
   ]
  },
  {
   "cell_type": "markdown",
   "metadata": {},
   "source": [
    "# 5-3\n",
    "- adaboost"
   ]
  },
  {
   "cell_type": "code",
   "execution_count": null,
   "metadata": {},
   "outputs": [],
   "source": [
    "from sklearn.ensemble import AdaBoostClassifier"
   ]
  },
  {
   "cell_type": "code",
   "execution_count": null,
   "metadata": {},
   "outputs": [],
   "source": [
    "adaboost = AdaBoostClassifier()"
   ]
  },
  {
   "cell_type": "markdown",
   "metadata": {},
   "source": [
    "# 6-4"
   ]
  },
  {
   "cell_type": "code",
   "execution_count": null,
   "metadata": {},
   "outputs": [],
   "source": [
    "adaboost.fit(X_train,y_train)"
   ]
  },
  {
   "cell_type": "code",
   "execution_count": null,
   "metadata": {},
   "outputs": [],
   "source": [
    "adaboost.score(X_train,y_train)"
   ]
  },
  {
   "cell_type": "code",
   "execution_count": null,
   "metadata": {},
   "outputs": [],
   "source": [
    "pre=adaboost.predict(X_test)\n",
    "result = pd.read_csv('smhrd210615/sampleSubmission.csv')\n",
    "result['Reached.on.Time_Y.N']=pre\n",
    "result.to_csv('adaboost_esubmissoin_01.csv',index=False)"
   ]
  },
  {
   "cell_type": "markdown",
   "metadata": {},
   "source": [
    "# 5-4 \n",
    "- GradientBoosting"
   ]
  },
  {
   "cell_type": "code",
   "execution_count": null,
   "metadata": {},
   "outputs": [],
   "source": [
    "from sklearn.ensemble import GradientBoostingClassifier\n",
    "gdc = GradientBoostingClassifier()"
   ]
  },
  {
   "cell_type": "markdown",
   "metadata": {},
   "source": [
    "# 6-5"
   ]
  },
  {
   "cell_type": "code",
   "execution_count": null,
   "metadata": {},
   "outputs": [],
   "source": [
    "gdc.fit(X_train,y_train)"
   ]
  },
  {
   "cell_type": "code",
   "execution_count": null,
   "metadata": {},
   "outputs": [],
   "source": [
    "gdc.score(X_train,y_train)"
   ]
  },
  {
   "cell_type": "code",
   "execution_count": null,
   "metadata": {},
   "outputs": [],
   "source": [
    "pre=gdc.predict(X_test)\n",
    "result = pd.read_csv('smhrd210615/sampleSubmission.csv')\n",
    "result['Reached.on.Time_Y.N']=pre\n",
    "result.to_csv('gdc_esubmissoin_01.csv',index=False)"
   ]
  },
  {
   "cell_type": "markdown",
   "metadata": {},
   "source": [
    "# 5-6\n",
    "- Light GBM"
   ]
  },
  {
   "cell_type": "code",
   "execution_count": null,
   "metadata": {},
   "outputs": [],
   "source": [
    "!pip install lightgbm"
   ]
  },
  {
   "cell_type": "code",
   "execution_count": null,
   "metadata": {},
   "outputs": [],
   "source": [
    "from lightgbm import LGBMClassifier"
   ]
  },
  {
   "cell_type": "code",
   "execution_count": null,
   "metadata": {},
   "outputs": [],
   "source": [
    "lgb = LGBMClassifier()"
   ]
  },
  {
   "cell_type": "markdown",
   "metadata": {},
   "source": [
    "# 6-6"
   ]
  },
  {
   "cell_type": "code",
   "execution_count": null,
   "metadata": {},
   "outputs": [],
   "source": [
    "lgb.fit(X_train,y_train)"
   ]
  },
  {
   "cell_type": "markdown",
   "metadata": {},
   "source": [
    "# 7-6"
   ]
  },
  {
   "cell_type": "code",
   "execution_count": null,
   "metadata": {},
   "outputs": [],
   "source": [
    "lgb.score(X_train,y_train)"
   ]
  },
  {
   "cell_type": "code",
   "execution_count": null,
   "metadata": {},
   "outputs": [],
   "source": [
    "pre=lgb.predict(X_test)\n",
    "result = pd.read_csv('smhrd210615/sampleSubmission.csv')\n",
    "result['Reached.on.Time_Y.N']=pre\n",
    "result.to_csv('lgb_esubmissoin_01.csv',index=False)"
   ]
  },
  {
   "cell_type": "markdown",
   "metadata": {},
   "source": [
    "# 5-7\n",
    "- xgboost"
   ]
  },
  {
   "cell_type": "code",
   "execution_count": null,
   "metadata": {},
   "outputs": [],
   "source": [
    "!pip install xgboost"
   ]
  },
  {
   "cell_type": "code",
   "execution_count": null,
   "metadata": {},
   "outputs": [],
   "source": [
    "from xgboost import XGBClassifier"
   ]
  },
  {
   "cell_type": "code",
   "execution_count": null,
   "metadata": {},
   "outputs": [],
   "source": [
    "xgb= XGBClassifier()"
   ]
  },
  {
   "cell_type": "markdown",
   "metadata": {},
   "source": [
    "# 6-7"
   ]
  },
  {
   "cell_type": "code",
   "execution_count": null,
   "metadata": {},
   "outputs": [],
   "source": [
    "xgb.fit(X_train,y_train)"
   ]
  },
  {
   "cell_type": "code",
   "execution_count": null,
   "metadata": {},
   "outputs": [],
   "source": [
    "xgb.score(X_train,y_train)"
   ]
  },
  {
   "cell_type": "code",
   "execution_count": null,
   "metadata": {},
   "outputs": [],
   "source": [
    "pre=xgb.predict(X_test)\n",
    "result = pd.read_csv('smhrd210615/sampleSubmission.csv')\n",
    "result['Reached.on.Time_Y.N']=pre\n",
    "result.to_csv('xgb_esubmissoin_01.csv',index=False)"
   ]
  },
  {
   "cell_type": "code",
   "execution_count": null,
   "metadata": {},
   "outputs": [],
   "source": [
    "X_train.shape"
   ]
  },
  {
   "cell_type": "code",
   "execution_count": null,
   "metadata": {},
   "outputs": [],
   "source": [
    "#GridSearch\n",
    "# from sklearn.model_selection import GridSearchCV"
   ]
  },
  {
   "cell_type": "code",
   "execution_count": null,
   "metadata": {},
   "outputs": [],
   "source": [
    "# param_grid={\n",
    "#      'max_depth' : [5,10,15,20], #트리의 깊이\n",
    "#      'n_estimators' :[1000,1500,2000,2500], #생성할 트리의 개수\n",
    "#      'max_features' : [0.5, 0.7], #무작위로 선택될 후보 특성의 개수\n",
    "#      'max_leaf_nodes' : [20,50,80], #말단 노드 최대 개수\n",
    "#      'min_samples_leaf' : [10,15,20] #말단 노드가 되기 위한 최소 샘플 수\n",
    "#  }"
   ]
  },
  {
   "cell_type": "code",
   "execution_count": null,
   "metadata": {},
   "outputs": [],
   "source": [
    "# grid=GridSearchCV(forest, #gridSearch에 사용할 모델\n",
    "#                   param_grid, #튜닝할 매개변수\n",
    "#                   cv=5, #k겹 교차검증\n",
    "#                   verbose=3 #현재 진행중인 학습 열람\n",
    "#                   )"
   ]
  },
  {
   "cell_type": "code",
   "execution_count": null,
   "metadata": {},
   "outputs": [],
   "source": [
    "# grid.fit(X_train,y_train)"
   ]
  },
  {
   "cell_type": "code",
   "execution_count": null,
   "metadata": {},
   "outputs": [],
   "source": [
    "# print(\"최적의 파라미터: \",grid.best_params_)\n",
    "# print(\"최고 예측 점수: \",grid.best_score_)"
   ]
  },
  {
   "cell_type": "code",
   "execution_count": null,
   "metadata": {},
   "outputs": [],
   "source": []
  }
 ],
 "metadata": {
  "kernelspec": {
   "display_name": "Python 3",
   "language": "python",
   "name": "python3"
  },
  "language_info": {
   "codemirror_mode": {
    "name": "ipython",
    "version": 3
   },
   "file_extension": ".py",
   "mimetype": "text/x-python",
   "name": "python",
   "nbconvert_exporter": "python",
   "pygments_lexer": "ipython3",
   "version": "3.8.5"
  }
 },
 "nbformat": 4,
 "nbformat_minor": 4
}
