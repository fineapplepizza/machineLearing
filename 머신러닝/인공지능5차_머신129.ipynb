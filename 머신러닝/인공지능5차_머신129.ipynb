{
 "cells": [
  {
   "cell_type": "code",
   "execution_count": 1,
   "metadata": {},
   "outputs": [],
   "source": [
    "import pandas as pd\n",
    "import numpy as np\n",
    "import matplotlib.pyplot as plt\n",
    "import seaborn as sns"
   ]
  },
  {
   "cell_type": "markdown",
   "metadata": {},
   "source": [
    "# 1.문제정의\n",
    "- 전자상거래물품배송예측\n",
    "- kaggle대회 높은 점수를 획득"
   ]
  },
  {
   "cell_type": "markdown",
   "metadata": {},
   "source": [
    "# 2. 데이터 수집\n",
    "- kaggle 사이트로부터 train,test수집"
   ]
  },
  {
   "cell_type": "code",
   "execution_count": 2,
   "metadata": {},
   "outputs": [
    {
     "data": {
      "text/html": [
       "<div>\n",
       "<style scoped>\n",
       "    .dataframe tbody tr th:only-of-type {\n",
       "        vertical-align: middle;\n",
       "    }\n",
       "\n",
       "    .dataframe tbody tr th {\n",
       "        vertical-align: top;\n",
       "    }\n",
       "\n",
       "    .dataframe thead th {\n",
       "        text-align: right;\n",
       "    }\n",
       "</style>\n",
       "<table border=\"1\" class=\"dataframe\">\n",
       "  <thead>\n",
       "    <tr style=\"text-align: right;\">\n",
       "      <th></th>\n",
       "      <th>ID</th>\n",
       "      <th>Warehouse_block</th>\n",
       "      <th>Mode_of_Shipment</th>\n",
       "      <th>Customer_care_calls</th>\n",
       "      <th>Customer_rating</th>\n",
       "      <th>Cost_of_the_Product</th>\n",
       "      <th>Prior_purchases</th>\n",
       "      <th>Product_importance</th>\n",
       "      <th>Gender</th>\n",
       "      <th>Discount_offered</th>\n",
       "      <th>Weight_in_gms</th>\n",
       "      <th>Reached.on.Time_Y.N</th>\n",
       "    </tr>\n",
       "  </thead>\n",
       "  <tbody>\n",
       "    <tr>\n",
       "      <th>0</th>\n",
       "      <td>1</td>\n",
       "      <td>C</td>\n",
       "      <td>Ship</td>\n",
       "      <td>2.0</td>\n",
       "      <td>2</td>\n",
       "      <td>135</td>\n",
       "      <td>3.0</td>\n",
       "      <td>low</td>\n",
       "      <td>M</td>\n",
       "      <td>NaN</td>\n",
       "      <td>1339</td>\n",
       "      <td>1</td>\n",
       "    </tr>\n",
       "    <tr>\n",
       "      <th>1</th>\n",
       "      <td>2</td>\n",
       "      <td>F</td>\n",
       "      <td>Flight</td>\n",
       "      <td>5.0</td>\n",
       "      <td>3</td>\n",
       "      <td>225</td>\n",
       "      <td>5.0</td>\n",
       "      <td>low</td>\n",
       "      <td>F</td>\n",
       "      <td>6.0</td>\n",
       "      <td>1082</td>\n",
       "      <td>0</td>\n",
       "    </tr>\n",
       "    <tr>\n",
       "      <th>2</th>\n",
       "      <td>3</td>\n",
       "      <td>F</td>\n",
       "      <td>Ship</td>\n",
       "      <td>3.0</td>\n",
       "      <td>1</td>\n",
       "      <td>229</td>\n",
       "      <td>3.0</td>\n",
       "      <td>low</td>\n",
       "      <td>M</td>\n",
       "      <td>NaN</td>\n",
       "      <td>4971</td>\n",
       "      <td>1</td>\n",
       "    </tr>\n",
       "    <tr>\n",
       "      <th>3</th>\n",
       "      <td>4</td>\n",
       "      <td>F</td>\n",
       "      <td>Ship</td>\n",
       "      <td>3.0</td>\n",
       "      <td>2</td>\n",
       "      <td>228</td>\n",
       "      <td>NaN</td>\n",
       "      <td>medium</td>\n",
       "      <td>M</td>\n",
       "      <td>2.0</td>\n",
       "      <td>5640</td>\n",
       "      <td>0</td>\n",
       "    </tr>\n",
       "    <tr>\n",
       "      <th>4</th>\n",
       "      <td>5</td>\n",
       "      <td>D</td>\n",
       "      <td>Flight</td>\n",
       "      <td>NaN</td>\n",
       "      <td>1</td>\n",
       "      <td>195</td>\n",
       "      <td>6.0</td>\n",
       "      <td>high</td>\n",
       "      <td>F</td>\n",
       "      <td>NaN</td>\n",
       "      <td>4944</td>\n",
       "      <td>1</td>\n",
       "    </tr>\n",
       "  </tbody>\n",
       "</table>\n",
       "</div>"
      ],
      "text/plain": [
       "   ID Warehouse_block  Mode_of_Shipment  Customer_care_calls  Customer_rating  \\\n",
       "0   1                C             Ship                  2.0                2   \n",
       "1   2                F           Flight                  5.0                3   \n",
       "2   3                F             Ship                  3.0                1   \n",
       "3   4                F             Ship                  3.0                2   \n",
       "4   5                D           Flight                  NaN                1   \n",
       "\n",
       "   Cost_of_the_Product  Prior_purchases Product_importance Gender  \\\n",
       "0                  135              3.0                low      M   \n",
       "1                  225              5.0                low      F   \n",
       "2                  229              3.0                low      M   \n",
       "3                  228              NaN             medium      M   \n",
       "4                  195              6.0               high      F   \n",
       "\n",
       "   Discount_offered Weight_in_gms  Reached.on.Time_Y.N  \n",
       "0               NaN          1339                    1  \n",
       "1               6.0          1082                    0  \n",
       "2               NaN          4971                    1  \n",
       "3               2.0          5640                    0  \n",
       "4               NaN          4944                    1  "
      ]
     },
     "execution_count": 2,
     "metadata": {},
     "output_type": "execute_result"
    }
   ],
   "source": [
    "#train데이터 수집\n",
    "train = pd.read_csv(\"smhrd210615/train.csv\")\n",
    "train.head()"
   ]
  },
  {
   "cell_type": "code",
   "execution_count": 3,
   "metadata": {},
   "outputs": [
    {
     "data": {
      "text/html": [
       "<div>\n",
       "<style scoped>\n",
       "    .dataframe tbody tr th:only-of-type {\n",
       "        vertical-align: middle;\n",
       "    }\n",
       "\n",
       "    .dataframe tbody tr th {\n",
       "        vertical-align: top;\n",
       "    }\n",
       "\n",
       "    .dataframe thead th {\n",
       "        text-align: right;\n",
       "    }\n",
       "</style>\n",
       "<table border=\"1\" class=\"dataframe\">\n",
       "  <thead>\n",
       "    <tr style=\"text-align: right;\">\n",
       "      <th></th>\n",
       "      <th>ID</th>\n",
       "      <th>Warehouse_block</th>\n",
       "      <th>Mode_of_Shipment</th>\n",
       "      <th>Customer_care_calls</th>\n",
       "      <th>Customer_rating</th>\n",
       "      <th>Cost_of_the_Product</th>\n",
       "      <th>Prior_purchases</th>\n",
       "      <th>Product_importance</th>\n",
       "      <th>Gender</th>\n",
       "      <th>Discount_offered</th>\n",
       "      <th>Weight_in_gms</th>\n",
       "    </tr>\n",
       "  </thead>\n",
       "  <tbody>\n",
       "    <tr>\n",
       "      <th>0</th>\n",
       "      <td>7000</td>\n",
       "      <td>F</td>\n",
       "      <td>Ship</td>\n",
       "      <td>3.0</td>\n",
       "      <td>1</td>\n",
       "      <td>274</td>\n",
       "      <td>NaN</td>\n",
       "      <td>high</td>\n",
       "      <td>M</td>\n",
       "      <td>NaN</td>\n",
       "      <td>4352</td>\n",
       "    </tr>\n",
       "    <tr>\n",
       "      <th>1</th>\n",
       "      <td>7001</td>\n",
       "      <td>F</td>\n",
       "      <td>Ship</td>\n",
       "      <td>3.0</td>\n",
       "      <td>4</td>\n",
       "      <td>136</td>\n",
       "      <td>2.0</td>\n",
       "      <td>medium</td>\n",
       "      <td>F</td>\n",
       "      <td>NaN</td>\n",
       "      <td>1056</td>\n",
       "    </tr>\n",
       "    <tr>\n",
       "      <th>2</th>\n",
       "      <td>7002</td>\n",
       "      <td>A</td>\n",
       "      <td>Flight</td>\n",
       "      <td>NaN</td>\n",
       "      <td>5</td>\n",
       "      <td>140</td>\n",
       "      <td>3.0</td>\n",
       "      <td>low</td>\n",
       "      <td>F</td>\n",
       "      <td>7.0</td>\n",
       "      <td>5383</td>\n",
       "    </tr>\n",
       "    <tr>\n",
       "      <th>3</th>\n",
       "      <td>7003</td>\n",
       "      <td>C</td>\n",
       "      <td>Ship</td>\n",
       "      <td>NaN</td>\n",
       "      <td>1</td>\n",
       "      <td>291</td>\n",
       "      <td>4.0</td>\n",
       "      <td>low</td>\n",
       "      <td>F</td>\n",
       "      <td>NaN</td>\n",
       "      <td>1880</td>\n",
       "    </tr>\n",
       "    <tr>\n",
       "      <th>4</th>\n",
       "      <td>7004</td>\n",
       "      <td>F</td>\n",
       "      <td>?</td>\n",
       "      <td>4.0</td>\n",
       "      <td>2</td>\n",
       "      <td>147</td>\n",
       "      <td>3.0</td>\n",
       "      <td>low</td>\n",
       "      <td>F</td>\n",
       "      <td>5.0</td>\n",
       "      <td>5174</td>\n",
       "    </tr>\n",
       "  </tbody>\n",
       "</table>\n",
       "</div>"
      ],
      "text/plain": [
       "     ID Warehouse_block  Mode_of_Shipment  Customer_care_calls  \\\n",
       "0  7000                F             Ship                  3.0   \n",
       "1  7001                F             Ship                  3.0   \n",
       "2  7002                A           Flight                  NaN   \n",
       "3  7003                C             Ship                  NaN   \n",
       "4  7004                F                ?                  4.0   \n",
       "\n",
       "   Customer_rating  Cost_of_the_Product  Prior_purchases Product_importance  \\\n",
       "0                1                  274              NaN               high   \n",
       "1                4                  136              2.0             medium   \n",
       "2                5                  140              3.0                low   \n",
       "3                1                  291              4.0                low   \n",
       "4                2                  147              3.0                low   \n",
       "\n",
       "  Gender  Discount_offered Weight_in_gms  \n",
       "0      M               NaN          4352  \n",
       "1      F               NaN          1056  \n",
       "2      F               7.0          5383  \n",
       "3      F               NaN          1880  \n",
       "4      F               5.0          5174  "
      ]
     },
     "execution_count": 3,
     "metadata": {},
     "output_type": "execute_result"
    }
   ],
   "source": [
    "#test데이터 수집\n",
    "test=pd.read_csv(\"smhrd210615/test.csv\")\n",
    "test.head()"
   ]
  },
  {
   "cell_type": "markdown",
   "metadata": {},
   "source": [
    "# 3.데이터 전처리"
   ]
  },
  {
   "cell_type": "code",
   "execution_count": 4,
   "metadata": {},
   "outputs": [],
   "source": [
    "# Id를 인덱스로 변경하기\n",
    "# set_index\n",
    "#train \n",
    "train = train.set_index(\"ID\")\n",
    "#test\n",
    "test = test.set_index(\"ID\")"
   ]
  },
  {
   "cell_type": "code",
   "execution_count": 5,
   "metadata": {},
   "outputs": [
    {
     "name": "stdout",
     "output_type": "stream",
     "text": [
      "(6999, 11)\n",
      "(4000, 10)\n"
     ]
    }
   ],
   "source": [
    "print(train.shape)\n",
    "print(test.shape)"
   ]
  },
  {
   "cell_type": "code",
   "execution_count": 6,
   "metadata": {},
   "outputs": [
    {
     "name": "stdout",
     "output_type": "stream",
     "text": [
      "<class 'pandas.core.frame.DataFrame'>\n",
      "Int64Index: 6999 entries, 1 to 6999\n",
      "Data columns (total 11 columns):\n",
      " #   Column               Non-Null Count  Dtype  \n",
      "---  ------               --------------  -----  \n",
      " 0   Warehouse_block      6999 non-null   object \n",
      " 1   Mode_of_Shipment     6999 non-null   object \n",
      " 2   Customer_care_calls  5423 non-null   float64\n",
      " 3   Customer_rating      6999 non-null   int64  \n",
      " 4   Cost_of_the_Product  6999 non-null   int64  \n",
      " 5   Prior_purchases      6049 non-null   float64\n",
      " 6   Product_importance   6999 non-null   object \n",
      " 7   Gender               6999 non-null   object \n",
      " 8   Discount_offered     3468 non-null   float64\n",
      " 9   Weight_in_gms        6999 non-null   object \n",
      " 10  Reached.on.Time_Y.N  6999 non-null   int64  \n",
      "dtypes: float64(3), int64(3), object(5)\n",
      "memory usage: 656.2+ KB\n"
     ]
    }
   ],
   "source": [
    "#결측치 확인\n",
    "train.info()\n",
    "#Customer_care_calls,Prior_purchases,Discount_offered"
   ]
  },
  {
   "cell_type": "code",
   "execution_count": 7,
   "metadata": {},
   "outputs": [],
   "source": [
    "#Warehouse_block - A,B,C,D,E와 같이 블록으로 나누어 진 큰 창고를 가지고 있다\n",
    "#Mode_of_Shipment-배송방법\n",
    "#Customer_care_calls-배송 조회를 위한 문의 전화수\n",
    "#Customer_rating-고객평가\n",
    "#Cost_of_the_Product -제품비용\n",
    "#Prior_purchases- 이전 구매횟수\n",
    "#Gender- 성별\n",
    "#Discount_offered-특정 제품에 대해 제공되는 할인\n",
    "#Weight_in_gms-무게\n",
    "#Reached.on.Time_Y.N -정시도달\n",
    "#Product_importance-제품중요도"
   ]
  },
  {
   "cell_type": "code",
   "execution_count": 8,
   "metadata": {},
   "outputs": [
    {
     "name": "stdout",
     "output_type": "stream",
     "text": [
      "<class 'pandas.core.frame.DataFrame'>\n",
      "Int64Index: 4000 entries, 7000 to 10999\n",
      "Data columns (total 10 columns):\n",
      " #   Column               Non-Null Count  Dtype  \n",
      "---  ------               --------------  -----  \n",
      " 0   Warehouse_block      4000 non-null   object \n",
      " 1   Mode_of_Shipment     4000 non-null   object \n",
      " 2   Customer_care_calls  3144 non-null   float64\n",
      " 3   Customer_rating      4000 non-null   int64  \n",
      " 4   Cost_of_the_Product  4000 non-null   int64  \n",
      " 5   Prior_purchases      3633 non-null   float64\n",
      " 6   Product_importance   4000 non-null   object \n",
      " 7   Gender               4000 non-null   object \n",
      " 8   Discount_offered     2085 non-null   float64\n",
      " 9   Weight_in_gms        4000 non-null   object \n",
      "dtypes: float64(3), int64(2), object(5)\n",
      "memory usage: 343.8+ KB\n"
     ]
    }
   ],
   "source": [
    "#test결측치확인\n",
    "test.info()\n",
    "#Customer_care_calls,Prior_purchases,Discount_offered"
   ]
  },
  {
   "cell_type": "code",
   "execution_count": 9,
   "metadata": {},
   "outputs": [
    {
     "data": {
      "text/plain": [
       "4.0    1756\n",
       "3.0    1620\n",
       "5.0    1147\n",
       "6.0     496\n",
       "2.0     287\n",
       "7.0     117\n",
       "Name: Customer_care_calls, dtype: int64"
      ]
     },
     "execution_count": 9,
     "metadata": {},
     "output_type": "execute_result"
    }
   ],
   "source": [
    "#결측값 채우기\n",
    "train['Customer_care_calls'].value_counts()"
   ]
  },
  {
   "cell_type": "code",
   "execution_count": 10,
   "metadata": {},
   "outputs": [
    {
     "data": {
      "text/html": [
       "<div>\n",
       "<style scoped>\n",
       "    .dataframe tbody tr th:only-of-type {\n",
       "        vertical-align: middle;\n",
       "    }\n",
       "\n",
       "    .dataframe tbody tr th {\n",
       "        vertical-align: top;\n",
       "    }\n",
       "\n",
       "    .dataframe thead th {\n",
       "        text-align: right;\n",
       "    }\n",
       "</style>\n",
       "<table border=\"1\" class=\"dataframe\">\n",
       "  <thead>\n",
       "    <tr style=\"text-align: right;\">\n",
       "      <th></th>\n",
       "      <th>Customer_care_calls</th>\n",
       "      <th>Customer_rating</th>\n",
       "      <th>Cost_of_the_Product</th>\n",
       "      <th>Prior_purchases</th>\n",
       "      <th>Discount_offered</th>\n",
       "      <th>Reached.on.Time_Y.N</th>\n",
       "    </tr>\n",
       "  </thead>\n",
       "  <tbody>\n",
       "    <tr>\n",
       "      <th>Customer_care_calls</th>\n",
       "      <td>1.000000</td>\n",
       "      <td>0.013420</td>\n",
       "      <td>0.047041</td>\n",
       "      <td>0.173709</td>\n",
       "      <td>-0.158465</td>\n",
       "      <td>-0.070266</td>\n",
       "    </tr>\n",
       "    <tr>\n",
       "      <th>Customer_rating</th>\n",
       "      <td>0.013420</td>\n",
       "      <td>1.000000</td>\n",
       "      <td>-0.001961</td>\n",
       "      <td>0.008217</td>\n",
       "      <td>-0.016456</td>\n",
       "      <td>0.011275</td>\n",
       "    </tr>\n",
       "    <tr>\n",
       "      <th>Cost_of_the_Product</th>\n",
       "      <td>0.047041</td>\n",
       "      <td>-0.001961</td>\n",
       "      <td>1.000000</td>\n",
       "      <td>0.028947</td>\n",
       "      <td>-0.139349</td>\n",
       "      <td>-0.012811</td>\n",
       "    </tr>\n",
       "    <tr>\n",
       "      <th>Prior_purchases</th>\n",
       "      <td>0.173709</td>\n",
       "      <td>0.008217</td>\n",
       "      <td>0.028947</td>\n",
       "      <td>1.000000</td>\n",
       "      <td>-0.081868</td>\n",
       "      <td>-0.065160</td>\n",
       "    </tr>\n",
       "    <tr>\n",
       "      <th>Discount_offered</th>\n",
       "      <td>-0.158465</td>\n",
       "      <td>-0.016456</td>\n",
       "      <td>-0.139349</td>\n",
       "      <td>-0.081868</td>\n",
       "      <td>1.000000</td>\n",
       "      <td>0.397393</td>\n",
       "    </tr>\n",
       "    <tr>\n",
       "      <th>Reached.on.Time_Y.N</th>\n",
       "      <td>-0.070266</td>\n",
       "      <td>0.011275</td>\n",
       "      <td>-0.012811</td>\n",
       "      <td>-0.065160</td>\n",
       "      <td>0.397393</td>\n",
       "      <td>1.000000</td>\n",
       "    </tr>\n",
       "  </tbody>\n",
       "</table>\n",
       "</div>"
      ],
      "text/plain": [
       "                     Customer_care_calls  Customer_rating  \\\n",
       "Customer_care_calls             1.000000         0.013420   \n",
       "Customer_rating                 0.013420         1.000000   \n",
       "Cost_of_the_Product             0.047041        -0.001961   \n",
       "Prior_purchases                 0.173709         0.008217   \n",
       "Discount_offered               -0.158465        -0.016456   \n",
       "Reached.on.Time_Y.N            -0.070266         0.011275   \n",
       "\n",
       "                     Cost_of_the_Product  Prior_purchases  Discount_offered  \\\n",
       "Customer_care_calls             0.047041         0.173709         -0.158465   \n",
       "Customer_rating                -0.001961         0.008217         -0.016456   \n",
       "Cost_of_the_Product             1.000000         0.028947         -0.139349   \n",
       "Prior_purchases                 0.028947         1.000000         -0.081868   \n",
       "Discount_offered               -0.139349        -0.081868          1.000000   \n",
       "Reached.on.Time_Y.N            -0.012811        -0.065160          0.397393   \n",
       "\n",
       "                     Reached.on.Time_Y.N  \n",
       "Customer_care_calls            -0.070266  \n",
       "Customer_rating                 0.011275  \n",
       "Cost_of_the_Product            -0.012811  \n",
       "Prior_purchases                -0.065160  \n",
       "Discount_offered                0.397393  \n",
       "Reached.on.Time_Y.N             1.000000  "
      ]
     },
     "execution_count": 10,
     "metadata": {},
     "output_type": "execute_result"
    }
   ],
   "source": [
    "train.corr()"
   ]
  },
  {
   "cell_type": "code",
   "execution_count": 11,
   "metadata": {},
   "outputs": [
    {
     "data": {
      "text/html": [
       "<div>\n",
       "<style scoped>\n",
       "    .dataframe tbody tr th:only-of-type {\n",
       "        vertical-align: middle;\n",
       "    }\n",
       "\n",
       "    .dataframe tbody tr th {\n",
       "        vertical-align: top;\n",
       "    }\n",
       "\n",
       "    .dataframe thead th {\n",
       "        text-align: right;\n",
       "    }\n",
       "</style>\n",
       "<table border=\"1\" class=\"dataframe\">\n",
       "  <thead>\n",
       "    <tr style=\"text-align: right;\">\n",
       "      <th></th>\n",
       "      <th></th>\n",
       "      <th>Customer_care_calls</th>\n",
       "    </tr>\n",
       "    <tr>\n",
       "      <th>Reached.on.Time_Y.N</th>\n",
       "      <th>Gender</th>\n",
       "      <th></th>\n",
       "    </tr>\n",
       "  </thead>\n",
       "  <tbody>\n",
       "    <tr>\n",
       "      <th rowspan=\"2\" valign=\"top\">0</th>\n",
       "      <th>F</th>\n",
       "      <td>4.155615</td>\n",
       "    </tr>\n",
       "    <tr>\n",
       "      <th>M</th>\n",
       "      <td>4.142346</td>\n",
       "    </tr>\n",
       "    <tr>\n",
       "      <th rowspan=\"2\" valign=\"top\">1</th>\n",
       "      <th>F</th>\n",
       "      <td>3.978927</td>\n",
       "    </tr>\n",
       "    <tr>\n",
       "      <th>M</th>\n",
       "      <td>3.996271</td>\n",
       "    </tr>\n",
       "  </tbody>\n",
       "</table>\n",
       "</div>"
      ],
      "text/plain": [
       "                            Customer_care_calls\n",
       "Reached.on.Time_Y.N Gender                     \n",
       "0                   F                  4.155615\n",
       "                    M                  4.142346\n",
       "1                   F                  3.978927\n",
       "                    M                  3.996271"
      ]
     },
     "execution_count": 11,
     "metadata": {},
     "output_type": "execute_result"
    }
   ],
   "source": [
    "# 피벗테이블 프레임 만들자\n",
    "pt1=train.pivot_table(values='Customer_care_calls',\n",
    "                 index=['Reached.on.Time_Y.N','Gender'],\n",
    "                 aggfunc='mean')\n",
    "pt1"
   ]
  },
  {
   "cell_type": "code",
   "execution_count": 12,
   "metadata": {},
   "outputs": [],
   "source": [
    "#전체적으로 상관관계가 낮았는데 그나마 높은게 정시도착이라 정시도착에 컬럼\n",
    "#을 정하고 문의횟수가 성별과 연관있지 않을까 가설을 세워서 했다.\n",
    "#결측치를 4로 채운 이유는 평균이 4근처에 있기 때문이다."
   ]
  },
  {
   "cell_type": "code",
   "execution_count": 13,
   "metadata": {},
   "outputs": [],
   "source": [
    "train['Customer_care_calls']=train['Customer_care_calls'].fillna(4)"
   ]
  },
  {
   "cell_type": "code",
   "execution_count": 14,
   "metadata": {},
   "outputs": [],
   "source": [
    "test['Customer_care_calls']=test['Customer_care_calls'].fillna(4)"
   ]
  },
  {
   "cell_type": "code",
   "execution_count": 15,
   "metadata": {},
   "outputs": [],
   "source": [
    "# train.drop('Customer_care_callse',axis=1,inplace=True)"
   ]
  },
  {
   "cell_type": "code",
   "execution_count": 16,
   "metadata": {},
   "outputs": [
    {
     "name": "stdout",
     "output_type": "stream",
     "text": [
      "<class 'pandas.core.frame.DataFrame'>\n",
      "Int64Index: 6999 entries, 1 to 6999\n",
      "Data columns (total 11 columns):\n",
      " #   Column               Non-Null Count  Dtype  \n",
      "---  ------               --------------  -----  \n",
      " 0   Warehouse_block      6999 non-null   object \n",
      " 1   Mode_of_Shipment     6999 non-null   object \n",
      " 2   Customer_care_calls  6999 non-null   float64\n",
      " 3   Customer_rating      6999 non-null   int64  \n",
      " 4   Cost_of_the_Product  6999 non-null   int64  \n",
      " 5   Prior_purchases      6049 non-null   float64\n",
      " 6   Product_importance   6999 non-null   object \n",
      " 7   Gender               6999 non-null   object \n",
      " 8   Discount_offered     3468 non-null   float64\n",
      " 9   Weight_in_gms        6999 non-null   object \n",
      " 10  Reached.on.Time_Y.N  6999 non-null   int64  \n",
      "dtypes: float64(3), int64(3), object(5)\n",
      "memory usage: 656.2+ KB\n"
     ]
    }
   ],
   "source": [
    "train.info()"
   ]
  },
  {
   "cell_type": "code",
   "execution_count": 17,
   "metadata": {},
   "outputs": [
    {
     "name": "stdout",
     "output_type": "stream",
     "text": [
      "<class 'pandas.core.frame.DataFrame'>\n",
      "Int64Index: 4000 entries, 7000 to 10999\n",
      "Data columns (total 10 columns):\n",
      " #   Column               Non-Null Count  Dtype  \n",
      "---  ------               --------------  -----  \n",
      " 0   Warehouse_block      4000 non-null   object \n",
      " 1   Mode_of_Shipment     4000 non-null   object \n",
      " 2   Customer_care_calls  4000 non-null   float64\n",
      " 3   Customer_rating      4000 non-null   int64  \n",
      " 4   Cost_of_the_Product  4000 non-null   int64  \n",
      " 5   Prior_purchases      3633 non-null   float64\n",
      " 6   Product_importance   4000 non-null   object \n",
      " 7   Gender               4000 non-null   object \n",
      " 8   Discount_offered     2085 non-null   float64\n",
      " 9   Weight_in_gms        4000 non-null   object \n",
      "dtypes: float64(3), int64(2), object(5)\n",
      "memory usage: 343.8+ KB\n"
     ]
    }
   ],
   "source": [
    "test.info()"
   ]
  },
  {
   "cell_type": "code",
   "execution_count": 18,
   "metadata": {},
   "outputs": [
    {
     "data": {
      "text/plain": [
       "3.0     2176\n",
       "2.0     1423\n",
       "4.0     1162\n",
       "5.0      735\n",
       "6.0      310\n",
       "10.0     101\n",
       "8.0       72\n",
       "7.0       70\n",
       "Name: Prior_purchases, dtype: int64"
      ]
     },
     "execution_count": 18,
     "metadata": {},
     "output_type": "execute_result"
    }
   ],
   "source": [
    "#이전구매횟수 결측치채우기\n",
    "train['Prior_purchases'].value_counts()"
   ]
  },
  {
   "cell_type": "code",
   "execution_count": 19,
   "metadata": {
    "scrolled": true
   },
   "outputs": [
    {
     "data": {
      "text/html": [
       "<div>\n",
       "<style scoped>\n",
       "    .dataframe tbody tr th:only-of-type {\n",
       "        vertical-align: middle;\n",
       "    }\n",
       "\n",
       "    .dataframe tbody tr th {\n",
       "        vertical-align: top;\n",
       "    }\n",
       "\n",
       "    .dataframe thead th {\n",
       "        text-align: right;\n",
       "    }\n",
       "</style>\n",
       "<table border=\"1\" class=\"dataframe\">\n",
       "  <thead>\n",
       "    <tr style=\"text-align: right;\">\n",
       "      <th></th>\n",
       "      <th>Customer_care_calls</th>\n",
       "      <th>Customer_rating</th>\n",
       "      <th>Cost_of_the_Product</th>\n",
       "      <th>Prior_purchases</th>\n",
       "      <th>Discount_offered</th>\n",
       "      <th>Reached.on.Time_Y.N</th>\n",
       "    </tr>\n",
       "  </thead>\n",
       "  <tbody>\n",
       "    <tr>\n",
       "      <th>Customer_care_calls</th>\n",
       "      <td>1.000000</td>\n",
       "      <td>0.012948</td>\n",
       "      <td>0.046959</td>\n",
       "      <td>0.152444</td>\n",
       "      <td>-0.140687</td>\n",
       "      <td>-0.062842</td>\n",
       "    </tr>\n",
       "    <tr>\n",
       "      <th>Customer_rating</th>\n",
       "      <td>0.012948</td>\n",
       "      <td>1.000000</td>\n",
       "      <td>-0.001961</td>\n",
       "      <td>0.008217</td>\n",
       "      <td>-0.016456</td>\n",
       "      <td>0.011275</td>\n",
       "    </tr>\n",
       "    <tr>\n",
       "      <th>Cost_of_the_Product</th>\n",
       "      <td>0.046959</td>\n",
       "      <td>-0.001961</td>\n",
       "      <td>1.000000</td>\n",
       "      <td>0.028947</td>\n",
       "      <td>-0.139349</td>\n",
       "      <td>-0.012811</td>\n",
       "    </tr>\n",
       "    <tr>\n",
       "      <th>Prior_purchases</th>\n",
       "      <td>0.152444</td>\n",
       "      <td>0.008217</td>\n",
       "      <td>0.028947</td>\n",
       "      <td>1.000000</td>\n",
       "      <td>-0.081868</td>\n",
       "      <td>-0.065160</td>\n",
       "    </tr>\n",
       "    <tr>\n",
       "      <th>Discount_offered</th>\n",
       "      <td>-0.140687</td>\n",
       "      <td>-0.016456</td>\n",
       "      <td>-0.139349</td>\n",
       "      <td>-0.081868</td>\n",
       "      <td>1.000000</td>\n",
       "      <td>0.397393</td>\n",
       "    </tr>\n",
       "    <tr>\n",
       "      <th>Reached.on.Time_Y.N</th>\n",
       "      <td>-0.062842</td>\n",
       "      <td>0.011275</td>\n",
       "      <td>-0.012811</td>\n",
       "      <td>-0.065160</td>\n",
       "      <td>0.397393</td>\n",
       "      <td>1.000000</td>\n",
       "    </tr>\n",
       "  </tbody>\n",
       "</table>\n",
       "</div>"
      ],
      "text/plain": [
       "                     Customer_care_calls  Customer_rating  \\\n",
       "Customer_care_calls             1.000000         0.012948   \n",
       "Customer_rating                 0.012948         1.000000   \n",
       "Cost_of_the_Product             0.046959        -0.001961   \n",
       "Prior_purchases                 0.152444         0.008217   \n",
       "Discount_offered               -0.140687        -0.016456   \n",
       "Reached.on.Time_Y.N            -0.062842         0.011275   \n",
       "\n",
       "                     Cost_of_the_Product  Prior_purchases  Discount_offered  \\\n",
       "Customer_care_calls             0.046959         0.152444         -0.140687   \n",
       "Customer_rating                -0.001961         0.008217         -0.016456   \n",
       "Cost_of_the_Product             1.000000         0.028947         -0.139349   \n",
       "Prior_purchases                 0.028947         1.000000         -0.081868   \n",
       "Discount_offered               -0.139349        -0.081868          1.000000   \n",
       "Reached.on.Time_Y.N            -0.012811        -0.065160          0.397393   \n",
       "\n",
       "                     Reached.on.Time_Y.N  \n",
       "Customer_care_calls            -0.062842  \n",
       "Customer_rating                 0.011275  \n",
       "Cost_of_the_Product            -0.012811  \n",
       "Prior_purchases                -0.065160  \n",
       "Discount_offered                0.397393  \n",
       "Reached.on.Time_Y.N             1.000000  "
      ]
     },
     "execution_count": 19,
     "metadata": {},
     "output_type": "execute_result"
    }
   ],
   "source": [
    "train.corr()"
   ]
  },
  {
   "cell_type": "code",
   "execution_count": 20,
   "metadata": {},
   "outputs": [],
   "source": [
    "#결측치를 3으로 채운이유는 3이 앞도적으로 많다고 봤기 때문이다."
   ]
  },
  {
   "cell_type": "code",
   "execution_count": 21,
   "metadata": {},
   "outputs": [],
   "source": [
    "train['Prior_purchases']=train['Prior_purchases'].fillna(3)"
   ]
  },
  {
   "cell_type": "code",
   "execution_count": 22,
   "metadata": {},
   "outputs": [],
   "source": [
    "test['Prior_purchases']=test['Prior_purchases'].fillna(3)"
   ]
  },
  {
   "cell_type": "code",
   "execution_count": 23,
   "metadata": {},
   "outputs": [
    {
     "name": "stdout",
     "output_type": "stream",
     "text": [
      "<class 'pandas.core.frame.DataFrame'>\n",
      "Int64Index: 6999 entries, 1 to 6999\n",
      "Data columns (total 11 columns):\n",
      " #   Column               Non-Null Count  Dtype  \n",
      "---  ------               --------------  -----  \n",
      " 0   Warehouse_block      6999 non-null   object \n",
      " 1   Mode_of_Shipment     6999 non-null   object \n",
      " 2   Customer_care_calls  6999 non-null   float64\n",
      " 3   Customer_rating      6999 non-null   int64  \n",
      " 4   Cost_of_the_Product  6999 non-null   int64  \n",
      " 5   Prior_purchases      6999 non-null   float64\n",
      " 6   Product_importance   6999 non-null   object \n",
      " 7   Gender               6999 non-null   object \n",
      " 8   Discount_offered     3468 non-null   float64\n",
      " 9   Weight_in_gms        6999 non-null   object \n",
      " 10  Reached.on.Time_Y.N  6999 non-null   int64  \n",
      "dtypes: float64(3), int64(3), object(5)\n",
      "memory usage: 656.2+ KB\n"
     ]
    }
   ],
   "source": [
    "train.info()"
   ]
  },
  {
   "cell_type": "code",
   "execution_count": 24,
   "metadata": {},
   "outputs": [
    {
     "name": "stdout",
     "output_type": "stream",
     "text": [
      "<class 'pandas.core.frame.DataFrame'>\n",
      "Int64Index: 4000 entries, 7000 to 10999\n",
      "Data columns (total 10 columns):\n",
      " #   Column               Non-Null Count  Dtype  \n",
      "---  ------               --------------  -----  \n",
      " 0   Warehouse_block      4000 non-null   object \n",
      " 1   Mode_of_Shipment     4000 non-null   object \n",
      " 2   Customer_care_calls  4000 non-null   float64\n",
      " 3   Customer_rating      4000 non-null   int64  \n",
      " 4   Cost_of_the_Product  4000 non-null   int64  \n",
      " 5   Prior_purchases      4000 non-null   float64\n",
      " 6   Product_importance   4000 non-null   object \n",
      " 7   Gender               4000 non-null   object \n",
      " 8   Discount_offered     2085 non-null   float64\n",
      " 9   Weight_in_gms        4000 non-null   object \n",
      "dtypes: float64(3), int64(2), object(5)\n",
      "memory usage: 343.8+ KB\n"
     ]
    }
   ],
   "source": [
    "test.info()"
   ]
  },
  {
   "cell_type": "code",
   "execution_count": 25,
   "metadata": {},
   "outputs": [
    {
     "data": {
      "text/html": [
       "<div>\n",
       "<style scoped>\n",
       "    .dataframe tbody tr th:only-of-type {\n",
       "        vertical-align: middle;\n",
       "    }\n",
       "\n",
       "    .dataframe tbody tr th {\n",
       "        vertical-align: top;\n",
       "    }\n",
       "\n",
       "    .dataframe thead th {\n",
       "        text-align: right;\n",
       "    }\n",
       "</style>\n",
       "<table border=\"1\" class=\"dataframe\">\n",
       "  <thead>\n",
       "    <tr style=\"text-align: right;\">\n",
       "      <th></th>\n",
       "      <th>Customer_care_calls</th>\n",
       "      <th>Customer_rating</th>\n",
       "      <th>Cost_of_the_Product</th>\n",
       "      <th>Prior_purchases</th>\n",
       "      <th>Discount_offered</th>\n",
       "      <th>Reached.on.Time_Y.N</th>\n",
       "    </tr>\n",
       "  </thead>\n",
       "  <tbody>\n",
       "    <tr>\n",
       "      <th>count</th>\n",
       "      <td>6999.000000</td>\n",
       "      <td>6999.000000</td>\n",
       "      <td>6999.000000</td>\n",
       "      <td>6999.000000</td>\n",
       "      <td>3468.000000</td>\n",
       "      <td>6999.000000</td>\n",
       "    </tr>\n",
       "    <tr>\n",
       "      <th>mean</th>\n",
       "      <td>4.042292</td>\n",
       "      <td>3.023718</td>\n",
       "      <td>214.249178</td>\n",
       "      <td>3.498071</td>\n",
       "      <td>13.269031</td>\n",
       "      <td>0.594656</td>\n",
       "    </tr>\n",
       "    <tr>\n",
       "      <th>std</th>\n",
       "      <td>0.995810</td>\n",
       "      <td>2.149861</td>\n",
       "      <td>208.294273</td>\n",
       "      <td>1.436854</td>\n",
       "      <td>16.070188</td>\n",
       "      <td>0.490993</td>\n",
       "    </tr>\n",
       "    <tr>\n",
       "      <th>min</th>\n",
       "      <td>2.000000</td>\n",
       "      <td>1.000000</td>\n",
       "      <td>96.000000</td>\n",
       "      <td>2.000000</td>\n",
       "      <td>1.000000</td>\n",
       "      <td>0.000000</td>\n",
       "    </tr>\n",
       "    <tr>\n",
       "      <th>25%</th>\n",
       "      <td>3.000000</td>\n",
       "      <td>2.000000</td>\n",
       "      <td>169.000000</td>\n",
       "      <td>3.000000</td>\n",
       "      <td>4.000000</td>\n",
       "      <td>0.000000</td>\n",
       "    </tr>\n",
       "    <tr>\n",
       "      <th>50%</th>\n",
       "      <td>4.000000</td>\n",
       "      <td>3.000000</td>\n",
       "      <td>214.000000</td>\n",
       "      <td>3.000000</td>\n",
       "      <td>7.000000</td>\n",
       "      <td>1.000000</td>\n",
       "    </tr>\n",
       "    <tr>\n",
       "      <th>75%</th>\n",
       "      <td>5.000000</td>\n",
       "      <td>4.000000</td>\n",
       "      <td>251.000000</td>\n",
       "      <td>4.000000</td>\n",
       "      <td>10.000000</td>\n",
       "      <td>1.000000</td>\n",
       "    </tr>\n",
       "    <tr>\n",
       "      <th>max</th>\n",
       "      <td>7.000000</td>\n",
       "      <td>99.000000</td>\n",
       "      <td>9999.000000</td>\n",
       "      <td>10.000000</td>\n",
       "      <td>65.000000</td>\n",
       "      <td>1.000000</td>\n",
       "    </tr>\n",
       "  </tbody>\n",
       "</table>\n",
       "</div>"
      ],
      "text/plain": [
       "       Customer_care_calls  Customer_rating  Cost_of_the_Product  \\\n",
       "count          6999.000000      6999.000000          6999.000000   \n",
       "mean              4.042292         3.023718           214.249178   \n",
       "std               0.995810         2.149861           208.294273   \n",
       "min               2.000000         1.000000            96.000000   \n",
       "25%               3.000000         2.000000           169.000000   \n",
       "50%               4.000000         3.000000           214.000000   \n",
       "75%               5.000000         4.000000           251.000000   \n",
       "max               7.000000        99.000000          9999.000000   \n",
       "\n",
       "       Prior_purchases  Discount_offered  Reached.on.Time_Y.N  \n",
       "count      6999.000000       3468.000000          6999.000000  \n",
       "mean          3.498071         13.269031             0.594656  \n",
       "std           1.436854         16.070188             0.490993  \n",
       "min           2.000000          1.000000             0.000000  \n",
       "25%           3.000000          4.000000             0.000000  \n",
       "50%           3.000000          7.000000             1.000000  \n",
       "75%           4.000000         10.000000             1.000000  \n",
       "max          10.000000         65.000000             1.000000  "
      ]
     },
     "execution_count": 25,
     "metadata": {},
     "output_type": "execute_result"
    }
   ],
   "source": [
    "train.describe()"
   ]
  },
  {
   "cell_type": "code",
   "execution_count": 26,
   "metadata": {},
   "outputs": [
    {
     "data": {
      "text/plain": [
       "Index(['Warehouse_block ', 'Mode_of_Shipment', 'Customer_care_calls',\n",
       "       'Customer_rating', 'Cost_of_the_Product', 'Prior_purchases',\n",
       "       'Product_importance', 'Gender', 'Discount_offered', 'Weight_in_gms',\n",
       "       'Reached.on.Time_Y.N'],\n",
       "      dtype='object')"
      ]
     },
     "execution_count": 26,
     "metadata": {},
     "output_type": "execute_result"
    }
   ],
   "source": [
    "train.columns"
   ]
  },
  {
   "cell_type": "code",
   "execution_count": 27,
   "metadata": {},
   "outputs": [
    {
     "data": {
      "text/plain": [
       "array(['C', 'F', 'D', 'B', 'A'], dtype=object)"
      ]
     },
     "execution_count": 27,
     "metadata": {},
     "output_type": "execute_result"
    }
   ],
   "source": [
    "train['Warehouse_block '].unique()"
   ]
  },
  {
   "cell_type": "code",
   "execution_count": 28,
   "metadata": {},
   "outputs": [
    {
     "data": {
      "text/plain": [
       "array(['F', 'A', 'C', 'D', 'B'], dtype=object)"
      ]
     },
     "execution_count": 28,
     "metadata": {},
     "output_type": "execute_result"
    }
   ],
   "source": [
    "test['Warehouse_block '].unique()"
   ]
  },
  {
   "cell_type": "code",
   "execution_count": 29,
   "metadata": {},
   "outputs": [
    {
     "data": {
      "text/plain": [
       "array([' Ship', ' Flight', ' Road', '?', ' Shipzk', ' Flightzk',\n",
       "       ' Roadzk'], dtype=object)"
      ]
     },
     "execution_count": 29,
     "metadata": {},
     "output_type": "execute_result"
    }
   ],
   "source": [
    "train['Mode_of_Shipment'].unique()"
   ]
  },
  {
   "cell_type": "code",
   "execution_count": 30,
   "metadata": {},
   "outputs": [
    {
     "data": {
      "text/plain": [
       "array([' Ship', ' Flight', '?', ' Road', ' Shipzk', ' Roadzk'],\n",
       "      dtype=object)"
      ]
     },
     "execution_count": 30,
     "metadata": {},
     "output_type": "execute_result"
    }
   ],
   "source": [
    "test['Mode_of_Shipment'].unique()"
   ]
  },
  {
   "cell_type": "code",
   "execution_count": 31,
   "metadata": {
    "scrolled": true
   },
   "outputs": [
    {
     "data": {
      "text/plain": [
       " Ship        4508\n",
       " Road        1075\n",
       " Flight      1039\n",
       "?             373\n",
       " Shipzk         2\n",
       " Roadzk         1\n",
       " Flightzk       1\n",
       "Name: Mode_of_Shipment, dtype: int64"
      ]
     },
     "execution_count": 31,
     "metadata": {},
     "output_type": "execute_result"
    }
   ],
   "source": [
    "train['Mode_of_Shipment'].value_counts()"
   ]
  },
  {
   "cell_type": "code",
   "execution_count": 32,
   "metadata": {},
   "outputs": [],
   "source": [
    "for i in train['Mode_of_Shipment']:\n",
    "    if(i=='Shipzk'):\n",
    "        i.index()\n",
    "    "
   ]
  },
  {
   "cell_type": "code",
   "execution_count": 33,
   "metadata": {},
   "outputs": [],
   "source": [
    "#train라벨인코딩\n",
    "Ship_Dictionary={\n",
    "        \" Ship\":\"Ship\",\n",
    "        \" Road\":\"Road\",\n",
    "         \" Flight\":\"Flight\",\n",
    "          \" Shipzk\":\"Ship\",\n",
    "          \"?\":\"?\",\n",
    "          \" Roadzk\":\"Road\",\n",
    "         \" Flightzk\":\"Flight\"\n",
    "    \n",
    " }\n",
    "#shipzk,Roadzk,Flightzk는 이상치로 보고 Ship,Road,Flight로 수정"
   ]
  },
  {
   "cell_type": "code",
   "execution_count": 34,
   "metadata": {},
   "outputs": [],
   "source": [
    "train['Mode_of_Shipment']=train['Mode_of_Shipment'].map(Ship_Dictionary)"
   ]
  },
  {
   "cell_type": "code",
   "execution_count": 35,
   "metadata": {},
   "outputs": [
    {
     "data": {
      "text/plain": [
       "Ship      4510\n",
       "Road      1076\n",
       "Flight    1040\n",
       "?          373\n",
       "Name: Mode_of_Shipment, dtype: int64"
      ]
     },
     "execution_count": 35,
     "metadata": {},
     "output_type": "execute_result"
    }
   ],
   "source": [
    "train['Mode_of_Shipment'].value_counts()"
   ]
  },
  {
   "cell_type": "code",
   "execution_count": 36,
   "metadata": {},
   "outputs": [],
   "source": [
    "#test라벨인코딩\n",
    "tShip_Dictionary={\n",
    "    \" Ship\":\"Ship\",\n",
    "    \" Flight\":\"Flight\",\n",
    "    \"?\":\"?\",\n",
    "    \" Road\":\"Road\",\n",
    "    \" Roadzk\":\"Road\",\n",
    "    \" Shipzk\":\"Ship\"\n",
    "}\n",
    "#Roadzk,Shipzk이상치를 Ship,Road로 변경"
   ]
  },
  {
   "cell_type": "code",
   "execution_count": 37,
   "metadata": {},
   "outputs": [],
   "source": [
    "test['Mode_of_Shipment']=test['Mode_of_Shipment'].map(tShip_Dictionary)"
   ]
  },
  {
   "cell_type": "code",
   "execution_count": 38,
   "metadata": {},
   "outputs": [],
   "source": [
    " #Ship이 최빈값이라서 결측치에 채워줌\n",
    "train['Mode_of_Shipment']=train['Mode_of_Shipment'].replace('?','Ship')\n",
    "test['Mode_of_Shipment']=test['Mode_of_Shipment'].replace('?','Ship')"
   ]
  },
  {
   "cell_type": "code",
   "execution_count": 39,
   "metadata": {},
   "outputs": [
    {
     "data": {
      "text/plain": [
       "Ship      4883\n",
       "Road      1076\n",
       "Flight    1040\n",
       "Name: Mode_of_Shipment, dtype: int64"
      ]
     },
     "execution_count": 39,
     "metadata": {},
     "output_type": "execute_result"
    }
   ],
   "source": [
    "train['Mode_of_Shipment'].value_counts()"
   ]
  },
  {
   "cell_type": "code",
   "execution_count": 40,
   "metadata": {},
   "outputs": [
    {
     "data": {
      "text/plain": [
       "Ship      2773\n",
       "Flight     631\n",
       "Road       596\n",
       "Name: Mode_of_Shipment, dtype: int64"
      ]
     },
     "execution_count": 40,
     "metadata": {},
     "output_type": "execute_result"
    }
   ],
   "source": [
    "test['Mode_of_Shipment'].value_counts()"
   ]
  },
  {
   "cell_type": "code",
   "execution_count": 41,
   "metadata": {},
   "outputs": [
    {
     "data": {
      "text/plain": [
       "array([ 2,  3,  1,  5,  4, 99], dtype=int64)"
      ]
     },
     "execution_count": 41,
     "metadata": {},
     "output_type": "execute_result"
    }
   ],
   "source": [
    "train['Customer_rating'].unique()\n",
    "#99이상치 발견"
   ]
  },
  {
   "cell_type": "code",
   "execution_count": 42,
   "metadata": {},
   "outputs": [
    {
     "data": {
      "text/plain": [
       "3     1451\n",
       "2     1399\n",
       "5     1399\n",
       "1     1391\n",
       "4     1357\n",
       "99       2\n",
       "Name: Customer_rating, dtype: int64"
      ]
     },
     "execution_count": 42,
     "metadata": {},
     "output_type": "execute_result"
    }
   ],
   "source": [
    "train['Customer_rating'].value_counts()"
   ]
  },
  {
   "cell_type": "code",
   "execution_count": 43,
   "metadata": {},
   "outputs": [
    {
     "data": {
      "text/html": [
       "<div>\n",
       "<style scoped>\n",
       "    .dataframe tbody tr th:only-of-type {\n",
       "        vertical-align: middle;\n",
       "    }\n",
       "\n",
       "    .dataframe tbody tr th {\n",
       "        vertical-align: top;\n",
       "    }\n",
       "\n",
       "    .dataframe thead th {\n",
       "        text-align: right;\n",
       "    }\n",
       "</style>\n",
       "<table border=\"1\" class=\"dataframe\">\n",
       "  <thead>\n",
       "    <tr style=\"text-align: right;\">\n",
       "      <th></th>\n",
       "      <th>Customer_care_calls</th>\n",
       "      <th>Customer_rating</th>\n",
       "      <th>Cost_of_the_Product</th>\n",
       "      <th>Prior_purchases</th>\n",
       "      <th>Discount_offered</th>\n",
       "      <th>Reached.on.Time_Y.N</th>\n",
       "    </tr>\n",
       "  </thead>\n",
       "  <tbody>\n",
       "    <tr>\n",
       "      <th>Customer_care_calls</th>\n",
       "      <td>1.000000</td>\n",
       "      <td>0.012948</td>\n",
       "      <td>0.046959</td>\n",
       "      <td>0.137079</td>\n",
       "      <td>-0.140687</td>\n",
       "      <td>-0.062842</td>\n",
       "    </tr>\n",
       "    <tr>\n",
       "      <th>Customer_rating</th>\n",
       "      <td>0.012948</td>\n",
       "      <td>1.000000</td>\n",
       "      <td>-0.001961</td>\n",
       "      <td>0.005057</td>\n",
       "      <td>-0.016456</td>\n",
       "      <td>0.011275</td>\n",
       "    </tr>\n",
       "    <tr>\n",
       "      <th>Cost_of_the_Product</th>\n",
       "      <td>0.046959</td>\n",
       "      <td>-0.001961</td>\n",
       "      <td>1.000000</td>\n",
       "      <td>0.029920</td>\n",
       "      <td>-0.139349</td>\n",
       "      <td>-0.012811</td>\n",
       "    </tr>\n",
       "    <tr>\n",
       "      <th>Prior_purchases</th>\n",
       "      <td>0.137079</td>\n",
       "      <td>0.005057</td>\n",
       "      <td>0.029920</td>\n",
       "      <td>1.000000</td>\n",
       "      <td>-0.075178</td>\n",
       "      <td>-0.057114</td>\n",
       "    </tr>\n",
       "    <tr>\n",
       "      <th>Discount_offered</th>\n",
       "      <td>-0.140687</td>\n",
       "      <td>-0.016456</td>\n",
       "      <td>-0.139349</td>\n",
       "      <td>-0.075178</td>\n",
       "      <td>1.000000</td>\n",
       "      <td>0.397393</td>\n",
       "    </tr>\n",
       "    <tr>\n",
       "      <th>Reached.on.Time_Y.N</th>\n",
       "      <td>-0.062842</td>\n",
       "      <td>0.011275</td>\n",
       "      <td>-0.012811</td>\n",
       "      <td>-0.057114</td>\n",
       "      <td>0.397393</td>\n",
       "      <td>1.000000</td>\n",
       "    </tr>\n",
       "  </tbody>\n",
       "</table>\n",
       "</div>"
      ],
      "text/plain": [
       "                     Customer_care_calls  Customer_rating  \\\n",
       "Customer_care_calls             1.000000         0.012948   \n",
       "Customer_rating                 0.012948         1.000000   \n",
       "Cost_of_the_Product             0.046959        -0.001961   \n",
       "Prior_purchases                 0.137079         0.005057   \n",
       "Discount_offered               -0.140687        -0.016456   \n",
       "Reached.on.Time_Y.N            -0.062842         0.011275   \n",
       "\n",
       "                     Cost_of_the_Product  Prior_purchases  Discount_offered  \\\n",
       "Customer_care_calls             0.046959         0.137079         -0.140687   \n",
       "Customer_rating                -0.001961         0.005057         -0.016456   \n",
       "Cost_of_the_Product             1.000000         0.029920         -0.139349   \n",
       "Prior_purchases                 0.029920         1.000000         -0.075178   \n",
       "Discount_offered               -0.139349        -0.075178          1.000000   \n",
       "Reached.on.Time_Y.N            -0.012811        -0.057114          0.397393   \n",
       "\n",
       "                     Reached.on.Time_Y.N  \n",
       "Customer_care_calls            -0.062842  \n",
       "Customer_rating                 0.011275  \n",
       "Cost_of_the_Product            -0.012811  \n",
       "Prior_purchases                -0.057114  \n",
       "Discount_offered                0.397393  \n",
       "Reached.on.Time_Y.N             1.000000  "
      ]
     },
     "execution_count": 43,
     "metadata": {},
     "output_type": "execute_result"
    }
   ],
   "source": [
    "train.corr() #'Customer_rating'과 상관관계가 다 낮아서 유의미한 결과를 볼 수 없다."
   ]
  },
  {
   "cell_type": "code",
   "execution_count": 44,
   "metadata": {},
   "outputs": [],
   "source": [
    "#이상치가 2개뿐이라서 최빈값 3으로 바꿈\n",
    "train['Customer_rating']=train['Customer_rating'].replace(99,3)"
   ]
  },
  {
   "cell_type": "code",
   "execution_count": 45,
   "metadata": {},
   "outputs": [
    {
     "data": {
      "text/plain": [
       "3    1453\n",
       "2    1399\n",
       "5    1399\n",
       "1    1391\n",
       "4    1357\n",
       "Name: Customer_rating, dtype: int64"
      ]
     },
     "execution_count": 45,
     "metadata": {},
     "output_type": "execute_result"
    }
   ],
   "source": [
    "train['Customer_rating'].value_counts()"
   ]
  },
  {
   "cell_type": "code",
   "execution_count": 46,
   "metadata": {},
   "outputs": [
    {
     "data": {
      "text/plain": [
       "array([ 1,  4,  5,  2,  3, 99], dtype=int64)"
      ]
     },
     "execution_count": 46,
     "metadata": {},
     "output_type": "execute_result"
    }
   ],
   "source": [
    "test['Customer_rating'].unique()"
   ]
  },
  {
   "cell_type": "code",
   "execution_count": 47,
   "metadata": {},
   "outputs": [],
   "source": [
    "test['Customer_rating']=test['Customer_rating'].replace(99,3)"
   ]
  },
  {
   "cell_type": "code",
   "execution_count": 48,
   "metadata": {},
   "outputs": [
    {
     "data": {
      "text/plain": [
       "1    843\n",
       "4    831\n",
       "3    790\n",
       "5    772\n",
       "2    764\n",
       "Name: Customer_rating, dtype: int64"
      ]
     },
     "execution_count": 48,
     "metadata": {},
     "output_type": "execute_result"
    }
   ],
   "source": [
    "test['Customer_rating'].value_counts()"
   ]
  },
  {
   "cell_type": "code",
   "execution_count": 49,
   "metadata": {},
   "outputs": [
    {
     "data": {
      "text/plain": [
       "array([ 135,  225,  229,  228,  195,  171,  282,  161,  274,  222,  264,\n",
       "        196,  232,  194,  207,  146,  221,  134,  254,  160,  273,  142,\n",
       "        224,  253,  209,  247,  239,  215,  177,  189,  139,  184,  121,\n",
       "        133,  158,  286,  281,  261,  214,  180,  169,  280,  166,  172,\n",
       "        212,  246,  154,  203,  296,  185,  249,  269,  213,  263,  267,\n",
       "        164,  178,  268,  278,  141,  140,  241,  105,  197,  193,  231,\n",
       "        237,  305,  210,  138,  226,  151,  309,  255,  152,  186,  136,\n",
       "        244,  252,  111,  248, 9999,  202,  174,  272,  182,  181,  173,\n",
       "        242,  294,  198,  208,  301,  270,  130,  259,  236,  250,  223,\n",
       "        183,  148,  243,  262,  201,  199,  156,  145,  150,  132,  137,\n",
       "        276,  256,  290,  200,  258,  170,  227,  240,  157,  165,  175,\n",
       "        233,  289,  191,  277,  275,  190,  163,  266,  206,  217,  220,\n",
       "        219,  218,  187,  298,  162,  295,  234,  176,  245,  238,  143,\n",
       "        265,  112,  125,  128,  102,   97,  204,  211,  123,  307,  144,\n",
       "        271,  149,  159,  230,  257,  167,   98,  287,  192,  216,  205,\n",
       "        188,  103,  147,  104,  310,  304,  292,  179,  124,  260,  168,\n",
       "        109,  107,  235,  308,  114,  153,  300,  116,  279,  285,  291,\n",
       "        306,  251,  117,  115,  155,  126,  119,  101,  283,  110,  131,\n",
       "        113,  118,  284,  120,   96,  297,  303,  299,  100,  293,  288,\n",
       "        302,  127,   99,  129,  122,  108,  106], dtype=int64)"
      ]
     },
     "execution_count": 49,
     "metadata": {},
     "output_type": "execute_result"
    }
   ],
   "source": [
    "train['Cost_of_the_Product'].unique()"
   ]
  },
  {
   "cell_type": "code",
   "execution_count": 50,
   "metadata": {},
   "outputs": [
    {
     "data": {
      "text/plain": [
       "count    6999.000000\n",
       "mean      214.249178\n",
       "std       208.294273\n",
       "min        96.000000\n",
       "25%       169.000000\n",
       "50%       214.000000\n",
       "75%       251.000000\n",
       "max      9999.000000\n",
       "Name: Cost_of_the_Product, dtype: float64"
      ]
     },
     "execution_count": 50,
     "metadata": {},
     "output_type": "execute_result"
    }
   ],
   "source": [
    "train['Cost_of_the_Product'].describe()\n",
    "#9999 이상치발견"
   ]
  },
  {
   "cell_type": "code",
   "execution_count": 51,
   "metadata": {},
   "outputs": [
    {
     "data": {
      "text/plain": [
       "214.24917845406486"
      ]
     },
     "execution_count": 51,
     "metadata": {},
     "output_type": "execute_result"
    }
   ],
   "source": [
    "train['Cost_of_the_Product'].mean()"
   ]
  },
  {
   "cell_type": "code",
   "execution_count": 52,
   "metadata": {},
   "outputs": [],
   "source": [
    "#이상치 9999를 평균 214로 바꿔준다.\n",
    "train['Cost_of_the_Product']=train['Cost_of_the_Product'].replace(9999,214)"
   ]
  },
  {
   "cell_type": "code",
   "execution_count": 53,
   "metadata": {},
   "outputs": [
    {
     "data": {
      "text/plain": [
       "count    6999.000000\n",
       "mean      210.055008\n",
       "std        48.220091\n",
       "min        96.000000\n",
       "25%       169.000000\n",
       "50%       214.000000\n",
       "75%       251.000000\n",
       "max       310.000000\n",
       "Name: Cost_of_the_Product, dtype: float64"
      ]
     },
     "execution_count": 53,
     "metadata": {},
     "output_type": "execute_result"
    }
   ],
   "source": [
    "train['Cost_of_the_Product'].describe()"
   ]
  },
  {
   "cell_type": "code",
   "execution_count": 54,
   "metadata": {},
   "outputs": [
    {
     "data": {
      "text/plain": [
       "array([ 274,  136,  140,  291,  147,  221,  253,  244,  150,  175,  235,\n",
       "        257,  204,  211,  258,  210,  226,  290,  148,  225,  206,  205,\n",
       "        199,  247,  266,  133,  251,  220,  181,  209,  263,  152,  246,\n",
       "        260,  178,  151,  256,  267,  229,  180,  238,  160,  241,  166,\n",
       "        135,  167,  265,  149,  191,  216,  218,  170,  301,  208,  285,\n",
       "        134,  156,  174,  185,  264,  245,  154,  213,  292,  217,  192,\n",
       "        248,  270,  172,  142,  277,  255,  162,  139,  234,  239,  179,\n",
       "        164,  232,  202,  143,  233,  165,  262,  138,  294,  271,  117,\n",
       "        171,  252,  168,  173,  228,  254,  237,  144,  212,  289,  137,\n",
       "        190,  201,  222,  159,  231,  223,  198,  269,  243,  293,  224,\n",
       "        187,  115,  249,  193,  296,  189,  195, 9999,  275,  215,  242,\n",
       "         98,  203,  188,  153,  129,  176,  141,  236,  163,  169,  118,\n",
       "        119,  196,  250,  194,  182,  282,  184,  125,  286,  200,  273,\n",
       "        219,  278,  207,  268,  186,  230,  121,  106,  197,  108,  146,\n",
       "        177,  240,  158,  276,  309,  287,  227,  279,  272,  111,  155,\n",
       "        302,  283,  161,  261,  303,  130,  304,  306,  157,   97,  298,\n",
       "        259,  280,  124,  310,  214,  145,  288,  100,  132,  281,  113,\n",
       "        183,  284,  107,  116,  103,  101,  114,  295,  307,  122,  127,\n",
       "        308,  104,  300,   99,  123,  102,  297,  105,   96,  112,  128,\n",
       "        131,  126,  110,  120,  109,  305], dtype=int64)"
      ]
     },
     "execution_count": 54,
     "metadata": {},
     "output_type": "execute_result"
    }
   ],
   "source": [
    "test['Cost_of_the_Product'].unique()"
   ]
  },
  {
   "cell_type": "code",
   "execution_count": 55,
   "metadata": {},
   "outputs": [],
   "source": [
    "#이상치9999를 평균값214로 바꿔준다\n",
    "test['Cost_of_the_Product']=test['Cost_of_the_Product'].replace(9999,214)"
   ]
  },
  {
   "cell_type": "code",
   "execution_count": 56,
   "metadata": {},
   "outputs": [
    {
     "data": {
      "text/plain": [
       "array(['low', 'medium', 'high', '?', 'mediumm', 'loww', 'highh'],\n",
       "      dtype=object)"
      ]
     },
     "execution_count": 56,
     "metadata": {},
     "output_type": "execute_result"
    }
   ],
   "source": [
    "train['Product_importance'].unique()\n",
    "#?,mediumm,loww,highh 결측치와 이상치 발견"
   ]
  },
  {
   "cell_type": "code",
   "execution_count": 57,
   "metadata": {},
   "outputs": [
    {
     "data": {
      "text/plain": [
       "low        3344\n",
       "medium     2982\n",
       "high        573\n",
       "?            97\n",
       "loww          1\n",
       "highh         1\n",
       "mediumm       1\n",
       "Name: Product_importance, dtype: int64"
      ]
     },
     "execution_count": 57,
     "metadata": {},
     "output_type": "execute_result"
    }
   ],
   "source": [
    "train['Product_importance'].value_counts()"
   ]
  },
  {
   "cell_type": "code",
   "execution_count": 58,
   "metadata": {},
   "outputs": [],
   "source": [
    "#결측치?는 최빈값 low로 채워주고 \n",
    "# highh,mediumm,loww이상치들은 high,medium,low로 바꿔준다.\n",
    "train['Product_importance']=train['Product_importance'].replace('?','low')\n",
    "train['Product_importance']=train['Product_importance'].replace('highh','high')\n",
    "train['Product_importance']=train['Product_importance'].replace('mediumm','medium')\n",
    "train['Product_importance']=train['Product_importance'].replace('loww','low')"
   ]
  },
  {
   "cell_type": "code",
   "execution_count": 59,
   "metadata": {},
   "outputs": [
    {
     "data": {
      "text/plain": [
       "low       3442\n",
       "medium    2983\n",
       "high       574\n",
       "Name: Product_importance, dtype: int64"
      ]
     },
     "execution_count": 59,
     "metadata": {},
     "output_type": "execute_result"
    }
   ],
   "source": [
    "train['Product_importance'].value_counts()"
   ]
  },
  {
   "cell_type": "code",
   "execution_count": 60,
   "metadata": {},
   "outputs": [
    {
     "data": {
      "text/plain": [
       "array(['high', 'medium', 'low', '?', 'mediumm'], dtype=object)"
      ]
     },
     "execution_count": 60,
     "metadata": {},
     "output_type": "execute_result"
    }
   ],
   "source": [
    "test['Product_importance'].unique()"
   ]
  },
  {
   "cell_type": "code",
   "execution_count": 61,
   "metadata": {},
   "outputs": [],
   "source": [
    "#결측치?는 최빈값 low로 채워주고 \n",
    "# highh,mediumm,loww이상치들은 high,medium,low로 바꿔준다.\n",
    "test['Product_importance']=test['Product_importance'].replace('?','low')\n",
    "test['Product_importance']=test['Product_importance'].replace('highh','high')\n",
    "test['Product_importance']=test['Product_importance'].replace('mediumm','medium')\n",
    "test['Product_importance']=test['Product_importance'].replace('loww','low')"
   ]
  },
  {
   "cell_type": "code",
   "execution_count": 62,
   "metadata": {},
   "outputs": [
    {
     "data": {
      "text/plain": [
       "low       1953\n",
       "medium    1686\n",
       "high       361\n",
       "Name: Product_importance, dtype: int64"
      ]
     },
     "execution_count": 62,
     "metadata": {},
     "output_type": "execute_result"
    }
   ],
   "source": [
    "test['Product_importance'].value_counts()"
   ]
  },
  {
   "cell_type": "code",
   "execution_count": 63,
   "metadata": {},
   "outputs": [
    {
     "data": {
      "text/plain": [
       "array(['1339', '1082', '4971', ..., '4075', '2486', '1480'], dtype=object)"
      ]
     },
     "execution_count": 63,
     "metadata": {},
     "output_type": "execute_result"
    }
   ],
   "source": [
    "train['Weight_in_gms'].unique()"
   ]
  },
  {
   "cell_type": "code",
   "execution_count": 64,
   "metadata": {},
   "outputs": [
    {
     "data": {
      "text/plain": [
       "array(['4352', '1056', '5383', ..., '3255', '1206', '3869'], dtype=object)"
      ]
     },
     "execution_count": 64,
     "metadata": {},
     "output_type": "execute_result"
    }
   ],
   "source": [
    "test['Weight_in_gms'].unique()"
   ]
  },
  {
   "cell_type": "code",
   "execution_count": 65,
   "metadata": {},
   "outputs": [
    {
     "data": {
      "text/plain": [
       "count     6999\n",
       "unique    3332\n",
       "top          ?\n",
       "freq       446\n",
       "Name: Weight_in_gms, dtype: object"
      ]
     },
     "execution_count": 65,
     "metadata": {},
     "output_type": "execute_result"
    }
   ],
   "source": [
    "train['Weight_in_gms'].describe()\n",
    "#top 최빈값 ?"
   ]
  },
  {
   "cell_type": "code",
   "execution_count": 66,
   "metadata": {
    "scrolled": true
   },
   "outputs": [
    {
     "data": {
      "text/plain": [
       "?       446\n",
       "1367      8\n",
       "1817      8\n",
       "5208      7\n",
       "4195      7\n",
       "       ... \n",
       "5518      1\n",
       "3124      1\n",
       "4290      1\n",
       "1271      1\n",
       "1316      1\n",
       "Name: Weight_in_gms, Length: 3332, dtype: int64"
      ]
     },
     "execution_count": 66,
     "metadata": {},
     "output_type": "execute_result"
    }
   ],
   "source": [
    "train['Weight_in_gms'].value_counts()\n",
    "# 결측치 ? 발견"
   ]
  },
  {
   "cell_type": "code",
   "execution_count": 67,
   "metadata": {},
   "outputs": [],
   "source": [
    "# test['Weight_in_gms'].value_counts()"
   ]
  },
  {
   "cell_type": "code",
   "execution_count": 68,
   "metadata": {},
   "outputs": [
    {
     "name": "stdout",
     "output_type": "stream",
     "text": [
      "<class 'pandas.core.frame.DataFrame'>\n",
      "Int64Index: 6999 entries, 1 to 6999\n",
      "Data columns (total 11 columns):\n",
      " #   Column               Non-Null Count  Dtype  \n",
      "---  ------               --------------  -----  \n",
      " 0   Warehouse_block      6999 non-null   object \n",
      " 1   Mode_of_Shipment     6999 non-null   object \n",
      " 2   Customer_care_calls  6999 non-null   float64\n",
      " 3   Customer_rating      6999 non-null   int64  \n",
      " 4   Cost_of_the_Product  6999 non-null   int64  \n",
      " 5   Prior_purchases      6999 non-null   float64\n",
      " 6   Product_importance   6999 non-null   object \n",
      " 7   Gender               6999 non-null   object \n",
      " 8   Discount_offered     3468 non-null   float64\n",
      " 9   Weight_in_gms        6999 non-null   object \n",
      " 10  Reached.on.Time_Y.N  6999 non-null   int64  \n",
      "dtypes: float64(3), int64(3), object(5)\n",
      "memory usage: 656.2+ KB\n"
     ]
    }
   ],
   "source": [
    "train.info()"
   ]
  },
  {
   "cell_type": "code",
   "execution_count": 69,
   "metadata": {},
   "outputs": [
    {
     "data": {
      "text/html": [
       "<div>\n",
       "<style scoped>\n",
       "    .dataframe tbody tr th:only-of-type {\n",
       "        vertical-align: middle;\n",
       "    }\n",
       "\n",
       "    .dataframe tbody tr th {\n",
       "        vertical-align: top;\n",
       "    }\n",
       "\n",
       "    .dataframe thead th {\n",
       "        text-align: right;\n",
       "    }\n",
       "</style>\n",
       "<table border=\"1\" class=\"dataframe\">\n",
       "  <thead>\n",
       "    <tr style=\"text-align: right;\">\n",
       "      <th></th>\n",
       "      <th>Customer_care_calls</th>\n",
       "      <th>Customer_rating</th>\n",
       "      <th>Cost_of_the_Product</th>\n",
       "      <th>Prior_purchases</th>\n",
       "      <th>Discount_offered</th>\n",
       "      <th>Reached.on.Time_Y.N</th>\n",
       "    </tr>\n",
       "  </thead>\n",
       "  <tbody>\n",
       "    <tr>\n",
       "      <th>Customer_care_calls</th>\n",
       "      <td>1.000000</td>\n",
       "      <td>0.010797</td>\n",
       "      <td>0.293898</td>\n",
       "      <td>0.137079</td>\n",
       "      <td>-0.140687</td>\n",
       "      <td>-0.062842</td>\n",
       "    </tr>\n",
       "    <tr>\n",
       "      <th>Customer_rating</th>\n",
       "      <td>0.010797</td>\n",
       "      <td>1.000000</td>\n",
       "      <td>0.006108</td>\n",
       "      <td>0.014454</td>\n",
       "      <td>-0.016456</td>\n",
       "      <td>0.001127</td>\n",
       "    </tr>\n",
       "    <tr>\n",
       "      <th>Cost_of_the_Product</th>\n",
       "      <td>0.293898</td>\n",
       "      <td>0.006108</td>\n",
       "      <td>1.000000</td>\n",
       "      <td>0.119035</td>\n",
       "      <td>-0.139349</td>\n",
       "      <td>-0.068100</td>\n",
       "    </tr>\n",
       "    <tr>\n",
       "      <th>Prior_purchases</th>\n",
       "      <td>0.137079</td>\n",
       "      <td>0.014454</td>\n",
       "      <td>0.119035</td>\n",
       "      <td>1.000000</td>\n",
       "      <td>-0.075178</td>\n",
       "      <td>-0.057114</td>\n",
       "    </tr>\n",
       "    <tr>\n",
       "      <th>Discount_offered</th>\n",
       "      <td>-0.140687</td>\n",
       "      <td>-0.016456</td>\n",
       "      <td>-0.139349</td>\n",
       "      <td>-0.075178</td>\n",
       "      <td>1.000000</td>\n",
       "      <td>0.397393</td>\n",
       "    </tr>\n",
       "    <tr>\n",
       "      <th>Reached.on.Time_Y.N</th>\n",
       "      <td>-0.062842</td>\n",
       "      <td>0.001127</td>\n",
       "      <td>-0.068100</td>\n",
       "      <td>-0.057114</td>\n",
       "      <td>0.397393</td>\n",
       "      <td>1.000000</td>\n",
       "    </tr>\n",
       "  </tbody>\n",
       "</table>\n",
       "</div>"
      ],
      "text/plain": [
       "                     Customer_care_calls  Customer_rating  \\\n",
       "Customer_care_calls             1.000000         0.010797   \n",
       "Customer_rating                 0.010797         1.000000   \n",
       "Cost_of_the_Product             0.293898         0.006108   \n",
       "Prior_purchases                 0.137079         0.014454   \n",
       "Discount_offered               -0.140687        -0.016456   \n",
       "Reached.on.Time_Y.N            -0.062842         0.001127   \n",
       "\n",
       "                     Cost_of_the_Product  Prior_purchases  Discount_offered  \\\n",
       "Customer_care_calls             0.293898         0.137079         -0.140687   \n",
       "Customer_rating                 0.006108         0.014454         -0.016456   \n",
       "Cost_of_the_Product             1.000000         0.119035         -0.139349   \n",
       "Prior_purchases                 0.119035         1.000000         -0.075178   \n",
       "Discount_offered               -0.139349        -0.075178          1.000000   \n",
       "Reached.on.Time_Y.N            -0.068100        -0.057114          0.397393   \n",
       "\n",
       "                     Reached.on.Time_Y.N  \n",
       "Customer_care_calls            -0.062842  \n",
       "Customer_rating                 0.001127  \n",
       "Cost_of_the_Product            -0.068100  \n",
       "Prior_purchases                -0.057114  \n",
       "Discount_offered                0.397393  \n",
       "Reached.on.Time_Y.N             1.000000  "
      ]
     },
     "execution_count": 69,
     "metadata": {},
     "output_type": "execute_result"
    }
   ],
   "source": [
    "train.corr()"
   ]
  },
  {
   "cell_type": "code",
   "execution_count": 70,
   "metadata": {},
   "outputs": [
    {
     "data": {
      "text/plain": [
       "array([nan,  6.,  2.,  9.,  3., 34.,  7.,  1., 53.,  8., 63.,  4., 43.,\n",
       "       60., 51.,  5., 10., 55., 17., 62., 15., 23., 38., 32., 39., 29.,\n",
       "       45., 14., 52., 41., 58., 11., 50., 35., 28., 31., 24., 64., 61.,\n",
       "       48., 65., 40., 18., 22., 56., 49., 21., 27., 20., 13., 30., 26.,\n",
       "       54., 16., 57., 47., 42., 36., 37., 46., 19., 12., 25., 44., 33.,\n",
       "       59.])"
      ]
     },
     "execution_count": 70,
     "metadata": {},
     "output_type": "execute_result"
    }
   ],
   "source": [
    "train['Discount_offered'].unique()"
   ]
  },
  {
   "cell_type": "code",
   "execution_count": 71,
   "metadata": {},
   "outputs": [
    {
     "data": {
      "text/plain": [
       "array([nan,  6.,  2.,  9.,  3., 34.,  7.,  1., 53.,  8., 63.,  4., 43.,\n",
       "       60., 51.,  5., 10., 55., 17., 62., 15., 23., 38., 32., 39., 29.,\n",
       "       45., 14., 52., 41., 58., 11., 50., 35., 28., 31., 24., 64., 61.,\n",
       "       48., 65., 40., 18., 22., 56., 49., 21., 27., 20., 13., 30., 26.,\n",
       "       54., 16., 57., 47., 42., 36., 37., 46., 19., 12., 25., 44., 33.,\n",
       "       59.])"
      ]
     },
     "execution_count": 71,
     "metadata": {},
     "output_type": "execute_result"
    }
   ],
   "source": [
    "train['Discount_offered'].unique()"
   ]
  },
  {
   "cell_type": "code",
   "execution_count": 72,
   "metadata": {},
   "outputs": [],
   "source": [
    "#특정제품에 제공되는 활인율에 결측치를 \n",
    "#활인이 안된 상품으로 가정해서 \n",
    "#결측치에 0을 넣겠다.\n",
    "train['Discount_offered']=train['Discount_offered'].fillna(0)"
   ]
  },
  {
   "cell_type": "code",
   "execution_count": 73,
   "metadata": {},
   "outputs": [
    {
     "data": {
      "text/plain": [
       "0.0     3531\n",
       "9.0      287\n",
       "10.0     278\n",
       "2.0      278\n",
       "3.0      277\n",
       "        ... \n",
       "50.0      10\n",
       "18.0      10\n",
       "42.0       9\n",
       "26.0       8\n",
       "43.0       7\n",
       "Name: Discount_offered, Length: 66, dtype: int64"
      ]
     },
     "execution_count": 73,
     "metadata": {},
     "output_type": "execute_result"
    }
   ],
   "source": [
    "train['Discount_offered'].value_counts()"
   ]
  },
  {
   "cell_type": "code",
   "execution_count": 74,
   "metadata": {},
   "outputs": [],
   "source": [
    "test['Discount_offered']=test['Discount_offered'].fillna(0)"
   ]
  },
  {
   "cell_type": "code",
   "execution_count": 75,
   "metadata": {},
   "outputs": [
    {
     "data": {
      "text/plain": [
       "0.0     1915\n",
       "3.0      171\n",
       "7.0      170\n",
       "5.0      169\n",
       "6.0      166\n",
       "        ... \n",
       "58.0       4\n",
       "30.0       4\n",
       "55.0       4\n",
       "34.0       3\n",
       "65.0       2\n",
       "Name: Discount_offered, Length: 66, dtype: int64"
      ]
     },
     "execution_count": 75,
     "metadata": {},
     "output_type": "execute_result"
    }
   ],
   "source": [
    "test['Discount_offered'].value_counts()"
   ]
  },
  {
   "cell_type": "code",
   "execution_count": 76,
   "metadata": {},
   "outputs": [
    {
     "data": {
      "text/plain": [
       "array([ 3.,  5.,  6.,  4., 10.,  2.,  7.,  8.])"
      ]
     },
     "execution_count": 76,
     "metadata": {},
     "output_type": "execute_result"
    }
   ],
   "source": [
    "train['Prior_purchases'].unique()"
   ]
  },
  {
   "cell_type": "code",
   "execution_count": 77,
   "metadata": {},
   "outputs": [
    {
     "data": {
      "text/html": [
       "<div>\n",
       "<style scoped>\n",
       "    .dataframe tbody tr th:only-of-type {\n",
       "        vertical-align: middle;\n",
       "    }\n",
       "\n",
       "    .dataframe tbody tr th {\n",
       "        vertical-align: top;\n",
       "    }\n",
       "\n",
       "    .dataframe thead th {\n",
       "        text-align: right;\n",
       "    }\n",
       "</style>\n",
       "<table border=\"1\" class=\"dataframe\">\n",
       "  <thead>\n",
       "    <tr style=\"text-align: right;\">\n",
       "      <th></th>\n",
       "      <th>Customer_care_calls</th>\n",
       "      <th>Customer_rating</th>\n",
       "      <th>Cost_of_the_Product</th>\n",
       "      <th>Prior_purchases</th>\n",
       "      <th>Discount_offered</th>\n",
       "      <th>Reached.on.Time_Y.N</th>\n",
       "    </tr>\n",
       "  </thead>\n",
       "  <tbody>\n",
       "    <tr>\n",
       "      <th>count</th>\n",
       "      <td>6999.000000</td>\n",
       "      <td>6999.000000</td>\n",
       "      <td>6999.000000</td>\n",
       "      <td>6999.000000</td>\n",
       "      <td>6999.000000</td>\n",
       "      <td>6999.000000</td>\n",
       "    </tr>\n",
       "    <tr>\n",
       "      <th>mean</th>\n",
       "      <td>4.042292</td>\n",
       "      <td>2.996285</td>\n",
       "      <td>210.055008</td>\n",
       "      <td>3.498071</td>\n",
       "      <td>6.574796</td>\n",
       "      <td>0.594656</td>\n",
       "    </tr>\n",
       "    <tr>\n",
       "      <th>std</th>\n",
       "      <td>0.995810</td>\n",
       "      <td>1.410161</td>\n",
       "      <td>48.220091</td>\n",
       "      <td>1.436854</td>\n",
       "      <td>13.113507</td>\n",
       "      <td>0.490993</td>\n",
       "    </tr>\n",
       "    <tr>\n",
       "      <th>min</th>\n",
       "      <td>2.000000</td>\n",
       "      <td>1.000000</td>\n",
       "      <td>96.000000</td>\n",
       "      <td>2.000000</td>\n",
       "      <td>0.000000</td>\n",
       "      <td>0.000000</td>\n",
       "    </tr>\n",
       "    <tr>\n",
       "      <th>25%</th>\n",
       "      <td>3.000000</td>\n",
       "      <td>2.000000</td>\n",
       "      <td>169.000000</td>\n",
       "      <td>3.000000</td>\n",
       "      <td>0.000000</td>\n",
       "      <td>0.000000</td>\n",
       "    </tr>\n",
       "    <tr>\n",
       "      <th>50%</th>\n",
       "      <td>4.000000</td>\n",
       "      <td>3.000000</td>\n",
       "      <td>214.000000</td>\n",
       "      <td>3.000000</td>\n",
       "      <td>0.000000</td>\n",
       "      <td>1.000000</td>\n",
       "    </tr>\n",
       "    <tr>\n",
       "      <th>75%</th>\n",
       "      <td>5.000000</td>\n",
       "      <td>4.000000</td>\n",
       "      <td>251.000000</td>\n",
       "      <td>4.000000</td>\n",
       "      <td>7.000000</td>\n",
       "      <td>1.000000</td>\n",
       "    </tr>\n",
       "    <tr>\n",
       "      <th>max</th>\n",
       "      <td>7.000000</td>\n",
       "      <td>5.000000</td>\n",
       "      <td>310.000000</td>\n",
       "      <td>10.000000</td>\n",
       "      <td>65.000000</td>\n",
       "      <td>1.000000</td>\n",
       "    </tr>\n",
       "  </tbody>\n",
       "</table>\n",
       "</div>"
      ],
      "text/plain": [
       "       Customer_care_calls  Customer_rating  Cost_of_the_Product  \\\n",
       "count          6999.000000      6999.000000          6999.000000   \n",
       "mean              4.042292         2.996285           210.055008   \n",
       "std               0.995810         1.410161            48.220091   \n",
       "min               2.000000         1.000000            96.000000   \n",
       "25%               3.000000         2.000000           169.000000   \n",
       "50%               4.000000         3.000000           214.000000   \n",
       "75%               5.000000         4.000000           251.000000   \n",
       "max               7.000000         5.000000           310.000000   \n",
       "\n",
       "       Prior_purchases  Discount_offered  Reached.on.Time_Y.N  \n",
       "count      6999.000000       6999.000000          6999.000000  \n",
       "mean          3.498071          6.574796             0.594656  \n",
       "std           1.436854         13.113507             0.490993  \n",
       "min           2.000000          0.000000             0.000000  \n",
       "25%           3.000000          0.000000             0.000000  \n",
       "50%           3.000000          0.000000             1.000000  \n",
       "75%           4.000000          7.000000             1.000000  \n",
       "max          10.000000         65.000000             1.000000  "
      ]
     },
     "execution_count": 77,
     "metadata": {},
     "output_type": "execute_result"
    }
   ],
   "source": [
    "train.describe()"
   ]
  },
  {
   "cell_type": "code",
   "execution_count": 78,
   "metadata": {},
   "outputs": [
    {
     "data": {
      "text/html": [
       "<div>\n",
       "<style scoped>\n",
       "    .dataframe tbody tr th:only-of-type {\n",
       "        vertical-align: middle;\n",
       "    }\n",
       "\n",
       "    .dataframe tbody tr th {\n",
       "        vertical-align: top;\n",
       "    }\n",
       "\n",
       "    .dataframe thead th {\n",
       "        text-align: right;\n",
       "    }\n",
       "</style>\n",
       "<table border=\"1\" class=\"dataframe\">\n",
       "  <thead>\n",
       "    <tr style=\"text-align: right;\">\n",
       "      <th></th>\n",
       "      <th>Customer_care_calls</th>\n",
       "      <th>Customer_rating</th>\n",
       "      <th>Cost_of_the_Product</th>\n",
       "      <th>Prior_purchases</th>\n",
       "      <th>Discount_offered</th>\n",
       "      <th>Reached.on.Time_Y.N</th>\n",
       "    </tr>\n",
       "  </thead>\n",
       "  <tbody>\n",
       "    <tr>\n",
       "      <th>Customer_care_calls</th>\n",
       "      <td>1.000000</td>\n",
       "      <td>0.010797</td>\n",
       "      <td>0.293898</td>\n",
       "      <td>0.137079</td>\n",
       "      <td>-0.093246</td>\n",
       "      <td>-0.062842</td>\n",
       "    </tr>\n",
       "    <tr>\n",
       "      <th>Customer_rating</th>\n",
       "      <td>0.010797</td>\n",
       "      <td>1.000000</td>\n",
       "      <td>0.006108</td>\n",
       "      <td>0.014454</td>\n",
       "      <td>-0.010548</td>\n",
       "      <td>0.001127</td>\n",
       "    </tr>\n",
       "    <tr>\n",
       "      <th>Cost_of_the_Product</th>\n",
       "      <td>0.293898</td>\n",
       "      <td>0.006108</td>\n",
       "      <td>1.000000</td>\n",
       "      <td>0.119035</td>\n",
       "      <td>-0.080011</td>\n",
       "      <td>-0.068100</td>\n",
       "    </tr>\n",
       "    <tr>\n",
       "      <th>Prior_purchases</th>\n",
       "      <td>0.137079</td>\n",
       "      <td>0.014454</td>\n",
       "      <td>0.119035</td>\n",
       "      <td>1.000000</td>\n",
       "      <td>-0.045471</td>\n",
       "      <td>-0.057114</td>\n",
       "    </tr>\n",
       "    <tr>\n",
       "      <th>Discount_offered</th>\n",
       "      <td>-0.093246</td>\n",
       "      <td>-0.010548</td>\n",
       "      <td>-0.080011</td>\n",
       "      <td>-0.045471</td>\n",
       "      <td>1.000000</td>\n",
       "      <td>0.242017</td>\n",
       "    </tr>\n",
       "    <tr>\n",
       "      <th>Reached.on.Time_Y.N</th>\n",
       "      <td>-0.062842</td>\n",
       "      <td>0.001127</td>\n",
       "      <td>-0.068100</td>\n",
       "      <td>-0.057114</td>\n",
       "      <td>0.242017</td>\n",
       "      <td>1.000000</td>\n",
       "    </tr>\n",
       "  </tbody>\n",
       "</table>\n",
       "</div>"
      ],
      "text/plain": [
       "                     Customer_care_calls  Customer_rating  \\\n",
       "Customer_care_calls             1.000000         0.010797   \n",
       "Customer_rating                 0.010797         1.000000   \n",
       "Cost_of_the_Product             0.293898         0.006108   \n",
       "Prior_purchases                 0.137079         0.014454   \n",
       "Discount_offered               -0.093246        -0.010548   \n",
       "Reached.on.Time_Y.N            -0.062842         0.001127   \n",
       "\n",
       "                     Cost_of_the_Product  Prior_purchases  Discount_offered  \\\n",
       "Customer_care_calls             0.293898         0.137079         -0.093246   \n",
       "Customer_rating                 0.006108         0.014454         -0.010548   \n",
       "Cost_of_the_Product             1.000000         0.119035         -0.080011   \n",
       "Prior_purchases                 0.119035         1.000000         -0.045471   \n",
       "Discount_offered               -0.080011        -0.045471          1.000000   \n",
       "Reached.on.Time_Y.N            -0.068100        -0.057114          0.242017   \n",
       "\n",
       "                     Reached.on.Time_Y.N  \n",
       "Customer_care_calls            -0.062842  \n",
       "Customer_rating                 0.001127  \n",
       "Cost_of_the_Product            -0.068100  \n",
       "Prior_purchases                -0.057114  \n",
       "Discount_offered                0.242017  \n",
       "Reached.on.Time_Y.N             1.000000  "
      ]
     },
     "execution_count": 78,
     "metadata": {},
     "output_type": "execute_result"
    }
   ],
   "source": [
    "train.corr()"
   ]
  },
  {
   "cell_type": "code",
   "execution_count": 79,
   "metadata": {},
   "outputs": [
    {
     "name": "stdout",
     "output_type": "stream",
     "text": [
      "<class 'pandas.core.frame.DataFrame'>\n",
      "Int64Index: 6999 entries, 1 to 6999\n",
      "Data columns (total 11 columns):\n",
      " #   Column               Non-Null Count  Dtype  \n",
      "---  ------               --------------  -----  \n",
      " 0   Warehouse_block      6999 non-null   object \n",
      " 1   Mode_of_Shipment     6999 non-null   object \n",
      " 2   Customer_care_calls  6999 non-null   float64\n",
      " 3   Customer_rating      6999 non-null   int64  \n",
      " 4   Cost_of_the_Product  6999 non-null   int64  \n",
      " 5   Prior_purchases      6999 non-null   float64\n",
      " 6   Product_importance   6999 non-null   object \n",
      " 7   Gender               6999 non-null   object \n",
      " 8   Discount_offered     6999 non-null   float64\n",
      " 9   Weight_in_gms        6999 non-null   object \n",
      " 10  Reached.on.Time_Y.N  6999 non-null   int64  \n",
      "dtypes: float64(3), int64(3), object(5)\n",
      "memory usage: 656.2+ KB\n"
     ]
    }
   ],
   "source": [
    "train.info()"
   ]
  },
  {
   "cell_type": "markdown",
   "metadata": {},
   "source": [
    "# 4.탐색적 데이터 분석(EDA)\n",
    "- 시각화를 통해서 컬럼을 분석"
   ]
  },
  {
   "cell_type": "code",
   "execution_count": 80,
   "metadata": {},
   "outputs": [],
   "source": [
    "#물품이 중요할 수록 정시도착을 한다는 가설\n",
    "#운송수단에 따라서 정시도착을 한다는 가설\n",
    "#활인율에 따라서 정시도착한다는 가설"
   ]
  },
  {
   "cell_type": "code",
   "execution_count": 81,
   "metadata": {},
   "outputs": [
    {
     "data": {
      "text/plain": [
       "<AxesSubplot:xlabel='Mode_of_Shipment', ylabel='count'>"
      ]
     },
     "execution_count": 81,
     "metadata": {},
     "output_type": "execute_result"
    },
    {
     "data": {
      "image/png": "[encoded data removed]",
      "text/plain": [
       "<Figure size 432x288 with 1 Axes>"
      ]
     },
     "metadata": {
      "needs_background": "light"
     },
     "output_type": "display_data"
    }
   ],
   "source": [
    "sns.countplot(data=train,\n",
    "             x='Mode_of_Shipment',\n",
    "             hue='Reached.on.Time_Y.N')"
   ]
  },
  {
   "cell_type": "code",
   "execution_count": 82,
   "metadata": {},
   "outputs": [],
   "source": [
    "#1은 정시에 도달하지 않음 0은 정시에 도달함을 예측한 것이다.\n",
    "#운송수단 전부다 정시에 도착하지 않았다는 것을 볼 수 있다."
   ]
  },
  {
   "cell_type": "code",
   "execution_count": 83,
   "metadata": {},
   "outputs": [
    {
     "data": {
      "text/plain": [
       "<AxesSubplot:xlabel='Product_importance', ylabel='count'>"
      ]
     },
     "execution_count": 83,
     "metadata": {},
     "output_type": "execute_result"
    },
    {
     "data": {
      "image/png": "[encoded data removed]",
      "text/plain": [
       "<Figure size 432x288 with 1 Axes>"
      ]
     },
     "metadata": {
      "needs_background": "light"
     },
     "output_type": "display_data"
    }
   ],
   "source": [
    "sns.countplot(data=train,\n",
    "             x='Product_importance',\n",
    "             hue='Reached.on.Time_Y.N')"
   ]
  },
  {
   "cell_type": "code",
   "execution_count": 84,
   "metadata": {},
   "outputs": [],
   "source": [
    "#물품중요도와는 상관없이 정시에 도착하지 않았다는 것을 볼 수 있다."
   ]
  },
  {
   "cell_type": "code",
   "execution_count": 85,
   "metadata": {},
   "outputs": [],
   "source": [
    "#활인율을 범주형으로 만들자\n",
    "#0 : 활인적용x zero\n",
    "#1~20: 낮은 활인적용 low\n",
    "#21~40: 중간활인적용 mid\n",
    "#41~65: 높은 활인적용 high\n",
    "#pd.cut - 카테고리 데이터를 범주형으로 만드는 작업\n",
    "# bins = [-1,0,20,40,65] # 범주형의 범위 지정(초과,이하)\n",
    "# labels = ['zero','low','mid','high'] #범주형에 달아줄 이름\n",
    "# train['Discount_offered']=pd.cut(train['Discount_offered'],bins = bins,labels=labels)"
   ]
  },
  {
   "cell_type": "code",
   "execution_count": 86,
   "metadata": {},
   "outputs": [],
   "source": [
    "# train['Discount_offered'].unique()"
   ]
  },
  {
   "cell_type": "code",
   "execution_count": 87,
   "metadata": {},
   "outputs": [],
   "source": [
    "# train['Discount_offered'].value_counts()"
   ]
  },
  {
   "cell_type": "code",
   "execution_count": 88,
   "metadata": {},
   "outputs": [],
   "source": [
    "# bol = train['Discount_offered'] is Nan"
   ]
  },
  {
   "cell_type": "code",
   "execution_count": 89,
   "metadata": {},
   "outputs": [],
   "source": [
    "# train['Discount_offered'].replace('NaN', 0, inplace=True)\n",
    "# train['Discount_offered']"
   ]
  },
  {
   "cell_type": "code",
   "execution_count": 90,
   "metadata": {},
   "outputs": [],
   "source": [
    "# train['Discount_offered'][3] == 'NaN'"
   ]
  },
  {
   "cell_type": "code",
   "execution_count": 91,
   "metadata": {
    "scrolled": true
   },
   "outputs": [],
   "source": [
    "# sns.countplot(data=train,x='Discount_offered',hue='Reached.on.Time_Y.N')"
   ]
  },
  {
   "cell_type": "code",
   "execution_count": 92,
   "metadata": {},
   "outputs": [],
   "source": [
    "# bins = [-1,0,20,40,65] # 범주형의 범위 지정(초과,이하)\n",
    "# labels = ['zero','low','mid','high'] #범주형에 달아줄 이름\n",
    "# test['Discount_offered']=pd.cut(test['Discount_offered'],bins = bins,labels=labels)"
   ]
  },
  {
   "cell_type": "code",
   "execution_count": 93,
   "metadata": {},
   "outputs": [],
   "source": [
    "#1~10까지 낮은 활인을 적용받은 상품이 많고 \n",
    "#zero일때 정시도착을 한다."
   ]
  },
  {
   "cell_type": "code",
   "execution_count": 94,
   "metadata": {},
   "outputs": [],
   "source": [
    "# train['Cost_of_the_Product'].describe()"
   ]
  },
  {
   "cell_type": "code",
   "execution_count": 95,
   "metadata": {},
   "outputs": [],
   "source": [
    "\n",
    "# pd.cut - 카테고리 데이터를 범주형으로 만드는 작업\n",
    "# bins = [95,169,214,251] # 범주형의 범위 지정(초과,이하)\n",
    "# labels = ['25%','50%','75%'] #범주형에 달아줄 이름\n",
    "# train['Cost_of_the_Product']=pd.cut(train['Cost_of_the_Product'],bins = bins,labels=labels)"
   ]
  },
  {
   "cell_type": "code",
   "execution_count": 96,
   "metadata": {},
   "outputs": [],
   "source": [
    "# sns.countplot(data=train,x='Cost_of_the_Product',hue='Reached.on.Time_Y.N')"
   ]
  },
  {
   "cell_type": "code",
   "execution_count": 97,
   "metadata": {},
   "outputs": [],
   "source": [
    "# bins = [95,169,214,251] # 범주형의 범위 지정(초과,이하)\n",
    "# labels = ['25%','50%','75%'] #범주형에 달아줄 이름\n",
    "# test['Cost_of_the_Product']=pd.cut(test['Cost_of_the_Product'],bins = bins,labels=labels)"
   ]
  },
  {
   "cell_type": "code",
   "execution_count": 98,
   "metadata": {},
   "outputs": [],
   "source": [
    "#가격에 따른 정시도착과의 연관성을 못찾았다."
   ]
  },
  {
   "cell_type": "code",
   "execution_count": 99,
   "metadata": {},
   "outputs": [],
   "source": [
    "#Weight_in_gms삭제\n",
    "#유의미한 결과를 출력하기 힘들것이라고 판단해서\n",
    "train.drop('Weight_in_gms',axis=1,inplace=True)\n",
    "test.drop('Weight_in_gms',axis=1,inplace=True)"
   ]
  },
  {
   "cell_type": "code",
   "execution_count": 100,
   "metadata": {},
   "outputs": [
    {
     "data": {
      "text/plain": [
       "Index(['Warehouse_block ', 'Mode_of_Shipment', 'Customer_care_calls',\n",
       "       'Customer_rating', 'Cost_of_the_Product', 'Prior_purchases',\n",
       "       'Product_importance', 'Gender', 'Discount_offered',\n",
       "       'Reached.on.Time_Y.N'],\n",
       "      dtype='object')"
      ]
     },
     "execution_count": 100,
     "metadata": {},
     "output_type": "execute_result"
    }
   ],
   "source": [
    "train.columns"
   ]
  },
  {
   "cell_type": "code",
   "execution_count": 101,
   "metadata": {},
   "outputs": [
    {
     "name": "stdout",
     "output_type": "stream",
     "text": [
      "<class 'pandas.core.frame.DataFrame'>\n",
      "Int64Index: 6999 entries, 1 to 6999\n",
      "Data columns (total 10 columns):\n",
      " #   Column               Non-Null Count  Dtype  \n",
      "---  ------               --------------  -----  \n",
      " 0   Warehouse_block      6999 non-null   object \n",
      " 1   Mode_of_Shipment     6999 non-null   object \n",
      " 2   Customer_care_calls  6999 non-null   float64\n",
      " 3   Customer_rating      6999 non-null   int64  \n",
      " 4   Cost_of_the_Product  6999 non-null   int64  \n",
      " 5   Prior_purchases      6999 non-null   float64\n",
      " 6   Product_importance   6999 non-null   object \n",
      " 7   Gender               6999 non-null   object \n",
      " 8   Discount_offered     6999 non-null   float64\n",
      " 9   Reached.on.Time_Y.N  6999 non-null   int64  \n",
      "dtypes: float64(3), int64(3), object(4)\n",
      "memory usage: 921.5+ KB\n"
     ]
    }
   ],
   "source": [
    "#one-hot 인코딩\n",
    "#수치가 아닌 컬럼들만 원핫인코딩진행해준다.\n",
    "train.info()"
   ]
  },
  {
   "cell_type": "code",
   "execution_count": 102,
   "metadata": {},
   "outputs": [
    {
     "data": {
      "text/plain": [
       "Index(['Warehouse_block ', 'Mode_of_Shipment', 'Customer_care_calls',\n",
       "       'Customer_rating', 'Cost_of_the_Product', 'Prior_purchases',\n",
       "       'Product_importance', 'Gender', 'Discount_offered',\n",
       "       'Reached.on.Time_Y.N'],\n",
       "      dtype='object')"
      ]
     },
     "execution_count": 102,
     "metadata": {},
     "output_type": "execute_result"
    }
   ],
   "source": [
    "train.columns"
   ]
  },
  {
   "cell_type": "code",
   "execution_count": 103,
   "metadata": {},
   "outputs": [],
   "source": [
    "onehot_columns=['Warehouse_block ','Mode_of_Shipment','Product_importance','Gender']"
   ]
  },
  {
   "cell_type": "code",
   "execution_count": 104,
   "metadata": {},
   "outputs": [],
   "source": [
    "for col in onehot_columns:\n",
    "    dummy = pd.get_dummies(train[col],prefix=col)\n",
    "    train = pd.concat([train,dummy],axis=1)\n",
    "    train.drop(col,axis=1,inplace=True)"
   ]
  },
  {
   "cell_type": "code",
   "execution_count": 105,
   "metadata": {},
   "outputs": [],
   "source": [
    "for col in onehot_columns:\n",
    "     dummy = pd.get_dummies(test[col],prefix=col)\n",
    "     test = pd.concat([test,dummy],axis=1)\n",
    "     test.drop(col,axis=1,inplace=True)"
   ]
  },
  {
   "cell_type": "code",
   "execution_count": 106,
   "metadata": {},
   "outputs": [
    {
     "name": "stdout",
     "output_type": "stream",
     "text": [
      "(6999, 19)\n",
      "(4000, 18)\n"
     ]
    }
   ],
   "source": [
    "print(train.shape)\n",
    "print(test.shape)"
   ]
  },
  {
   "cell_type": "code",
   "execution_count": 107,
   "metadata": {
    "scrolled": true
   },
   "outputs": [
    {
     "data": {
      "text/plain": [
       "{'Reached.on.Time_Y.N'}"
      ]
     },
     "execution_count": 107,
     "metadata": {},
     "output_type": "execute_result"
    }
   ],
   "source": [
    "#train에는 있고 test에는 없는것\n",
    "set(train.columns)-set(test.columns)"
   ]
  },
  {
   "cell_type": "code",
   "execution_count": 108,
   "metadata": {},
   "outputs": [
    {
     "data": {
      "text/plain": [
       "set()"
      ]
     },
     "execution_count": 108,
     "metadata": {},
     "output_type": "execute_result"
    }
   ],
   "source": [
    "#test에는 있고 train에는 없는 것\n",
    "set(test.columns)-set(train.columns)"
   ]
  },
  {
   "cell_type": "markdown",
   "metadata": {},
   "source": [
    "# 5.모델선택 및 하이퍼파라미터 튜닝"
   ]
  },
  {
   "cell_type": "code",
   "execution_count": 109,
   "metadata": {},
   "outputs": [],
   "source": [
    "# 훈련 / 평가 데이터를 -train, test\n",
    "# 문제와 정답으로 분리 -ㅌX,y\n",
    "#X_train,y_train,X_test\n",
    "X_train=train.drop('Reached.on.Time_Y.N',axis=1)\n",
    "y_train=train['Reached.on.Time_Y.N']\n",
    "X_test=test.copy()"
   ]
  },
  {
   "cell_type": "code",
   "execution_count": 110,
   "metadata": {},
   "outputs": [
    {
     "data": {
      "text/plain": [
       "((6999, 18), (4000, 18), (6999,))"
      ]
     },
     "execution_count": 110,
     "metadata": {},
     "output_type": "execute_result"
    }
   ],
   "source": [
    "X_train.shape,X_test.shape,y_train.shape"
   ]
  },
  {
   "cell_type": "code",
   "execution_count": 111,
   "metadata": {},
   "outputs": [],
   "source": [
    "# DecisionTree\n",
    "from sklearn.tree import DecisionTreeClassifier\n",
    "tree = DecisionTreeClassifier(max_depth=4)"
   ]
  },
  {
   "cell_type": "code",
   "execution_count": 112,
   "metadata": {},
   "outputs": [
    {
     "data": {
      "text/plain": [
       "Customer_care_calls          0\n",
       "Customer_rating              0\n",
       "Cost_of_the_Product          0\n",
       "Prior_purchases              0\n",
       "Discount_offered             0\n",
       "Warehouse_block _A           0\n",
       "Warehouse_block _B           0\n",
       "Warehouse_block _C           0\n",
       "Warehouse_block _D           0\n",
       "Warehouse_block _F           0\n",
       "Mode_of_Shipment_Flight      0\n",
       "Mode_of_Shipment_Road        0\n",
       "Mode_of_Shipment_Ship        0\n",
       "Product_importance_high      0\n",
       "Product_importance_low       0\n",
       "Product_importance_medium    0\n",
       "Gender_F                     0\n",
       "Gender_M                     0\n",
       "dtype: int64"
      ]
     },
     "execution_count": 112,
     "metadata": {},
     "output_type": "execute_result"
    }
   ],
   "source": [
    "X_train.isnull().sum() # 결측치가 있어요 ㅠㅠㅠ"
   ]
  },
  {
   "cell_type": "code",
   "execution_count": 113,
   "metadata": {},
   "outputs": [
    {
     "data": {
      "text/plain": [
       "ID\n",
       "1        0.0\n",
       "2        6.0\n",
       "3        0.0\n",
       "4        2.0\n",
       "5        0.0\n",
       "        ... \n",
       "6995     4.0\n",
       "6996     0.0\n",
       "6997    10.0\n",
       "6998     0.0\n",
       "6999     0.0\n",
       "Name: Discount_offered, Length: 6999, dtype: float64"
      ]
     },
     "execution_count": 113,
     "metadata": {},
     "output_type": "execute_result"
    }
   ],
   "source": [
    "X_train['Discount_offered'] # 채워줘야 모델 돌릴 수 있을 것 같아요! 감사합니다"
   ]
  },
  {
   "cell_type": "code",
   "execution_count": 114,
   "metadata": {},
   "outputs": [
    {
     "data": {
      "text/plain": [
       "0"
      ]
     },
     "execution_count": 114,
     "metadata": {},
     "output_type": "execute_result"
    }
   ],
   "source": [
    "y_train.isnull().sum()"
   ]
  },
  {
   "cell_type": "code",
   "execution_count": 115,
   "metadata": {},
   "outputs": [
    {
     "data": {
      "text/plain": [
       "0.6126616971306035"
      ]
     },
     "execution_count": 115,
     "metadata": {},
     "output_type": "execute_result"
    }
   ],
   "source": [
    "# #교차검증\n",
    "from sklearn.model_selection import cross_val_score\n",
    "result = cross_val_score(tree,X_train,y_train,cv=5)\n",
    "result.mean()"
   ]
  },
  {
   "cell_type": "code",
   "execution_count": 116,
   "metadata": {},
   "outputs": [],
   "source": [
    "# 오류에서 nan 이라고 나오면 결측치가 있다는 뜻이에요"
   ]
  },
  {
   "cell_type": "markdown",
   "metadata": {},
   "source": [
    "# 6.학습"
   ]
  },
  {
   "cell_type": "code",
   "execution_count": 117,
   "metadata": {},
   "outputs": [
    {
     "data": {
      "text/plain": [
       "DecisionTreeClassifier(max_depth=4)"
      ]
     },
     "execution_count": 117,
     "metadata": {},
     "output_type": "execute_result"
    }
   ],
   "source": [
    "tree.fit(X_train,y_train)"
   ]
  },
  {
   "cell_type": "markdown",
   "metadata": {},
   "source": [
    "# 7.평가"
   ]
  },
  {
   "cell_type": "code",
   "execution_count": 118,
   "metadata": {},
   "outputs": [
    {
     "data": {
      "text/plain": [
       "0.6243749107015288"
      ]
     },
     "execution_count": 118,
     "metadata": {},
     "output_type": "execute_result"
    }
   ],
   "source": [
    "tree.score(X_train,y_train)"
   ]
  },
  {
   "cell_type": "code",
   "execution_count": 119,
   "metadata": {},
   "outputs": [],
   "source": [
    "pre=tree.predict(X_test)\n",
    "result = pd.read_csv('smhrd210615/sampleSubmission.csv')\n",
    "result['Reached.on.Time_Y.N']=pre\n",
    "result.to_csv('DT_esubmissoin_01.csv',index=False)"
   ]
  },
  {
   "cell_type": "markdown",
   "metadata": {},
   "source": [
    "# 5-1\n",
    "- RandomForest"
   ]
  },
  {
   "cell_type": "code",
   "execution_count": 120,
   "metadata": {},
   "outputs": [],
   "source": [
    "from sklearn.ensemble import RandomForestClassifier\n",
    "forest = RandomForestClassifier()"
   ]
  },
  {
   "cell_type": "markdown",
   "metadata": {},
   "source": [
    "# 6-1"
   ]
  },
  {
   "cell_type": "code",
   "execution_count": 121,
   "metadata": {},
   "outputs": [
    {
     "data": {
      "text/plain": [
       "RandomForestClassifier()"
      ]
     },
     "execution_count": 121,
     "metadata": {},
     "output_type": "execute_result"
    }
   ],
   "source": [
    "forest.fit(X_train,y_train)"
   ]
  },
  {
   "cell_type": "markdown",
   "metadata": {},
   "source": [
    "# 7-1"
   ]
  },
  {
   "cell_type": "code",
   "execution_count": 122,
   "metadata": {},
   "outputs": [
    {
     "data": {
      "text/plain": [
       "0.9977139591370195"
      ]
     },
     "execution_count": 122,
     "metadata": {},
     "output_type": "execute_result"
    }
   ],
   "source": [
    "forest.score(X_train,y_train)"
   ]
  },
  {
   "cell_type": "code",
   "execution_count": 123,
   "metadata": {},
   "outputs": [],
   "source": [
    "pre=forest.predict(X_test)\n",
    "result = pd.read_csv('smhrd210615/sampleSubmission.csv')\n",
    "result['Reached.on.Time_Y.N']=pre\n",
    "result.to_csv('forest4_esubmissoin_01.csv',index=False)"
   ]
  },
  {
   "cell_type": "markdown",
   "metadata": {},
   "source": [
    "# 5-2\n",
    "- KNN"
   ]
  },
  {
   "cell_type": "code",
   "execution_count": 124,
   "metadata": {},
   "outputs": [],
   "source": [
    "from sklearn.neighbors import KNeighborsClassifier\n",
    "knn = KNeighborsClassifier(n_neighbors=3)"
   ]
  },
  {
   "cell_type": "code",
   "execution_count": 125,
   "metadata": {},
   "outputs": [
    {
     "data": {
      "text/plain": [
       "0.5695122025936893"
      ]
     },
     "execution_count": 125,
     "metadata": {},
     "output_type": "execute_result"
    }
   ],
   "source": [
    "# #교차검증\n",
    "result = cross_val_score(knn,X_train,y_train,cv=5)\n",
    "result.mean()"
   ]
  },
  {
   "cell_type": "code",
   "execution_count": 126,
   "metadata": {},
   "outputs": [],
   "source": [
    "# # standardScaler받아오기\n",
    "from sklearn.preprocessing import StandardScaler"
   ]
  },
  {
   "cell_type": "code",
   "execution_count": 127,
   "metadata": {},
   "outputs": [],
   "source": [
    "scaler = StandardScaler()"
   ]
  },
  {
   "cell_type": "code",
   "execution_count": 128,
   "metadata": {},
   "outputs": [
    {
     "data": {
      "text/plain": [
       "StandardScaler()"
      ]
     },
     "execution_count": 128,
     "metadata": {},
     "output_type": "execute_result"
    }
   ],
   "source": [
    "# 범위 학습\n",
    "scaler.fit(X_train)"
   ]
  },
  {
   "cell_type": "code",
   "execution_count": 129,
   "metadata": {},
   "outputs": [
    {
     "data": {
      "text/html": [
       "<div>\n",
       "<style scoped>\n",
       "    .dataframe tbody tr th:only-of-type {\n",
       "        vertical-align: middle;\n",
       "    }\n",
       "\n",
       "    .dataframe tbody tr th {\n",
       "        vertical-align: top;\n",
       "    }\n",
       "\n",
       "    .dataframe thead th {\n",
       "        text-align: right;\n",
       "    }\n",
       "</style>\n",
       "<table border=\"1\" class=\"dataframe\">\n",
       "  <thead>\n",
       "    <tr style=\"text-align: right;\">\n",
       "      <th></th>\n",
       "      <th>Customer_care_calls</th>\n",
       "      <th>Customer_rating</th>\n",
       "      <th>Cost_of_the_Product</th>\n",
       "      <th>Prior_purchases</th>\n",
       "      <th>Discount_offered</th>\n",
       "      <th>Warehouse_block _A</th>\n",
       "      <th>Warehouse_block _B</th>\n",
       "      <th>Warehouse_block _C</th>\n",
       "      <th>Warehouse_block _D</th>\n",
       "      <th>Warehouse_block _F</th>\n",
       "      <th>Mode_of_Shipment_Flight</th>\n",
       "      <th>Mode_of_Shipment_Road</th>\n",
       "      <th>Mode_of_Shipment_Ship</th>\n",
       "      <th>Product_importance_high</th>\n",
       "      <th>Product_importance_low</th>\n",
       "      <th>Product_importance_medium</th>\n",
       "      <th>Gender_F</th>\n",
       "      <th>Gender_M</th>\n",
       "    </tr>\n",
       "    <tr>\n",
       "      <th>ID</th>\n",
       "      <th></th>\n",
       "      <th></th>\n",
       "      <th></th>\n",
       "      <th></th>\n",
       "      <th></th>\n",
       "      <th></th>\n",
       "      <th></th>\n",
       "      <th></th>\n",
       "      <th></th>\n",
       "      <th></th>\n",
       "      <th></th>\n",
       "      <th></th>\n",
       "      <th></th>\n",
       "      <th></th>\n",
       "      <th></th>\n",
       "      <th></th>\n",
       "      <th></th>\n",
       "      <th></th>\n",
       "    </tr>\n",
       "  </thead>\n",
       "  <tbody>\n",
       "    <tr>\n",
       "      <th>1</th>\n",
       "      <td>2.0</td>\n",
       "      <td>2</td>\n",
       "      <td>135</td>\n",
       "      <td>3.0</td>\n",
       "      <td>0.0</td>\n",
       "      <td>0</td>\n",
       "      <td>0</td>\n",
       "      <td>1</td>\n",
       "      <td>0</td>\n",
       "      <td>0</td>\n",
       "      <td>0</td>\n",
       "      <td>0</td>\n",
       "      <td>1</td>\n",
       "      <td>0</td>\n",
       "      <td>1</td>\n",
       "      <td>0</td>\n",
       "      <td>0</td>\n",
       "      <td>1</td>\n",
       "    </tr>\n",
       "    <tr>\n",
       "      <th>2</th>\n",
       "      <td>5.0</td>\n",
       "      <td>3</td>\n",
       "      <td>225</td>\n",
       "      <td>5.0</td>\n",
       "      <td>6.0</td>\n",
       "      <td>0</td>\n",
       "      <td>0</td>\n",
       "      <td>0</td>\n",
       "      <td>0</td>\n",
       "      <td>1</td>\n",
       "      <td>1</td>\n",
       "      <td>0</td>\n",
       "      <td>0</td>\n",
       "      <td>0</td>\n",
       "      <td>1</td>\n",
       "      <td>0</td>\n",
       "      <td>1</td>\n",
       "      <td>0</td>\n",
       "    </tr>\n",
       "    <tr>\n",
       "      <th>3</th>\n",
       "      <td>3.0</td>\n",
       "      <td>1</td>\n",
       "      <td>229</td>\n",
       "      <td>3.0</td>\n",
       "      <td>0.0</td>\n",
       "      <td>0</td>\n",
       "      <td>0</td>\n",
       "      <td>0</td>\n",
       "      <td>0</td>\n",
       "      <td>1</td>\n",
       "      <td>0</td>\n",
       "      <td>0</td>\n",
       "      <td>1</td>\n",
       "      <td>0</td>\n",
       "      <td>1</td>\n",
       "      <td>0</td>\n",
       "      <td>0</td>\n",
       "      <td>1</td>\n",
       "    </tr>\n",
       "    <tr>\n",
       "      <th>4</th>\n",
       "      <td>3.0</td>\n",
       "      <td>2</td>\n",
       "      <td>228</td>\n",
       "      <td>3.0</td>\n",
       "      <td>2.0</td>\n",
       "      <td>0</td>\n",
       "      <td>0</td>\n",
       "      <td>0</td>\n",
       "      <td>0</td>\n",
       "      <td>1</td>\n",
       "      <td>0</td>\n",
       "      <td>0</td>\n",
       "      <td>1</td>\n",
       "      <td>0</td>\n",
       "      <td>0</td>\n",
       "      <td>1</td>\n",
       "      <td>0</td>\n",
       "      <td>1</td>\n",
       "    </tr>\n",
       "    <tr>\n",
       "      <th>5</th>\n",
       "      <td>4.0</td>\n",
       "      <td>1</td>\n",
       "      <td>195</td>\n",
       "      <td>6.0</td>\n",
       "      <td>0.0</td>\n",
       "      <td>0</td>\n",
       "      <td>0</td>\n",
       "      <td>0</td>\n",
       "      <td>1</td>\n",
       "      <td>0</td>\n",
       "      <td>1</td>\n",
       "      <td>0</td>\n",
       "      <td>0</td>\n",
       "      <td>1</td>\n",
       "      <td>0</td>\n",
       "      <td>0</td>\n",
       "      <td>1</td>\n",
       "      <td>0</td>\n",
       "    </tr>\n",
       "  </tbody>\n",
       "</table>\n",
       "</div>"
      ],
      "text/plain": [
       "    Customer_care_calls  Customer_rating  Cost_of_the_Product  \\\n",
       "ID                                                              \n",
       "1                   2.0                2                  135   \n",
       "2                   5.0                3                  225   \n",
       "3                   3.0                1                  229   \n",
       "4                   3.0                2                  228   \n",
       "5                   4.0                1                  195   \n",
       "\n",
       "    Prior_purchases  Discount_offered  Warehouse_block _A  Warehouse_block _B  \\\n",
       "ID                                                                              \n",
       "1               3.0               0.0                   0                   0   \n",
       "2               5.0               6.0                   0                   0   \n",
       "3               3.0               0.0                   0                   0   \n",
       "4               3.0               2.0                   0                   0   \n",
       "5               6.0               0.0                   0                   0   \n",
       "\n",
       "    Warehouse_block _C  Warehouse_block _D  Warehouse_block _F  \\\n",
       "ID                                                               \n",
       "1                    1                   0                   0   \n",
       "2                    0                   0                   1   \n",
       "3                    0                   0                   1   \n",
       "4                    0                   0                   1   \n",
       "5                    0                   1                   0   \n",
       "\n",
       "    Mode_of_Shipment_Flight  Mode_of_Shipment_Road  Mode_of_Shipment_Ship  \\\n",
       "ID                                                                          \n",
       "1                         0                      0                      1   \n",
       "2                         1                      0                      0   \n",
       "3                         0                      0                      1   \n",
       "4                         0                      0                      1   \n",
       "5                         1                      0                      0   \n",
       "\n",
       "    Product_importance_high  Product_importance_low  \\\n",
       "ID                                                    \n",
       "1                         0                       1   \n",
       "2                         0                       1   \n",
       "3                         0                       1   \n",
       "4                         0                       0   \n",
       "5                         1                       0   \n",
       "\n",
       "    Product_importance_medium  Gender_F  Gender_M  \n",
       "ID                                                 \n",
       "1                           0         0         1  \n",
       "2                           0         1         0  \n",
       "3                           0         0         1  \n",
       "4                           1         0         1  \n",
       "5                           0         1         0  "
      ]
     },
     "execution_count": 129,
     "metadata": {},
     "output_type": "execute_result"
    }
   ],
   "source": [
    "X_train.head()"
   ]
  },
  {
   "cell_type": "code",
   "execution_count": 130,
   "metadata": {},
   "outputs": [],
   "source": [
    "# #학습된 범위로 값 변환\n",
    "trans_X_train=scaler.transform(X_train)\n",
    "trans_X_test=scaler.transform(X_test)"
   ]
  },
  {
   "cell_type": "code",
   "execution_count": 131,
   "metadata": {},
   "outputs": [
    {
     "data": {
      "text/plain": [
       "0.5406476054324518"
      ]
     },
     "execution_count": 131,
     "metadata": {},
     "output_type": "execute_result"
    }
   ],
   "source": [
    "result = cross_val_score(knn,trans_X_train,y_train,cv=5)\n",
    "result.mean()"
   ]
  },
  {
   "cell_type": "markdown",
   "metadata": {},
   "source": [
    "# 6-2"
   ]
  },
  {
   "cell_type": "code",
   "execution_count": 132,
   "metadata": {},
   "outputs": [
    {
     "data": {
      "text/plain": [
       "KNeighborsClassifier(n_neighbors=3)"
      ]
     },
     "execution_count": 132,
     "metadata": {},
     "output_type": "execute_result"
    }
   ],
   "source": [
    "knn.fit(X_train,y_train)"
   ]
  },
  {
   "cell_type": "markdown",
   "metadata": {},
   "source": [
    "# 7-2"
   ]
  },
  {
   "cell_type": "code",
   "execution_count": 133,
   "metadata": {},
   "outputs": [
    {
     "data": {
      "text/plain": [
       "0.7785397913987713"
      ]
     },
     "execution_count": 133,
     "metadata": {},
     "output_type": "execute_result"
    }
   ],
   "source": [
    "knn.score(X_train,y_train)"
   ]
  },
  {
   "cell_type": "code",
   "execution_count": 134,
   "metadata": {},
   "outputs": [],
   "source": [
    "pre=knn.predict(X_test)\n",
    "result = pd.read_csv('smhrd210615/sampleSubmission.csv')\n",
    "result['Reached.on.Time_Y.N']=pre\n",
    "result.to_csv('knn2_esubmissoin_01.csv',index=False)"
   ]
  },
  {
   "cell_type": "code",
   "execution_count": 135,
   "metadata": {},
   "outputs": [],
   "source": [
    "train_list=[]\n",
    "for k in range(1,101): # k: 이웃의 수\n",
    "    # 5. 모델 선택 및 하이퍼 파라미터 튜닝\n",
    "    model = KNeighborsClassifier(n_neighbors=k)\n",
    "    \n",
    "    # 6. 모델 학습\n",
    "    model.fit(X_train,y_train) \n",
    "    \n",
    "    # 7. 모델 평가\n",
    "    train_list.append(model.score(X_train,y_train))"
   ]
  },
  {
   "cell_type": "code",
   "execution_count": 136,
   "metadata": {},
   "outputs": [
    {
     "data": {
      "text/plain": [
       "[0.9977139591370195,\n",
       " 0.7846835262180312,\n",
       " 0.7785397913987713,\n",
       " 0.7241034433490499,\n",
       " 0.728818402628947,\n",
       " 0.7095299328475496,\n",
       " 0.7056722388912702,\n",
       " 0.6953850550078583,\n",
       " 0.696813830547221,\n",
       " 0.6803829118445492,\n",
       " 0.682811830261466,\n",
       " 0.6752393199028432,\n",
       " 0.6728104014859265,\n",
       " 0.6672381768824118,\n",
       " 0.6679525646520932,\n",
       " 0.6635233604800685,\n",
       " 0.6645235033576226,\n",
       " 0.6598085440777254,\n",
       " 0.6598085440777254,\n",
       " 0.6576653807686812,\n",
       " 0.6576653807686812,\n",
       " 0.6572367481068724,\n",
       " 0.6550935847978283,\n",
       " 0.6528075439348479,\n",
       " 0.6535219317045292,\n",
       " 0.6529504214887841,\n",
       " 0.6505215030718674,\n",
       " 0.6478068295470781,\n",
       " 0.6462351764537791,\n",
       " 0.6473781968852693,\n",
       " 0.6445206458065438,\n",
       " 0.6459494213459066,\n",
       " 0.6423774824974996,\n",
       " 0.642091727389627,\n",
       " 0.6443777682526075,\n",
       " 0.6408058294042006,\n",
       " 0.644092013144735,\n",
       " 0.6436633804829262,\n",
       " 0.644092013144735,\n",
       " 0.6436633804829262,\n",
       " 0.6452350335762251,\n",
       " 0.6400914416345193,\n",
       " 0.6463780540077154,\n",
       " 0.6409487069581369,\n",
       " 0.6412344620660094,\n",
       " 0.639948564080583,\n",
       " 0.6369481354479212,\n",
       " 0.6395199314187741,\n",
       " 0.6362337476782397,\n",
       " 0.6379482783254751,\n",
       " 0.636376625232176,\n",
       " 0.6350907272467495,\n",
       " 0.6335190741534505,\n",
       " 0.6356622374624946,\n",
       " 0.634804972138877,\n",
       " 0.6352336048006858,\n",
       " 0.6318045435062152,\n",
       " 0.6329475639377053,\n",
       " 0.6358051150164309,\n",
       " 0.6352336048006858,\n",
       " 0.6365195027861124,\n",
       " 0.6345192170310044,\n",
       " 0.6369481354479212,\n",
       " 0.6333761965995142,\n",
       " 0.6376625232176025,\n",
       " 0.6335190741534505,\n",
       " 0.6362337476782397,\n",
       " 0.6329475639377053,\n",
       " 0.634804972138877,\n",
       " 0.6338048292613231,\n",
       " 0.634804972138877,\n",
       " 0.6343763394770682,\n",
       " 0.6336619517073868,\n",
       " 0.6370910130018574,\n",
       " 0.6379482783254751,\n",
       " 0.6352336048006858,\n",
       " 0.6319474210601514,\n",
       " 0.6368052578939849,\n",
       " 0.6350907272467495,\n",
       " 0.6369481354479212,\n",
       " 0.6343763394770682,\n",
       " 0.634804972138877,\n",
       " 0.6365195027861124,\n",
       " 0.6342334619231319,\n",
       " 0.6343763394770682,\n",
       " 0.6332333190455779,\n",
       " 0.6313759108444064,\n",
       " 0.6300900128589798,\n",
       " 0.6302328904129161,\n",
       " 0.6302328904129161,\n",
       " 0.6305186455207887,\n",
       " 0.6289469924274896,\n",
       " 0.6273753393341907,\n",
       " 0.6259465637948278,\n",
       " 0.6239462780397199,\n",
       " 0.625517931133019,\n",
       " 0.6242320331475925,\n",
       " 0.6248035433633377,\n",
       " 0.6250892984712102,\n",
       " 0.6265180740105729]"
      ]
     },
     "execution_count": 136,
     "metadata": {},
     "output_type": "execute_result"
    }
   ],
   "source": [
    "train_list"
   ]
  },
  {
   "cell_type": "markdown",
   "metadata": {},
   "source": [
    "# 5-3\n",
    "- adaboost"
   ]
  },
  {
   "cell_type": "code",
   "execution_count": 137,
   "metadata": {},
   "outputs": [],
   "source": [
    "from sklearn.ensemble import AdaBoostClassifier"
   ]
  },
  {
   "cell_type": "code",
   "execution_count": 138,
   "metadata": {},
   "outputs": [],
   "source": [
    "adaboost = AdaBoostClassifier()"
   ]
  },
  {
   "cell_type": "markdown",
   "metadata": {},
   "source": [
    "# 6-4"
   ]
  },
  {
   "cell_type": "code",
   "execution_count": 139,
   "metadata": {},
   "outputs": [
    {
     "data": {
      "text/plain": [
       "AdaBoostClassifier()"
      ]
     },
     "execution_count": 139,
     "metadata": {},
     "output_type": "execute_result"
    }
   ],
   "source": [
    "adaboost.fit(X_train,y_train)"
   ]
  },
  {
   "cell_type": "code",
   "execution_count": 140,
   "metadata": {},
   "outputs": [
    {
     "data": {
      "text/plain": [
       "0.6258036862408916"
      ]
     },
     "execution_count": 140,
     "metadata": {},
     "output_type": "execute_result"
    }
   ],
   "source": [
    "adaboost.score(X_train,y_train)"
   ]
  },
  {
   "cell_type": "code",
   "execution_count": 141,
   "metadata": {},
   "outputs": [],
   "source": [
    "pre=adaboost.predict(X_test)\n",
    "result = pd.read_csv('smhrd210615/sampleSubmission.csv')\n",
    "result['Reached.on.Time_Y.N']=pre\n",
    "result.to_csv('adaboost_esubmissoin_01.csv',index=False)"
   ]
  },
  {
   "cell_type": "markdown",
   "metadata": {},
   "source": [
    "# 5-4 \n",
    "- GradientBoosting"
   ]
  },
  {
   "cell_type": "code",
   "execution_count": 142,
   "metadata": {},
   "outputs": [],
   "source": [
    "from sklearn.ensemble import GradientBoostingClassifier\n",
    "gdc = GradientBoostingClassifier()"
   ]
  },
  {
   "cell_type": "markdown",
   "metadata": {},
   "source": [
    "# 6-5"
   ]
  },
  {
   "cell_type": "code",
   "execution_count": 143,
   "metadata": {},
   "outputs": [
    {
     "data": {
      "text/plain": [
       "GradientBoostingClassifier()"
      ]
     },
     "execution_count": 143,
     "metadata": {},
     "output_type": "execute_result"
    }
   ],
   "source": [
    "gdc.fit(X_train,y_train)"
   ]
  },
  {
   "cell_type": "code",
   "execution_count": 144,
   "metadata": {},
   "outputs": [
    {
     "data": {
      "text/plain": [
       "0.6596656665237891"
      ]
     },
     "execution_count": 144,
     "metadata": {},
     "output_type": "execute_result"
    }
   ],
   "source": [
    "gdc.score(X_train,y_train)"
   ]
  },
  {
   "cell_type": "code",
   "execution_count": 145,
   "metadata": {},
   "outputs": [],
   "source": [
    "pre=gdc.predict(X_test)\n",
    "result = pd.read_csv('smhrd210615/sampleSubmission.csv')\n",
    "result['Reached.on.Time_Y.N']=pre\n",
    "result.to_csv('gdc_esubmissoin_01.csv',index=False)"
   ]
  },
  {
   "cell_type": "markdown",
   "metadata": {},
   "source": [
    "# 5-6\n",
    "- Light GBM"
   ]
  },
  {
   "cell_type": "code",
   "execution_count": 146,
   "metadata": {},
   "outputs": [
    {
     "name": "stdout",
     "output_type": "stream",
     "text": [
      "Requirement already satisfied: lightgbm in c:\\users\\sm2127\\anaconda3\\lib\\site-packages (3.2.1)\n",
      "Requirement already satisfied: scipy in c:\\users\\sm2127\\anaconda3\\lib\\site-packages (from lightgbm) (1.5.2)\n",
      "Requirement already satisfied: wheel in c:\\users\\sm2127\\anaconda3\\lib\\site-packages (from lightgbm) (0.35.1)\n",
      "Requirement already satisfied: numpy in c:\\users\\sm2127\\anaconda3\\lib\\site-packages (from lightgbm) (1.19.2)\n",
      "Requirement already satisfied: scikit-learn!=0.22.0 in c:\\users\\sm2127\\anaconda3\\lib\\site-packages (from lightgbm) (0.23.2)\n",
      "Requirement already satisfied: joblib>=0.11 in c:\\users\\sm2127\\anaconda3\\lib\\site-packages (from scikit-learn!=0.22.0->lightgbm) (0.17.0)\n",
      "Requirement already satisfied: threadpoolctl>=2.0.0 in c:\\users\\sm2127\\anaconda3\\lib\\site-packages (from scikit-learn!=0.22.0->lightgbm) (2.1.0)\n"
     ]
    }
   ],
   "source": [
    "!pip install lightgbm"
   ]
  },
  {
   "cell_type": "code",
   "execution_count": 147,
   "metadata": {},
   "outputs": [],
   "source": [
    "from lightgbm import LGBMClassifier"
   ]
  },
  {
   "cell_type": "code",
   "execution_count": 148,
   "metadata": {},
   "outputs": [],
   "source": [
    "lgb = LGBMClassifier()"
   ]
  },
  {
   "cell_type": "markdown",
   "metadata": {},
   "source": [
    "# 6-6"
   ]
  },
  {
   "cell_type": "code",
   "execution_count": 149,
   "metadata": {},
   "outputs": [
    {
     "data": {
      "text/plain": [
       "LGBMClassifier()"
      ]
     },
     "execution_count": 149,
     "metadata": {},
     "output_type": "execute_result"
    }
   ],
   "source": [
    "lgb.fit(X_train,y_train)"
   ]
  },
  {
   "cell_type": "markdown",
   "metadata": {},
   "source": [
    "# 7-6"
   ]
  },
  {
   "cell_type": "code",
   "execution_count": 150,
   "metadata": {},
   "outputs": [
    {
     "data": {
      "text/plain": [
       "0.7721103014716388"
      ]
     },
     "execution_count": 150,
     "metadata": {},
     "output_type": "execute_result"
    }
   ],
   "source": [
    "lgb.score(X_train,y_train)"
   ]
  },
  {
   "cell_type": "code",
   "execution_count": 151,
   "metadata": {},
   "outputs": [],
   "source": [
    "pre=lgb.predict(X_test)\n",
    "result = pd.read_csv('smhrd210615/sampleSubmission.csv')\n",
    "result['Reached.on.Time_Y.N']=pre\n",
    "result.to_csv('lgb_esubmissoin_01.csv',index=False)"
   ]
  },
  {
   "cell_type": "markdown",
   "metadata": {},
   "source": [
    "# 5-7\n",
    "- xgboost"
   ]
  },
  {
   "cell_type": "code",
   "execution_count": 152,
   "metadata": {},
   "outputs": [
    {
     "name": "stdout",
     "output_type": "stream",
     "text": [
      "Requirement already satisfied: xgboost in c:\\users\\sm2127\\anaconda3\\lib\\site-packages (1.4.2)\n",
      "Requirement already satisfied: scipy in c:\\users\\sm2127\\anaconda3\\lib\\site-packages (from xgboost) (1.5.2)\n",
      "Requirement already satisfied: numpy in c:\\users\\sm2127\\anaconda3\\lib\\site-packages (from xgboost) (1.19.2)\n"
     ]
    }
   ],
   "source": [
    "!pip install xgboost"
   ]
  },
  {
   "cell_type": "code",
   "execution_count": 153,
   "metadata": {},
   "outputs": [],
   "source": [
    "from xgboost import XGBClassifier"
   ]
  },
  {
   "cell_type": "code",
   "execution_count": 154,
   "metadata": {},
   "outputs": [],
   "source": [
    "xgb= XGBClassifier()"
   ]
  },
  {
   "cell_type": "markdown",
   "metadata": {},
   "source": [
    "# 6-7"
   ]
  },
  {
   "cell_type": "code",
   "execution_count": 155,
   "metadata": {},
   "outputs": [
    {
     "name": "stdout",
     "output_type": "stream",
     "text": [
      "[10:18:42] WARNING: C:/Users/Administrator/workspace/xgboost-win64_release_1.4.0/src/learner.cc:1095: Starting in XGBoost 1.3.0, the default evaluation metric used with the objective 'binary:logistic' was changed from 'error' to 'logloss'. Explicitly set eval_metric if you'd like to restore the old behavior.\n"
     ]
    },
    {
     "name": "stderr",
     "output_type": "stream",
     "text": [
      "C:\\Users\\SM2127\\anaconda3\\lib\\site-packages\\xgboost\\sklearn.py:1146: UserWarning: The use of label encoder in XGBClassifier is deprecated and will be removed in a future release. To remove this warning, do the following: 1) Pass option use_label_encoder=False when constructing XGBClassifier object; and 2) Encode your labels (y) as integers starting with 0, i.e. 0, 1, 2, ..., [num_class - 1].\n",
      "  warnings.warn(label_encoder_deprecation_msg, UserWarning)\n"
     ]
    },
    {
     "data": {
      "text/plain": [
       "XGBClassifier(base_score=0.5, booster='gbtree', colsample_bylevel=1,\n",
       "              colsample_bynode=1, colsample_bytree=1, gamma=0, gpu_id=-1,\n",
       "              importance_type='gain', interaction_constraints='',\n",
       "              learning_rate=0.300000012, max_delta_step=0, max_depth=6,\n",
       "              min_child_weight=1, missing=nan, monotone_constraints='()',\n",
       "              n_estimators=100, n_jobs=16, num_parallel_tree=1, random_state=0,\n",
       "              reg_alpha=0, reg_lambda=1, scale_pos_weight=1, subsample=1,\n",
       "              tree_method='exact', validate_parameters=1, verbosity=None)"
      ]
     },
     "execution_count": 155,
     "metadata": {},
     "output_type": "execute_result"
    }
   ],
   "source": [
    "xgb.fit(X_train,y_train)"
   ]
  },
  {
   "cell_type": "code",
   "execution_count": 156,
   "metadata": {},
   "outputs": [
    {
     "data": {
      "text/plain": [
       "0.8485497928275468"
      ]
     },
     "execution_count": 156,
     "metadata": {},
     "output_type": "execute_result"
    }
   ],
   "source": [
    "xgb.score(X_train,y_train)"
   ]
  },
  {
   "cell_type": "code",
   "execution_count": 157,
   "metadata": {},
   "outputs": [],
   "source": [
    "pre=xgb.predict(X_test)\n",
    "result = pd.read_csv('smhrd210615/sampleSubmission.csv')\n",
    "result['Reached.on.Time_Y.N']=pre\n",
    "result.to_csv('xgb_esubmissoin_01.csv',index=False)"
   ]
  },
  {
   "cell_type": "code",
   "execution_count": 158,
   "metadata": {},
   "outputs": [
    {
     "data": {
      "text/plain": [
       "(6999, 18)"
      ]
     },
     "execution_count": 158,
     "metadata": {},
     "output_type": "execute_result"
    }
   ],
   "source": [
    "X_train.shape"
   ]
  },
  {
   "cell_type": "code",
   "execution_count": 159,
   "metadata": {},
   "outputs": [],
   "source": [
    "#GridSearch\n",
    "# from sklearn.model_selection import GridSearchCV"
   ]
  },
  {
   "cell_type": "code",
   "execution_count": 160,
   "metadata": {},
   "outputs": [],
   "source": [
    "# param_grid={\n",
    "#      'max_depth' : [5,10,15,20], #트리의 깊이\n",
    "#      'n_estimators' :[1000,1500,2000,2500], #생성할 트리의 개수\n",
    "#      'max_features' : [0.5, 0.7], #무작위로 선택될 후보 특성의 개수\n",
    "#      'max_leaf_nodes' : [20,50,80], #말단 노드 최대 개수\n",
    "#      'min_samples_leaf' : [10,15,20] #말단 노드가 되기 위한 최소 샘플 수\n",
    "#  }"
   ]
  },
  {
   "cell_type": "code",
   "execution_count": 161,
   "metadata": {},
   "outputs": [],
   "source": [
    "# grid=GridSearchCV(forest, #gridSearch에 사용할 모델\n",
    "#                   param_grid, #튜닝할 매개변수\n",
    "#                   cv=5, #k겹 교차검증\n",
    "#                   verbose=3 #현재 진행중인 학습 열람\n",
    "#                   )"
   ]
  },
  {
   "cell_type": "code",
   "execution_count": 162,
   "metadata": {},
   "outputs": [],
   "source": [
    "# grid.fit(X_train,y_train)"
   ]
  },
  {
   "cell_type": "code",
   "execution_count": 163,
   "metadata": {},
   "outputs": [],
   "source": [
    "# print(\"최적의 파라미터: \",grid.best_params_)\n",
    "# print(\"최고 예측 점수: \",grid.best_score_)"
   ]
  },
  {
   "cell_type": "code",
   "execution_count": null,
   "metadata": {},
   "outputs": [],
   "source": []
  }
 ],
 "metadata": {
  "kernelspec": {
   "display_name": "Python 3",
   "language": "python",
   "name": "python3"
  },
  "language_info": {
   "codemirror_mode": {
    "name": "ipython",
    "version": 3
   },
   "file_extension": ".py",
   "mimetype": "text/x-python",
   "name": "python",
   "nbconvert_exporter": "python",
   "pygments_lexer": "ipython3",
   "version": "3.6.13"
  }
 },
 "nbformat": 4,
 "nbformat_minor": 4
}
